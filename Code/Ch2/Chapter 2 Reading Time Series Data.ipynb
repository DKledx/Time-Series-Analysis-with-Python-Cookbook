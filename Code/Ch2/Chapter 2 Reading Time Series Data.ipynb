{
 "cells": [
  {
   "cell_type": "code",
   "execution_count": 2,
   "id": "3ad392fb",
   "metadata": {},
   "outputs": [],
   "source": [
    "import pandas as pd"
   ]
  },
  {
   "cell_type": "markdown",
   "id": "bbecdada",
   "metadata": {},
   "source": [
    "# Getting data from BoxOfficeMojo\n",
    "* Read data from BoxOfficeMojo \n",
    "* Do some basic cleaning and formatting \n",
    "* Write as CSV file"
   ]
  },
  {
   "cell_type": "code",
   "execution_count": 118,
   "id": "36bc4f99",
   "metadata": {},
   "outputs": [],
   "source": [
    "results = pd.read_html('https://www.boxofficemojo.com/release/rl3059975681')"
   ]
  },
  {
   "cell_type": "code",
   "execution_count": 119,
   "id": "80e02406",
   "metadata": {},
   "outputs": [],
   "source": [
    "filepath = Path('datasets/boxofficemojo_avengers_endgame.csv')"
   ]
  },
  {
   "cell_type": "code",
   "execution_count": 120,
   "id": "ef8f6e31",
   "metadata": {
    "scrolled": true
   },
   "outputs": [
    {
     "data": {
      "text/html": [
       "<div>\n",
       "<style scoped>\n",
       "    .dataframe tbody tr th:only-of-type {\n",
       "        vertical-align: middle;\n",
       "    }\n",
       "\n",
       "    .dataframe tbody tr th {\n",
       "        vertical-align: top;\n",
       "    }\n",
       "\n",
       "    .dataframe thead th {\n",
       "        text-align: right;\n",
       "    }\n",
       "</style>\n",
       "<table border=\"1\" class=\"dataframe\">\n",
       "  <thead>\n",
       "    <tr style=\"text-align: right;\">\n",
       "      <th></th>\n",
       "      <th>Date</th>\n",
       "      <th>DOW</th>\n",
       "      <th>Rank</th>\n",
       "      <th>Daily</th>\n",
       "      <th>%± YD</th>\n",
       "      <th>%± LW</th>\n",
       "      <th>Theaters</th>\n",
       "      <th>Avg</th>\n",
       "      <th>To Date</th>\n",
       "      <th>Day</th>\n",
       "      <th>Estimated</th>\n",
       "    </tr>\n",
       "  </thead>\n",
       "  <tbody>\n",
       "    <tr>\n",
       "      <th>0</th>\n",
       "      <td>Apr 26, 2019</td>\n",
       "      <td>Friday</td>\n",
       "      <td>1</td>\n",
       "      <td>$157,461,641</td>\n",
       "      <td>-</td>\n",
       "      <td>-</td>\n",
       "      <td>4662</td>\n",
       "      <td>$33,775</td>\n",
       "      <td>$157,461,641</td>\n",
       "      <td>1</td>\n",
       "      <td>False</td>\n",
       "    </tr>\n",
       "    <tr>\n",
       "      <th>1</th>\n",
       "      <td>Apr 27, 2019</td>\n",
       "      <td>Saturday</td>\n",
       "      <td>1</td>\n",
       "      <td>$109,264,122</td>\n",
       "      <td>-30.6%</td>\n",
       "      <td>-</td>\n",
       "      <td>4662</td>\n",
       "      <td>$23,437</td>\n",
       "      <td>$266,725,763</td>\n",
       "      <td>2</td>\n",
       "      <td>False</td>\n",
       "    </tr>\n",
       "    <tr>\n",
       "      <th>2</th>\n",
       "      <td>Apr 28, 2019</td>\n",
       "      <td>Sunday</td>\n",
       "      <td>1</td>\n",
       "      <td>$90,389,244</td>\n",
       "      <td>-17.3%</td>\n",
       "      <td>-</td>\n",
       "      <td>4662</td>\n",
       "      <td>$19,388</td>\n",
       "      <td>$357,115,007</td>\n",
       "      <td>3</td>\n",
       "      <td>False</td>\n",
       "    </tr>\n",
       "    <tr>\n",
       "      <th>3</th>\n",
       "      <td>Apr 29, 2019</td>\n",
       "      <td>Monday</td>\n",
       "      <td>1</td>\n",
       "      <td>$36,874,439</td>\n",
       "      <td>-59.2%</td>\n",
       "      <td>-</td>\n",
       "      <td>4662</td>\n",
       "      <td>$7,909</td>\n",
       "      <td>$393,989,446</td>\n",
       "      <td>4</td>\n",
       "      <td>False</td>\n",
       "    </tr>\n",
       "    <tr>\n",
       "      <th>4</th>\n",
       "      <td>Apr 30, 2019</td>\n",
       "      <td>Tuesday</td>\n",
       "      <td>1</td>\n",
       "      <td>$33,110,349</td>\n",
       "      <td>-10.2%</td>\n",
       "      <td>-</td>\n",
       "      <td>4662</td>\n",
       "      <td>$7,102</td>\n",
       "      <td>$427,099,795</td>\n",
       "      <td>5</td>\n",
       "      <td>False</td>\n",
       "    </tr>\n",
       "  </tbody>\n",
       "</table>\n",
       "</div>"
      ],
      "text/plain": [
       "           Date       DOW  Rank         Daily   %± YD %± LW  Theaters  \\\n",
       "0  Apr 26, 2019    Friday     1  $157,461,641       -     -      4662   \n",
       "1  Apr 27, 2019  Saturday     1  $109,264,122  -30.6%     -      4662   \n",
       "2  Apr 28, 2019    Sunday     1   $90,389,244  -17.3%     -      4662   \n",
       "3  Apr 29, 2019    Monday     1   $36,874,439  -59.2%     -      4662   \n",
       "4  Apr 30, 2019   Tuesday     1   $33,110,349  -10.2%     -      4662   \n",
       "\n",
       "       Avg       To Date  Day  Estimated  \n",
       "0  $33,775  $157,461,641    1      False  \n",
       "1  $23,437  $266,725,763    2      False  \n",
       "2  $19,388  $357,115,007    3      False  \n",
       "3   $7,909  $393,989,446    4      False  \n",
       "4   $7,102  $427,099,795    5      False  "
      ]
     },
     "execution_count": 120,
     "metadata": {},
     "output_type": "execute_result"
    }
   ],
   "source": [
    "ts = results[0]\n",
    "ts.head()"
   ]
  },
  {
   "cell_type": "code",
   "execution_count": 121,
   "id": "3368fe44",
   "metadata": {},
   "outputs": [],
   "source": [
    "ts['Daily'] = ts['Daily'].str.replace(\",\", \"\")\n",
    "ts['Daily'] = ts['Daily'].str[1:].astype(int)\n",
    "ts['Avg'] = ts['Avg'].str.replace(\",\", \"\")\n",
    "ts['Avg'] = ts['Avg'].str[1:].astype(int)\n",
    "ts['To Date'] = ts['To Date'].str.replace(\",\", \"\")\n",
    "ts['To Date'] = ts['To Date'].str[1:].astype(int)"
   ]
  },
  {
   "cell_type": "code",
   "execution_count": 122,
   "id": "e5770487",
   "metadata": {},
   "outputs": [],
   "source": [
    "ts.to_csv(filepath, index=False)"
   ]
  },
  {
   "cell_type": "markdown",
   "id": "c419f359",
   "metadata": {},
   "source": [
    "## Reading Time Series Data in CSV format "
   ]
  },
  {
   "cell_type": "code",
   "execution_count": 123,
   "id": "07096a00",
   "metadata": {},
   "outputs": [
    {
     "data": {
      "text/plain": [
       "PosixPath('/Users/tarekatwan/Downloads/mining-data-time-series/script and datasets')"
      ]
     },
     "execution_count": 123,
     "metadata": {},
     "output_type": "execute_result"
    }
   ],
   "source": [
    "from pathlib import Path\n",
    "\n",
    "Path.cwd()"
   ]
  },
  {
   "cell_type": "markdown",
   "id": "9434fa1f",
   "metadata": {},
   "source": [
    "Using `parse_dates`"
   ]
  },
  {
   "cell_type": "code",
   "execution_count": 161,
   "id": "13b8e3b4",
   "metadata": {},
   "outputs": [
    {
     "data": {
      "text/html": [
       "<div>\n",
       "<style scoped>\n",
       "    .dataframe tbody tr th:only-of-type {\n",
       "        vertical-align: middle;\n",
       "    }\n",
       "\n",
       "    .dataframe tbody tr th {\n",
       "        vertical-align: top;\n",
       "    }\n",
       "\n",
       "    .dataframe thead th {\n",
       "        text-align: right;\n",
       "    }\n",
       "</style>\n",
       "<table border=\"1\" class=\"dataframe\">\n",
       "  <thead>\n",
       "    <tr style=\"text-align: right;\">\n",
       "      <th></th>\n",
       "      <th>DOW</th>\n",
       "      <th>Rank</th>\n",
       "      <th>Daily</th>\n",
       "      <th>%± YD</th>\n",
       "      <th>%± LW</th>\n",
       "      <th>Theaters</th>\n",
       "      <th>Avg</th>\n",
       "      <th>To Date</th>\n",
       "      <th>Day</th>\n",
       "      <th>Estimated</th>\n",
       "    </tr>\n",
       "    <tr>\n",
       "      <th>Date</th>\n",
       "      <th></th>\n",
       "      <th></th>\n",
       "      <th></th>\n",
       "      <th></th>\n",
       "      <th></th>\n",
       "      <th></th>\n",
       "      <th></th>\n",
       "      <th></th>\n",
       "      <th></th>\n",
       "      <th></th>\n",
       "    </tr>\n",
       "  </thead>\n",
       "  <tbody>\n",
       "    <tr>\n",
       "      <th>2019-04-26</th>\n",
       "      <td>Friday</td>\n",
       "      <td>1</td>\n",
       "      <td>157461641</td>\n",
       "      <td>-</td>\n",
       "      <td>-</td>\n",
       "      <td>4662</td>\n",
       "      <td>33775</td>\n",
       "      <td>157461641</td>\n",
       "      <td>1</td>\n",
       "      <td>False</td>\n",
       "    </tr>\n",
       "    <tr>\n",
       "      <th>2019-04-27</th>\n",
       "      <td>Saturday</td>\n",
       "      <td>1</td>\n",
       "      <td>109264122</td>\n",
       "      <td>-30.6%</td>\n",
       "      <td>-</td>\n",
       "      <td>4662</td>\n",
       "      <td>23437</td>\n",
       "      <td>266725763</td>\n",
       "      <td>2</td>\n",
       "      <td>False</td>\n",
       "    </tr>\n",
       "    <tr>\n",
       "      <th>2019-04-28</th>\n",
       "      <td>Sunday</td>\n",
       "      <td>1</td>\n",
       "      <td>90389244</td>\n",
       "      <td>-17.3%</td>\n",
       "      <td>-</td>\n",
       "      <td>4662</td>\n",
       "      <td>19388</td>\n",
       "      <td>357115007</td>\n",
       "      <td>3</td>\n",
       "      <td>False</td>\n",
       "    </tr>\n",
       "    <tr>\n",
       "      <th>2019-04-29</th>\n",
       "      <td>Monday</td>\n",
       "      <td>1</td>\n",
       "      <td>36874439</td>\n",
       "      <td>-59.2%</td>\n",
       "      <td>-</td>\n",
       "      <td>4662</td>\n",
       "      <td>7909</td>\n",
       "      <td>393989446</td>\n",
       "      <td>4</td>\n",
       "      <td>False</td>\n",
       "    </tr>\n",
       "    <tr>\n",
       "      <th>2019-04-30</th>\n",
       "      <td>Tuesday</td>\n",
       "      <td>1</td>\n",
       "      <td>33110349</td>\n",
       "      <td>-10.2%</td>\n",
       "      <td>-</td>\n",
       "      <td>4662</td>\n",
       "      <td>7102</td>\n",
       "      <td>427099795</td>\n",
       "      <td>5</td>\n",
       "      <td>False</td>\n",
       "    </tr>\n",
       "  </tbody>\n",
       "</table>\n",
       "</div>"
      ],
      "text/plain": [
       "                 DOW  Rank      Daily   %± YD %± LW  Theaters    Avg  \\\n",
       "Date                                                                   \n",
       "2019-04-26    Friday     1  157461641       -     -      4662  33775   \n",
       "2019-04-27  Saturday     1  109264122  -30.6%     -      4662  23437   \n",
       "2019-04-28    Sunday     1   90389244  -17.3%     -      4662  19388   \n",
       "2019-04-29    Monday     1   36874439  -59.2%     -      4662   7909   \n",
       "2019-04-30   Tuesday     1   33110349  -10.2%     -      4662   7102   \n",
       "\n",
       "              To Date  Day  Estimated  \n",
       "Date                                   \n",
       "2019-04-26  157461641    1      False  \n",
       "2019-04-27  266725763    2      False  \n",
       "2019-04-28  357115007    3      False  \n",
       "2019-04-29  393989446    4      False  \n",
       "2019-04-30  427099795    5      False  "
      ]
     },
     "execution_count": 161,
     "metadata": {},
     "output_type": "execute_result"
    }
   ],
   "source": [
    "ts = pd.read_csv(filepath,\n",
    "                header=0,\n",
    "                parse_dates=[0],\n",
    "                index_col=0,\n",
    "                infer_datetime_format=True)\n",
    "ts.head()"
   ]
  },
  {
   "cell_type": "code",
   "execution_count": 144,
   "id": "73ae70c6",
   "metadata": {},
   "outputs": [
    {
     "data": {
      "text/plain": [
       "DatetimeIndex(['2019-04-26', '2019-04-27', '2019-04-28', '2019-04-29',\n",
       "               '2019-04-30', '2019-05-01', '2019-05-02', '2019-05-03',\n",
       "               '2019-05-04', '2019-05-05',\n",
       "               ...\n",
       "               '2019-09-03', '2019-09-04', '2019-09-05', '2019-09-06',\n",
       "               '2019-09-07', '2019-09-08', '2019-09-09', '2019-09-10',\n",
       "               '2019-09-11', '2019-09-12'],\n",
       "              dtype='datetime64[ns]', name='Date', length=140, freq=None)"
      ]
     },
     "execution_count": 144,
     "metadata": {},
     "output_type": "execute_result"
    }
   ],
   "source": [
    "ts.index"
   ]
  },
  {
   "cell_type": "markdown",
   "id": "febc5b4d",
   "metadata": {},
   "source": [
    "using `date_parser` for more complex situations"
   ]
  },
  {
   "cell_type": "code",
   "execution_count": 162,
   "id": "fd752c9c",
   "metadata": {},
   "outputs": [
    {
     "data": {
      "text/html": [
       "<div>\n",
       "<style scoped>\n",
       "    .dataframe tbody tr th:only-of-type {\n",
       "        vertical-align: middle;\n",
       "    }\n",
       "\n",
       "    .dataframe tbody tr th {\n",
       "        vertical-align: top;\n",
       "    }\n",
       "\n",
       "    .dataframe thead th {\n",
       "        text-align: right;\n",
       "    }\n",
       "</style>\n",
       "<table border=\"1\" class=\"dataframe\">\n",
       "  <thead>\n",
       "    <tr style=\"text-align: right;\">\n",
       "      <th></th>\n",
       "      <th>DOW</th>\n",
       "      <th>Rank</th>\n",
       "      <th>Daily</th>\n",
       "      <th>%± YD</th>\n",
       "      <th>%± LW</th>\n",
       "      <th>Theaters</th>\n",
       "      <th>Avg</th>\n",
       "      <th>To Date</th>\n",
       "      <th>Day</th>\n",
       "      <th>Estimated</th>\n",
       "    </tr>\n",
       "    <tr>\n",
       "      <th>Date</th>\n",
       "      <th></th>\n",
       "      <th></th>\n",
       "      <th></th>\n",
       "      <th></th>\n",
       "      <th></th>\n",
       "      <th></th>\n",
       "      <th></th>\n",
       "      <th></th>\n",
       "      <th></th>\n",
       "      <th></th>\n",
       "    </tr>\n",
       "  </thead>\n",
       "  <tbody>\n",
       "    <tr>\n",
       "      <th>2019-04-26</th>\n",
       "      <td>Friday</td>\n",
       "      <td>1</td>\n",
       "      <td>157461641</td>\n",
       "      <td>-</td>\n",
       "      <td>-</td>\n",
       "      <td>4662</td>\n",
       "      <td>33775</td>\n",
       "      <td>157461641</td>\n",
       "      <td>1</td>\n",
       "      <td>False</td>\n",
       "    </tr>\n",
       "    <tr>\n",
       "      <th>2019-04-27</th>\n",
       "      <td>Saturday</td>\n",
       "      <td>1</td>\n",
       "      <td>109264122</td>\n",
       "      <td>-30.6%</td>\n",
       "      <td>-</td>\n",
       "      <td>4662</td>\n",
       "      <td>23437</td>\n",
       "      <td>266725763</td>\n",
       "      <td>2</td>\n",
       "      <td>False</td>\n",
       "    </tr>\n",
       "    <tr>\n",
       "      <th>2019-04-28</th>\n",
       "      <td>Sunday</td>\n",
       "      <td>1</td>\n",
       "      <td>90389244</td>\n",
       "      <td>-17.3%</td>\n",
       "      <td>-</td>\n",
       "      <td>4662</td>\n",
       "      <td>19388</td>\n",
       "      <td>357115007</td>\n",
       "      <td>3</td>\n",
       "      <td>False</td>\n",
       "    </tr>\n",
       "    <tr>\n",
       "      <th>2019-04-29</th>\n",
       "      <td>Monday</td>\n",
       "      <td>1</td>\n",
       "      <td>36874439</td>\n",
       "      <td>-59.2%</td>\n",
       "      <td>-</td>\n",
       "      <td>4662</td>\n",
       "      <td>7909</td>\n",
       "      <td>393989446</td>\n",
       "      <td>4</td>\n",
       "      <td>False</td>\n",
       "    </tr>\n",
       "    <tr>\n",
       "      <th>2019-04-30</th>\n",
       "      <td>Tuesday</td>\n",
       "      <td>1</td>\n",
       "      <td>33110349</td>\n",
       "      <td>-10.2%</td>\n",
       "      <td>-</td>\n",
       "      <td>4662</td>\n",
       "      <td>7102</td>\n",
       "      <td>427099795</td>\n",
       "      <td>5</td>\n",
       "      <td>False</td>\n",
       "    </tr>\n",
       "  </tbody>\n",
       "</table>\n",
       "</div>"
      ],
      "text/plain": [
       "                 DOW  Rank      Daily   %± YD %± LW  Theaters    Avg  \\\n",
       "Date                                                                   \n",
       "2019-04-26    Friday     1  157461641       -     -      4662  33775   \n",
       "2019-04-27  Saturday     1  109264122  -30.6%     -      4662  23437   \n",
       "2019-04-28    Sunday     1   90389244  -17.3%     -      4662  19388   \n",
       "2019-04-29    Monday     1   36874439  -59.2%     -      4662   7909   \n",
       "2019-04-30   Tuesday     1   33110349  -10.2%     -      4662   7102   \n",
       "\n",
       "              To Date  Day  Estimated  \n",
       "Date                                   \n",
       "2019-04-26  157461641    1      False  \n",
       "2019-04-27  266725763    2      False  \n",
       "2019-04-28  357115007    3      False  \n",
       "2019-04-29  393989446    4      False  \n",
       "2019-04-30  427099795    5      False  "
      ]
     },
     "execution_count": 162,
     "metadata": {},
     "output_type": "execute_result"
    }
   ],
   "source": [
    "from datetime import datetime\n",
    "\n",
    "date_parser = lambda x: datetime.strptime(x, \"%b %d, %Y\")\n",
    "\n",
    "ts = pd.read_csv(filepath,\n",
    "                header=0,\n",
    "                parse_dates=[0],\n",
    "               index_col=0,\n",
    "                date_parser=date_parser)\n",
    "ts.head()"
   ]
  },
  {
   "cell_type": "code",
   "execution_count": 163,
   "id": "9a49b39e",
   "metadata": {
    "scrolled": true
   },
   "outputs": [
    {
     "name": "stdout",
     "output_type": "stream",
     "text": [
      "<class 'pandas.core.frame.DataFrame'>\n",
      "DatetimeIndex: 140 entries, 2019-04-26 to 2019-09-12\n",
      "Data columns (total 10 columns):\n",
      " #   Column     Non-Null Count  Dtype \n",
      "---  ------     --------------  ----- \n",
      " 0   DOW        140 non-null    object\n",
      " 1   Rank       140 non-null    int64 \n",
      " 2   Daily      140 non-null    int64 \n",
      " 3   %± YD      140 non-null    object\n",
      " 4   %± LW      140 non-null    object\n",
      " 5   Theaters   140 non-null    int64 \n",
      " 6   Avg        140 non-null    int64 \n",
      " 7   To Date    140 non-null    int64 \n",
      " 8   Day        140 non-null    int64 \n",
      " 9   Estimated  140 non-null    bool  \n",
      "dtypes: bool(1), int64(6), object(3)\n",
      "memory usage: 11.1+ KB\n"
     ]
    }
   ],
   "source": [
    "ts.info()"
   ]
  },
  {
   "cell_type": "code",
   "execution_count": 164,
   "id": "1346d71a",
   "metadata": {},
   "outputs": [
    {
     "data": {
      "text/plain": [
       "DatetimeIndex(['2019-04-26', '2019-04-27', '2019-04-28', '2019-04-29',\n",
       "               '2019-04-30', '2019-05-01', '2019-05-02', '2019-05-03',\n",
       "               '2019-05-04', '2019-05-05',\n",
       "               ...\n",
       "               '2019-09-03', '2019-09-04', '2019-09-05', '2019-09-06',\n",
       "               '2019-09-07', '2019-09-08', '2019-09-09', '2019-09-10',\n",
       "               '2019-09-11', '2019-09-12'],\n",
       "              dtype='datetime64[ns]', name='Date', length=140, freq=None)"
      ]
     },
     "execution_count": 164,
     "metadata": {},
     "output_type": "execute_result"
    }
   ],
   "source": [
    "ts.index"
   ]
  },
  {
   "cell_type": "code",
   "execution_count": 165,
   "id": "8431dbce",
   "metadata": {},
   "outputs": [
    {
     "data": {
      "text/plain": [
       "<AxesSubplot:xlabel='Date'>"
      ]
     },
     "execution_count": 165,
     "metadata": {},
     "output_type": "execute_result"
    },
    {
     "data": {
      "image/png": "[encoded data removed]",
      "text/plain": [
       "<Figure size 432x288 with 1 Axes>"
      ]
     },
     "metadata": {
      "needs_background": "light"
     },
     "output_type": "display_data"
    }
   ],
   "source": [
    "ts['Daily'].plot()"
   ]
  },
  {
   "cell_type": "code",
   "execution_count": 166,
   "id": "a0eefadc",
   "metadata": {},
   "outputs": [
    {
     "name": "stdout",
     "output_type": "stream",
     "text": [
      "CPU times: user 2 µs, sys: 0 ns, total: 2 µs\n",
      "Wall time: 4.77 µs\n"
     ]
    },
    {
     "data": {
      "text/html": [
       "<div>\n",
       "<style scoped>\n",
       "    .dataframe tbody tr th:only-of-type {\n",
       "        vertical-align: middle;\n",
       "    }\n",
       "\n",
       "    .dataframe tbody tr th {\n",
       "        vertical-align: top;\n",
       "    }\n",
       "\n",
       "    .dataframe thead th {\n",
       "        text-align: right;\n",
       "    }\n",
       "</style>\n",
       "<table border=\"1\" class=\"dataframe\">\n",
       "  <thead>\n",
       "    <tr style=\"text-align: right;\">\n",
       "      <th></th>\n",
       "      <th>DOW</th>\n",
       "      <th>Rank</th>\n",
       "      <th>Daily</th>\n",
       "      <th>%± YD</th>\n",
       "      <th>%± LW</th>\n",
       "      <th>Theaters</th>\n",
       "      <th>Avg</th>\n",
       "      <th>To Date</th>\n",
       "      <th>Day</th>\n",
       "      <th>Estimated</th>\n",
       "    </tr>\n",
       "    <tr>\n",
       "      <th>Date</th>\n",
       "      <th></th>\n",
       "      <th></th>\n",
       "      <th></th>\n",
       "      <th></th>\n",
       "      <th></th>\n",
       "      <th></th>\n",
       "      <th></th>\n",
       "      <th></th>\n",
       "      <th></th>\n",
       "      <th></th>\n",
       "    </tr>\n",
       "  </thead>\n",
       "  <tbody>\n",
       "    <tr>\n",
       "      <th>2019-04-26</th>\n",
       "      <td>Friday</td>\n",
       "      <td>1</td>\n",
       "      <td>157461641</td>\n",
       "      <td>-</td>\n",
       "      <td>-</td>\n",
       "      <td>4662</td>\n",
       "      <td>33775</td>\n",
       "      <td>157461641</td>\n",
       "      <td>1</td>\n",
       "      <td>False</td>\n",
       "    </tr>\n",
       "    <tr>\n",
       "      <th>2019-04-27</th>\n",
       "      <td>Saturday</td>\n",
       "      <td>1</td>\n",
       "      <td>109264122</td>\n",
       "      <td>-30.6%</td>\n",
       "      <td>-</td>\n",
       "      <td>4662</td>\n",
       "      <td>23437</td>\n",
       "      <td>266725763</td>\n",
       "      <td>2</td>\n",
       "      <td>False</td>\n",
       "    </tr>\n",
       "    <tr>\n",
       "      <th>2019-04-28</th>\n",
       "      <td>Sunday</td>\n",
       "      <td>1</td>\n",
       "      <td>90389244</td>\n",
       "      <td>-17.3%</td>\n",
       "      <td>-</td>\n",
       "      <td>4662</td>\n",
       "      <td>19388</td>\n",
       "      <td>357115007</td>\n",
       "      <td>3</td>\n",
       "      <td>False</td>\n",
       "    </tr>\n",
       "    <tr>\n",
       "      <th>2019-04-29</th>\n",
       "      <td>Monday</td>\n",
       "      <td>1</td>\n",
       "      <td>36874439</td>\n",
       "      <td>-59.2%</td>\n",
       "      <td>-</td>\n",
       "      <td>4662</td>\n",
       "      <td>7909</td>\n",
       "      <td>393989446</td>\n",
       "      <td>4</td>\n",
       "      <td>False</td>\n",
       "    </tr>\n",
       "    <tr>\n",
       "      <th>2019-04-30</th>\n",
       "      <td>Tuesday</td>\n",
       "      <td>1</td>\n",
       "      <td>33110349</td>\n",
       "      <td>-10.2%</td>\n",
       "      <td>-</td>\n",
       "      <td>4662</td>\n",
       "      <td>7102</td>\n",
       "      <td>427099795</td>\n",
       "      <td>5</td>\n",
       "      <td>False</td>\n",
       "    </tr>\n",
       "  </tbody>\n",
       "</table>\n",
       "</div>"
      ],
      "text/plain": [
       "                 DOW  Rank      Daily   %± YD %± LW  Theaters    Avg  \\\n",
       "Date                                                                   \n",
       "2019-04-26    Friday     1  157461641       -     -      4662  33775   \n",
       "2019-04-27  Saturday     1  109264122  -30.6%     -      4662  23437   \n",
       "2019-04-28    Sunday     1   90389244  -17.3%     -      4662  19388   \n",
       "2019-04-29    Monday     1   36874439  -59.2%     -      4662   7909   \n",
       "2019-04-30   Tuesday     1   33110349  -10.2%     -      4662   7102   \n",
       "\n",
       "              To Date  Day  Estimated  \n",
       "Date                                   \n",
       "2019-04-26  157461641    1      False  \n",
       "2019-04-27  266725763    2      False  \n",
       "2019-04-28  357115007    3      False  \n",
       "2019-04-29  393989446    4      False  \n",
       "2019-04-30  427099795    5      False  "
      ]
     },
     "execution_count": 166,
     "metadata": {},
     "output_type": "execute_result"
    }
   ],
   "source": [
    "%time\n",
    "ts_1 = pd.read_csv(filepath_or_buffer=filepath,\n",
    "                sep=',',\n",
    "                header=0,\n",
    "                parse_dates=[0],\n",
    "                index_col=0,\n",
    "                infer_datetime_format=False)\n",
    "ts_1.head()"
   ]
  },
  {
   "cell_type": "code",
   "execution_count": 167,
   "id": "5e9c7454",
   "metadata": {},
   "outputs": [
    {
     "name": "stdout",
     "output_type": "stream",
     "text": [
      "CPU times: user 1e+03 ns, sys: 0 ns, total: 1e+03 ns\n",
      "Wall time: 3.81 µs\n"
     ]
    },
    {
     "data": {
      "text/html": [
       "<div>\n",
       "<style scoped>\n",
       "    .dataframe tbody tr th:only-of-type {\n",
       "        vertical-align: middle;\n",
       "    }\n",
       "\n",
       "    .dataframe tbody tr th {\n",
       "        vertical-align: top;\n",
       "    }\n",
       "\n",
       "    .dataframe thead th {\n",
       "        text-align: right;\n",
       "    }\n",
       "</style>\n",
       "<table border=\"1\" class=\"dataframe\">\n",
       "  <thead>\n",
       "    <tr style=\"text-align: right;\">\n",
       "      <th></th>\n",
       "      <th>DOW</th>\n",
       "      <th>Rank</th>\n",
       "      <th>Daily</th>\n",
       "      <th>%± YD</th>\n",
       "      <th>%± LW</th>\n",
       "      <th>Theaters</th>\n",
       "      <th>Avg</th>\n",
       "      <th>To Date</th>\n",
       "      <th>Day</th>\n",
       "      <th>Estimated</th>\n",
       "    </tr>\n",
       "    <tr>\n",
       "      <th>Date</th>\n",
       "      <th></th>\n",
       "      <th></th>\n",
       "      <th></th>\n",
       "      <th></th>\n",
       "      <th></th>\n",
       "      <th></th>\n",
       "      <th></th>\n",
       "      <th></th>\n",
       "      <th></th>\n",
       "      <th></th>\n",
       "    </tr>\n",
       "  </thead>\n",
       "  <tbody>\n",
       "    <tr>\n",
       "      <th>2019-04-26</th>\n",
       "      <td>Friday</td>\n",
       "      <td>1</td>\n",
       "      <td>157461641</td>\n",
       "      <td>-</td>\n",
       "      <td>-</td>\n",
       "      <td>4662</td>\n",
       "      <td>33775</td>\n",
       "      <td>157461641</td>\n",
       "      <td>1</td>\n",
       "      <td>False</td>\n",
       "    </tr>\n",
       "    <tr>\n",
       "      <th>2019-04-27</th>\n",
       "      <td>Saturday</td>\n",
       "      <td>1</td>\n",
       "      <td>109264122</td>\n",
       "      <td>-30.6%</td>\n",
       "      <td>-</td>\n",
       "      <td>4662</td>\n",
       "      <td>23437</td>\n",
       "      <td>266725763</td>\n",
       "      <td>2</td>\n",
       "      <td>False</td>\n",
       "    </tr>\n",
       "    <tr>\n",
       "      <th>2019-04-28</th>\n",
       "      <td>Sunday</td>\n",
       "      <td>1</td>\n",
       "      <td>90389244</td>\n",
       "      <td>-17.3%</td>\n",
       "      <td>-</td>\n",
       "      <td>4662</td>\n",
       "      <td>19388</td>\n",
       "      <td>357115007</td>\n",
       "      <td>3</td>\n",
       "      <td>False</td>\n",
       "    </tr>\n",
       "    <tr>\n",
       "      <th>2019-04-29</th>\n",
       "      <td>Monday</td>\n",
       "      <td>1</td>\n",
       "      <td>36874439</td>\n",
       "      <td>-59.2%</td>\n",
       "      <td>-</td>\n",
       "      <td>4662</td>\n",
       "      <td>7909</td>\n",
       "      <td>393989446</td>\n",
       "      <td>4</td>\n",
       "      <td>False</td>\n",
       "    </tr>\n",
       "    <tr>\n",
       "      <th>2019-04-30</th>\n",
       "      <td>Tuesday</td>\n",
       "      <td>1</td>\n",
       "      <td>33110349</td>\n",
       "      <td>-10.2%</td>\n",
       "      <td>-</td>\n",
       "      <td>4662</td>\n",
       "      <td>7102</td>\n",
       "      <td>427099795</td>\n",
       "      <td>5</td>\n",
       "      <td>False</td>\n",
       "    </tr>\n",
       "  </tbody>\n",
       "</table>\n",
       "</div>"
      ],
      "text/plain": [
       "                 DOW  Rank      Daily   %± YD %± LW  Theaters    Avg  \\\n",
       "Date                                                                   \n",
       "2019-04-26    Friday     1  157461641       -     -      4662  33775   \n",
       "2019-04-27  Saturday     1  109264122  -30.6%     -      4662  23437   \n",
       "2019-04-28    Sunday     1   90389244  -17.3%     -      4662  19388   \n",
       "2019-04-29    Monday     1   36874439  -59.2%     -      4662   7909   \n",
       "2019-04-30   Tuesday     1   33110349  -10.2%     -      4662   7102   \n",
       "\n",
       "              To Date  Day  Estimated  \n",
       "Date                                   \n",
       "2019-04-26  157461641    1      False  \n",
       "2019-04-27  266725763    2      False  \n",
       "2019-04-28  357115007    3      False  \n",
       "2019-04-29  393989446    4      False  \n",
       "2019-04-30  427099795    5      False  "
      ]
     },
     "execution_count": 167,
     "metadata": {},
     "output_type": "execute_result"
    }
   ],
   "source": [
    "%time\n",
    "ts_2 = pd.read_csv(filepath_or_buffer=filepath,\n",
    "                sep=',',\n",
    "                header=0,\n",
    "                parse_dates=[0],\n",
    "                index_col=0,\n",
    "                infer_datetime_format=True)\n",
    "ts_2.head()"
   ]
  },
  {
   "cell_type": "markdown",
   "id": "077adf91",
   "metadata": {},
   "source": [
    "## Reading Time Series Data from an Excel file"
   ]
  },
  {
   "cell_type": "code",
   "execution_count": 35,
   "id": "b6756163",
   "metadata": {},
   "outputs": [],
   "source": [
    "from pathlib import Path\n",
    "filepath = Path('datasets/sales_trx_data.xlsx')"
   ]
  },
  {
   "cell_type": "code",
   "execution_count": 40,
   "id": "8926566c",
   "metadata": {},
   "outputs": [
    {
     "data": {
      "text/plain": [
       "dict_keys([0, 1])"
      ]
     },
     "execution_count": 40,
     "metadata": {},
     "output_type": "execute_result"
    }
   ],
   "source": [
    "ts = pd.read_excel(io= filepath, engine='openpyxl', index_col=1, sheet_name=[0,1])\n",
    "ts.keys()"
   ]
  },
  {
   "cell_type": "code",
   "execution_count": 37,
   "id": "595b69aa",
   "metadata": {},
   "outputs": [
    {
     "name": "stdout",
     "output_type": "stream",
     "text": [
      "<class 'pandas.core.frame.DataFrame'>\n",
      "MultiIndex: 74124 entries, (0, Timestamp('2017-01-01 00:00:00')) to (1, Timestamp('2018-12-31 00:00:00'))\n",
      "Data columns (total 4 columns):\n",
      " #   Column              Non-Null Count  Dtype \n",
      "---  ------              --------------  ----- \n",
      " 0   Line_Item_ID        74124 non-null  int64 \n",
      " 1   Credit_Card_Number  74124 non-null  int64 \n",
      " 2   Quantity            74124 non-null  int64 \n",
      " 3   Menu_Item           74124 non-null  object\n",
      "dtypes: int64(3), object(1)\n",
      "memory usage: 2.5+ MB\n"
     ]
    }
   ],
   "source": [
    "ts_all = pd.concat(ts)\n",
    "ts_all.info()"
   ]
  },
  {
   "cell_type": "code",
   "execution_count": 38,
   "id": "23abb7f7",
   "metadata": {},
   "outputs": [],
   "source": [
    "ts = pd.concat(pd.read_excel(io=filepath, engine='openpyxl', index_col=1, sheet_name=None))"
   ]
  },
  {
   "cell_type": "code",
   "execution_count": 39,
   "id": "95f39185",
   "metadata": {},
   "outputs": [
    {
     "name": "stdout",
     "output_type": "stream",
     "text": [
      "<class 'pandas.core.frame.DataFrame'>\n",
      "MultiIndex: 74124 entries, ('sales_2017', Timestamp('2017-01-01 00:00:00')) to ('sales_2018', Timestamp('2018-12-31 00:00:00'))\n",
      "Data columns (total 4 columns):\n",
      " #   Column              Non-Null Count  Dtype \n",
      "---  ------              --------------  ----- \n",
      " 0   Line_Item_ID        74124 non-null  int64 \n",
      " 1   Credit_Card_Number  74124 non-null  int64 \n",
      " 2   Quantity            74124 non-null  int64 \n",
      " 3   Menu_Item           74124 non-null  object\n",
      "dtypes: int64(3), object(1)\n",
      "memory usage: 2.5+ MB\n"
     ]
    }
   ],
   "source": [
    "ts.info()"
   ]
  },
  {
   "cell_type": "code",
   "execution_count": null,
   "id": "98e4387c",
   "metadata": {},
   "outputs": [],
   "source": []
  }
 ],
 "metadata": {
  "kernelspec": {
   "display_name": "Time Series",
   "language": "python",
   "name": "python3"
  },
  "language_info": {
   "codemirror_mode": {
    "name": "ipython",
    "version": 3
   },
   "file_extension": ".py",
   "mimetype": "text/x-python",
   "name": "python",
   "nbconvert_exporter": "python",
   "pygments_lexer": "ipython3",
   "version": "3.8.8"
  }
 },
 "nbformat": 4,
 "nbformat_minor": 5
}
