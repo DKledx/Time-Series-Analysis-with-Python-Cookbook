{
 "cells": [
  {
   "cell_type": "markdown",
   "id": "694cf4b8-aef3-4107-b11a-88e81a5c7c13",
   "metadata": {},
   "source": [
    "# Advanced Topics in Time Series Analysis"
   ]
  },
  {
   "cell_type": "code",
   "execution_count": 1,
   "id": "051f6bfe-675f-441f-a519-829b28f11ba6",
   "metadata": {},
   "outputs": [
    {
     "name": "stdout",
     "output_type": "stream",
     "text": [
      "/Users/tarekatwan/opt/anaconda3/envs/packt/bin/python\n"
     ]
    }
   ],
   "source": [
    "!which python"
   ]
  },
  {
   "cell_type": "markdown",
   "id": "ad93e4eb-f0fa-455c-9ae0-5ee283123d89",
   "metadata": {},
   "source": [
    "# Survival Analysis"
   ]
  },
  {
   "cell_type": "code",
   "execution_count": null,
   "id": "59bbab0d-250c-409a-a0dc-bffe929a57ea",
   "metadata": {},
   "outputs": [],
   "source": []
  },
  {
   "cell_type": "code",
   "execution_count": null,
   "id": "ca3519a5-2238-4457-8c15-0a32b8a98659",
   "metadata": {},
   "outputs": [],
   "source": []
  },
  {
   "cell_type": "markdown",
   "id": "d02c79a5-771d-45d3-a534-699c5dd32546",
   "metadata": {
    "tags": []
   },
   "source": [
    "# Markov Switching Dynamic Regression Models"
   ]
  },
  {
   "cell_type": "code",
   "execution_count": null,
   "id": "f6de7141-5dfa-4c52-863a-21e893d601cf",
   "metadata": {},
   "outputs": [],
   "source": []
  },
  {
   "cell_type": "code",
   "execution_count": null,
   "id": "a028e62d-b4a1-4796-b56d-a94a28b9fb96",
   "metadata": {},
   "outputs": [],
   "source": []
  },
  {
   "cell_type": "markdown",
   "id": "0beb15fb-0a00-4343-b7f5-6a091aae744e",
   "metadata": {},
   "source": [
    "# Time Series Transformation with Kalman Filters "
   ]
  },
  {
   "cell_type": "markdown",
   "id": "658c86e1-02eb-44b1-b60f-e738a7b7bfb9",
   "metadata": {
    "jp-MarkdownHeadingCollapsed": true,
    "tags": []
   },
   "source": []
  },
  {
   "cell_type": "markdown",
   "id": "af09d219-e301-4777-a9f4-418ab9939c04",
   "metadata": {},
   "source": [
    "# Spectral Analysis with Fourier Transforms"
   ]
  },
  {
   "cell_type": "code",
   "execution_count": null,
   "id": "88d6d052-df12-4b65-9629-75b6931e4797",
   "metadata": {},
   "outputs": [],
   "source": []
  },
  {
   "cell_type": "markdown",
   "id": "6c5f5d12-0b78-4e7c-8a91-114b483aa951",
   "metadata": {
    "tags": []
   },
   "source": [
    "# Non-Linear Time Series and Regression Splines for Forecasting"
   ]
  },
  {
   "cell_type": "code",
   "execution_count": null,
   "id": "136486b8-af91-4f87-8b38-849c146ed922",
   "metadata": {},
   "outputs": [],
   "source": []
  },
  {
   "cell_type": "code",
   "execution_count": null,
   "id": "37f461a5-ad44-4e7e-8c45-9407692933e4",
   "metadata": {},
   "outputs": [],
   "source": []
  },
  {
   "cell_type": "markdown",
   "id": "6974c132-0f12-4863-ac0f-09b0d1d6498a",
   "metadata": {
    "tags": []
   },
   "source": [
    "# Time Series Clustering and Segmentation"
   ]
  },
  {
   "cell_type": "code",
   "execution_count": null,
   "id": "44498a49-6ea7-42c7-a9e3-d397b47311aa",
   "metadata": {},
   "outputs": [],
   "source": []
  },
  {
   "cell_type": "markdown",
   "id": "8629a568-b331-40aa-8c31-01b2e95f667d",
   "metadata": {},
   "source": [
    "# Multiple Seasonality and TBATS"
   ]
  },
  {
   "cell_type": "code",
   "execution_count": null,
   "id": "206ab8fa-aa9e-447d-ae41-b6175212cb70",
   "metadata": {},
   "outputs": [],
   "source": []
  }
 ],
 "metadata": {
  "kernelspec": {
   "display_name": "Packt Pub [conda env:packt]",
   "language": "python",
   "name": "conda-env-packt-py"
  },
  "language_info": {
   "codemirror_mode": {
    "name": "ipython",
    "version": 3
   },
   "file_extension": ".py",
   "mimetype": "text/x-python",
   "name": "python",
   "nbconvert_exporter": "python",
   "pygments_lexer": "ipython3",
   "version": "3.8.13"
  }
 },
 "nbformat": 4,
 "nbformat_minor": 5
}
