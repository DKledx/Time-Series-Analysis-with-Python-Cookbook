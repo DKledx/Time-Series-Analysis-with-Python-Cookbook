{
 "cells": [
  {
   "cell_type": "code",
   "execution_count": 1,
   "id": "6adf7d02-23c9-4663-a42a-bf9db8b313ed",
   "metadata": {},
   "outputs": [],
   "source": [
    "import pandas as pd\n",
    "import numpy as np\n",
    "import datetime as dt"
   ]
  },
  {
   "cell_type": "code",
   "execution_count": 8,
   "id": "c004a24b-62dd-4db0-8558-a2b8d84b7387",
   "metadata": {},
   "outputs": [
    {
     "data": {
      "text/plain": [
       "DatetimeIndex(['2022-01-01', '2022-01-02', '2022-01-03', '2022-01-04',\n",
       "               '2022-01-05', '2022-01-06', '2022-01-07', '2022-01-08'],\n",
       "              dtype='datetime64[ns]', freq='D')"
      ]
     },
     "execution_count": 8,
     "metadata": {},
     "output_type": "execute_result"
    }
   ],
   "source": [
    "# create a DatetimeIndex\n",
    "dates = pd.date_range('1/1/2022', periods=8)\n",
    "dates"
   ]
  },
  {
   "cell_type": "code",
   "execution_count": 9,
   "id": "cbd892c7-354a-4f87-8f1c-014aaf125b3c",
   "metadata": {},
   "outputs": [
    {
     "data": {
      "text/plain": [
       "2022-01-01   -0.241252\n",
       "2022-01-02   -1.297437\n",
       "2022-01-03    1.166502\n",
       "2022-01-04    0.711168\n",
       "2022-01-05   -0.516190\n",
       "2022-01-06   -0.815823\n",
       "2022-01-07   -0.090346\n",
       "2022-01-08    0.460490\n",
       "Freq: D, dtype: float64"
      ]
     },
     "execution_count": 9,
     "metadata": {},
     "output_type": "execute_result"
    }
   ],
   "source": [
    "# add a DatetimeIndex to a Series\n",
    "s = pd.Series(np.random.randn(len(dates)), index=dates)\n",
    "s"
   ]
  },
  {
   "cell_type": "code",
   "execution_count": null,
   "id": "3b2db4f0-aa70-46f4-904c-982ef3d41d48",
   "metadata": {},
   "outputs": [],
   "source": [
    "dt"
   ]
  },
  {
   "cell_type": "code",
   "execution_count": 11,
   "id": "8c61ff93-bf97-4902-8c73-5ae607b3fe9b",
   "metadata": {},
   "outputs": [
    {
     "data": {
      "text/html": [
       "<div>\n",
       "<style scoped>\n",
       "    .dataframe tbody tr th:only-of-type {\n",
       "        vertical-align: middle;\n",
       "    }\n",
       "\n",
       "    .dataframe tbody tr th {\n",
       "        vertical-align: top;\n",
       "    }\n",
       "\n",
       "    .dataframe thead th {\n",
       "        text-align: right;\n",
       "    }\n",
       "</style>\n",
       "<table border=\"1\" class=\"dataframe\">\n",
       "  <thead>\n",
       "    <tr style=\"text-align: right;\">\n",
       "      <th></th>\n",
       "      <th>A</th>\n",
       "      <th>B</th>\n",
       "    </tr>\n",
       "  </thead>\n",
       "  <tbody>\n",
       "    <tr>\n",
       "      <th>2022-01-01</th>\n",
       "      <td>0.577218</td>\n",
       "      <td>0.574094</td>\n",
       "    </tr>\n",
       "    <tr>\n",
       "      <th>2022-01-02</th>\n",
       "      <td>-0.961171</td>\n",
       "      <td>-0.979266</td>\n",
       "    </tr>\n",
       "    <tr>\n",
       "      <th>2022-01-03</th>\n",
       "      <td>0.621468</td>\n",
       "      <td>-0.777901</td>\n",
       "    </tr>\n",
       "    <tr>\n",
       "      <th>2022-01-04</th>\n",
       "      <td>0.058061</td>\n",
       "      <td>0.666196</td>\n",
       "    </tr>\n",
       "    <tr>\n",
       "      <th>2022-01-05</th>\n",
       "      <td>0.578321</td>\n",
       "      <td>-0.634811</td>\n",
       "    </tr>\n",
       "    <tr>\n",
       "      <th>2022-01-06</th>\n",
       "      <td>-1.611087</td>\n",
       "      <td>0.629891</td>\n",
       "    </tr>\n",
       "    <tr>\n",
       "      <th>2022-01-07</th>\n",
       "      <td>0.145123</td>\n",
       "      <td>-1.125823</td>\n",
       "    </tr>\n",
       "    <tr>\n",
       "      <th>2022-01-08</th>\n",
       "      <td>1.702784</td>\n",
       "      <td>-0.191350</td>\n",
       "    </tr>\n",
       "  </tbody>\n",
       "</table>\n",
       "</div>"
      ],
      "text/plain": [
       "                   A         B\n",
       "2022-01-01  0.577218  0.574094\n",
       "2022-01-02 -0.961171 -0.979266\n",
       "2022-01-03  0.621468 -0.777901\n",
       "2022-01-04  0.058061  0.666196\n",
       "2022-01-05  0.578321 -0.634811\n",
       "2022-01-06 -1.611087  0.629891\n",
       "2022-01-07  0.145123 -1.125823\n",
       "2022-01-08  1.702784 -0.191350"
      ]
     },
     "execution_count": 11,
     "metadata": {},
     "output_type": "execute_result"
    }
   ],
   "source": [
    "#### add a DatetimeIndex to a DataFrame\n",
    "df = pd.DataFrame(np.random.randn(len(dates), 2), index=dates, columns=list('AB'))\n",
    "df"
   ]
  },
  {
   "cell_type": "code",
   "execution_count": 7,
   "id": "f29f3d2b-1669-4c24-9200-f6d107565c82",
   "metadata": {},
   "outputs": [
    {
     "data": {
      "text/plain": [
       "DatetimeIndex(['2000-01-05', '2000-01-12', '2000-01-19', '2000-01-26',\n",
       "               '2000-02-02', '2000-02-09', '2000-02-16', '2000-02-23'],\n",
       "              dtype='datetime64[ns]', freq='W-WED')"
      ]
     },
     "execution_count": 7,
     "metadata": {},
     "output_type": "execute_result"
    }
   ],
   "source": [
    "\n",
    "# different ways to create a DatetimeIndex\n",
    "pd.date_range('1/1/2000', periods=8, freq='W-WED')"
   ]
  },
  {
   "cell_type": "code",
   "execution_count": 9,
   "id": "a063282b-9d19-4a1c-96f5-d00a74bbe559",
   "metadata": {},
   "outputs": [
    {
     "data": {
      "text/plain": [
       "DatetimeIndex(['2000-01-31', '2000-02-29', '2000-03-31', '2000-04-30',\n",
       "               '2000-05-31', '2000-06-30', '2000-07-31', '2000-08-31'],\n",
       "              dtype='datetime64[ns]', freq='M')"
      ]
     },
     "execution_count": 9,
     "metadata": {},
     "output_type": "execute_result"
    }
   ],
   "source": [
    "pd.date_range('1/1/2000', periods=8, freq='M')"
   ]
  },
  {
   "cell_type": "code",
   "execution_count": 10,
   "id": "b51cbbf0-92f5-4c98-8908-f21e04e466a2",
   "metadata": {},
   "outputs": [
    {
     "data": {
      "text/plain": [
       "DatetimeIndex(['2000-01-31', '2000-03-31', '2000-05-31', '2000-07-31',\n",
       "               '2000-09-30', '2000-11-30', '2001-01-31', '2001-03-31'],\n",
       "              dtype='datetime64[ns]', freq='2M')"
      ]
     },
     "execution_count": 10,
     "metadata": {},
     "output_type": "execute_result"
    }
   ],
   "source": [
    "pd.date_range('1/1/2000', periods=8, freq='2M')"
   ]
  },
  {
   "cell_type": "code",
   "execution_count": 11,
   "id": "716a3ddd-70d2-4d1e-8e0e-02e0874670f6",
   "metadata": {},
   "outputs": [
    {
     "data": {
      "text/plain": [
       "DatetimeIndex(['2000-01-01', '2000-01-02', '2000-01-03', '2000-01-04',\n",
       "               '2000-01-05', '2000-01-06', '2000-01-07', '2000-01-08'],\n",
       "              dtype='datetime64[ns]', freq='D')"
      ]
     },
     "execution_count": 11,
     "metadata": {},
     "output_type": "execute_result"
    }
   ],
   "source": [
    "pd.date_range('1/1/2000', periods=8, freq='D')"
   ]
  },
  {
   "cell_type": "code",
   "execution_count": 12,
   "id": "951050b6-67a3-4bcd-8afe-c8d83da19c48",
   "metadata": {},
   "outputs": [
    {
     "name": "stdout",
     "output_type": "stream",
     "text": [
      "Index(['2000-01-01', '2000-01-02', '2000-01-03', '2000-01-04', '2000-01-05',\n",
      "       '2000-01-06', '2000-01-07', '2000-01-08'],\n",
      "      dtype='object')\n",
      "1970-01-01 00:00:01.435708800\n",
      "2015-07-01 00:00:00\n",
      "1970-01-17 14:48:28.800000\n",
      "1970-01-01 00:23:55.708800\n",
      "DatetimeIndex(['2015-01-01', '2015-01-02'], dtype='datetime64[ns]', freq=None)\n"
     ]
    }
   ],
   "source": [
    "# pandas datetime provides a set of useful methods\n",
    "# to convert between datetime objects and other formats\n",
    "# such as string, integer, and floating point numbers\n",
    "\n",
    "# provide format argument to datetime pandas methods\n",
    "# to convert to string\n",
    "print(dates.strftime('%Y-%m-%d'))\n",
    "\n",
    "# working with epoch timestamps\n",
    "# epoch timestamps are the number of seconds since\n",
    "# 1/1/1970 00:00:00 UTC\n",
    "print(pd.to_datetime(1435708800))\n",
    "print(pd.to_datetime(1435708800, unit='s'))\n",
    "print(pd.to_datetime(1435708800, unit='ms'))\n",
    "print(pd.to_datetime(1435708800, unit='us'))\n",
    "print(pd.DatetimeIndex(['2015-01-01', '2015-01-02']))\n"
   ]
  },
  {
   "cell_type": "code",
   "execution_count": 13,
   "id": "a1e0ddbf-bf94-4801-96b2-a0e86c70dd9a",
   "metadata": {},
   "outputs": [
    {
     "data": {
      "text/html": [
       "<div>\n",
       "<style scoped>\n",
       "    .dataframe tbody tr th:only-of-type {\n",
       "        vertical-align: middle;\n",
       "    }\n",
       "\n",
       "    .dataframe tbody tr th {\n",
       "        vertical-align: top;\n",
       "    }\n",
       "\n",
       "    .dataframe thead th {\n",
       "        text-align: right;\n",
       "    }\n",
       "</style>\n",
       "<table border=\"1\" class=\"dataframe\">\n",
       "  <thead>\n",
       "    <tr style=\"text-align: right;\">\n",
       "      <th></th>\n",
       "      <th>A</th>\n",
       "      <th>B</th>\n",
       "      <th>C</th>\n",
       "    </tr>\n",
       "  </thead>\n",
       "  <tbody>\n",
       "    <tr>\n",
       "      <th>2000-01-01</th>\n",
       "      <td>NaN</td>\n",
       "      <td>NaN</td>\n",
       "      <td>NaN</td>\n",
       "    </tr>\n",
       "    <tr>\n",
       "      <th>2000-01-02</th>\n",
       "      <td>NaN</td>\n",
       "      <td>NaN</td>\n",
       "      <td>NaN</td>\n",
       "    </tr>\n",
       "    <tr>\n",
       "      <th>2000-01-03</th>\n",
       "      <td>-1.360790</td>\n",
       "      <td>0.442555</td>\n",
       "      <td>0.529945</td>\n",
       "    </tr>\n",
       "    <tr>\n",
       "      <th>2000-01-04</th>\n",
       "      <td>0.485379</td>\n",
       "      <td>1.210302</td>\n",
       "      <td>-0.561489</td>\n",
       "    </tr>\n",
       "    <tr>\n",
       "      <th>2000-01-05</th>\n",
       "      <td>0.656664</td>\n",
       "      <td>0.468596</td>\n",
       "      <td>1.203931</td>\n",
       "    </tr>\n",
       "  </tbody>\n",
       "</table>\n",
       "</div>"
      ],
      "text/plain": [
       "                   A         B         C\n",
       "2000-01-01       NaN       NaN       NaN\n",
       "2000-01-02       NaN       NaN       NaN\n",
       "2000-01-03 -1.360790  0.442555  0.529945\n",
       "2000-01-04  0.485379  1.210302 -0.561489\n",
       "2000-01-05  0.656664  0.468596  1.203931"
      ]
     },
     "execution_count": 13,
     "metadata": {},
     "output_type": "execute_result"
    }
   ],
   "source": [
    "# pandas working with date offsets\n",
    "# pandas provides a set of useful date offset objects\n",
    "# that can be used to shift dates\n",
    "df = pd.DataFrame(np.random.randn(5, 3),\n",
    "                    index=pd.date_range('1/1/2000', periods=5),\n",
    "                    columns=list('ABC'))\n",
    "df.shift(2)"
   ]
  },
  {
   "cell_type": "code",
   "execution_count": 14,
   "id": "67ba475e-cc6d-409f-b47b-025585bd164e",
   "metadata": {},
   "outputs": [
    {
     "data": {
      "text/html": [
       "<div>\n",
       "<style scoped>\n",
       "    .dataframe tbody tr th:only-of-type {\n",
       "        vertical-align: middle;\n",
       "    }\n",
       "\n",
       "    .dataframe tbody tr th {\n",
       "        vertical-align: top;\n",
       "    }\n",
       "\n",
       "    .dataframe thead th {\n",
       "        text-align: right;\n",
       "    }\n",
       "</style>\n",
       "<table border=\"1\" class=\"dataframe\">\n",
       "  <thead>\n",
       "    <tr style=\"text-align: right;\">\n",
       "      <th></th>\n",
       "      <th>A</th>\n",
       "      <th>B</th>\n",
       "      <th>C</th>\n",
       "    </tr>\n",
       "  </thead>\n",
       "  <tbody>\n",
       "    <tr>\n",
       "      <th>2000-01-01</th>\n",
       "      <td>0.656664</td>\n",
       "      <td>0.468596</td>\n",
       "      <td>1.203931</td>\n",
       "    </tr>\n",
       "    <tr>\n",
       "      <th>2000-01-02</th>\n",
       "      <td>-0.669079</td>\n",
       "      <td>-1.093619</td>\n",
       "      <td>-0.862255</td>\n",
       "    </tr>\n",
       "    <tr>\n",
       "      <th>2000-01-03</th>\n",
       "      <td>-0.917183</td>\n",
       "      <td>-1.866447</td>\n",
       "      <td>0.600705</td>\n",
       "    </tr>\n",
       "    <tr>\n",
       "      <th>2000-01-04</th>\n",
       "      <td>NaN</td>\n",
       "      <td>NaN</td>\n",
       "      <td>NaN</td>\n",
       "    </tr>\n",
       "    <tr>\n",
       "      <th>2000-01-05</th>\n",
       "      <td>NaN</td>\n",
       "      <td>NaN</td>\n",
       "      <td>NaN</td>\n",
       "    </tr>\n",
       "  </tbody>\n",
       "</table>\n",
       "</div>"
      ],
      "text/plain": [
       "                   A         B         C\n",
       "2000-01-01  0.656664  0.468596  1.203931\n",
       "2000-01-02 -0.669079 -1.093619 -0.862255\n",
       "2000-01-03 -0.917183 -1.866447  0.600705\n",
       "2000-01-04       NaN       NaN       NaN\n",
       "2000-01-05       NaN       NaN       NaN"
      ]
     },
     "execution_count": 14,
     "metadata": {},
     "output_type": "execute_result"
    }
   ],
   "source": [
    "df.shift(-2)"
   ]
  },
  {
   "cell_type": "code",
   "execution_count": 22,
   "id": "c7c5e143-2aff-406e-a9a0-41e2935ea1c5",
   "metadata": {},
   "outputs": [
    {
     "data": {
      "text/plain": [
       "2000-01-01   -0.355340\n",
       "2000-01-02   -1.047605\n",
       "2000-01-03    0.561214\n",
       "2000-01-04   -0.168478\n",
       "2000-01-05   -1.539181\n",
       "Freq: D, dtype: float64"
      ]
     },
     "execution_count": 22,
     "metadata": {},
     "output_type": "execute_result"
    }
   ],
   "source": [
    "# pandas tseries provide a set of useful date offset objects\n",
    "# that can be used to shift dates\n",
    "ts = pd.Series(np.random.randn(5),\n",
    "                index=pd.date_range('1/1/2000', periods=5)) \n",
    "ts"
   ]
  },
  {
   "cell_type": "code",
   "execution_count": 24,
   "id": "457109df-1e61-45fa-ae51-f088e406233e",
   "metadata": {},
   "outputs": [
    {
     "data": {
      "text/plain": [
       "Timestamp('2000-01-01 00:00:00')"
      ]
     },
     "execution_count": 24,
     "metadata": {},
     "output_type": "execute_result"
    }
   ],
   "source": [
    "ts = pd.Timestamp('1/1/2000')\n",
    "ts"
   ]
  },
  {
   "cell_type": "code",
   "execution_count": 25,
   "id": "9f9d82e0-de4c-4dcb-8c7f-fa76793a0af9",
   "metadata": {},
   "outputs": [
    {
     "data": {
      "text/plain": [
       "Timestamp('2001-01-01 00:00:00')"
      ]
     },
     "execution_count": 25,
     "metadata": {},
     "output_type": "execute_result"
    }
   ],
   "source": [
    "ts + pd.DateOffset(years=1)"
   ]
  },
  {
   "cell_type": "code",
   "execution_count": 26,
   "id": "192ed09a-982a-4304-9ae9-0e70a0235616",
   "metadata": {},
   "outputs": [
    {
     "data": {
      "text/plain": [
       "Timestamp('2000-02-01 00:00:00')"
      ]
     },
     "execution_count": 26,
     "metadata": {},
     "output_type": "execute_result"
    }
   ],
   "source": [
    "ts + pd.DateOffset(months=1)"
   ]
  },
  {
   "cell_type": "code",
   "execution_count": 27,
   "id": "cee816ad-0e1a-4358-a6e3-f168cdeca8b1",
   "metadata": {},
   "outputs": [
    {
     "data": {
      "text/plain": [
       "Timestamp('2000-01-02 00:00:00')"
      ]
     },
     "execution_count": 27,
     "metadata": {},
     "output_type": "execute_result"
    }
   ],
   "source": [
    "ts + pd.DateOffset(days=1)"
   ]
  },
  {
   "cell_type": "code",
   "execution_count": 31,
   "id": "c237a7b2-f0f7-4755-aac1-6c73002c2b98",
   "metadata": {},
   "outputs": [
    {
     "data": {
      "text/html": [
       "<div>\n",
       "<style scoped>\n",
       "    .dataframe tbody tr th:only-of-type {\n",
       "        vertical-align: middle;\n",
       "    }\n",
       "\n",
       "    .dataframe tbody tr th {\n",
       "        vertical-align: top;\n",
       "    }\n",
       "\n",
       "    .dataframe thead th {\n",
       "        text-align: right;\n",
       "    }\n",
       "</style>\n",
       "<table border=\"1\" class=\"dataframe\">\n",
       "  <thead>\n",
       "    <tr style=\"text-align: right;\">\n",
       "      <th></th>\n",
       "      <th>A</th>\n",
       "      <th>B</th>\n",
       "      <th>C</th>\n",
       "    </tr>\n",
       "  </thead>\n",
       "  <tbody>\n",
       "    <tr>\n",
       "      <th>2000-01-01</th>\n",
       "      <td>-0.881539</td>\n",
       "      <td>0.054883</td>\n",
       "      <td>0.212484</td>\n",
       "    </tr>\n",
       "    <tr>\n",
       "      <th>2000-01-02</th>\n",
       "      <td>1.168337</td>\n",
       "      <td>0.062938</td>\n",
       "      <td>-1.629524</td>\n",
       "    </tr>\n",
       "    <tr>\n",
       "      <th>2000-01-03</th>\n",
       "      <td>-0.983221</td>\n",
       "      <td>0.984422</td>\n",
       "      <td>1.386987</td>\n",
       "    </tr>\n",
       "    <tr>\n",
       "      <th>2000-01-04</th>\n",
       "      <td>0.191913</td>\n",
       "      <td>0.385675</td>\n",
       "      <td>-0.108028</td>\n",
       "    </tr>\n",
       "    <tr>\n",
       "      <th>2000-01-05</th>\n",
       "      <td>0.429918</td>\n",
       "      <td>-0.790395</td>\n",
       "      <td>0.783589</td>\n",
       "    </tr>\n",
       "  </tbody>\n",
       "</table>\n",
       "</div>"
      ],
      "text/plain": [
       "                   A         B         C\n",
       "2000-01-01 -0.881539  0.054883  0.212484\n",
       "2000-01-02  1.168337  0.062938 -1.629524\n",
       "2000-01-03 -0.983221  0.984422  1.386987\n",
       "2000-01-04  0.191913  0.385675 -0.108028\n",
       "2000-01-05  0.429918 -0.790395  0.783589"
      ]
     },
     "execution_count": 31,
     "metadata": {},
     "output_type": "execute_result"
    }
   ],
   "source": [
    "# converting datetime with timezones \n",
    "# pandas provides a set of useful date offset objects\n",
    "# that can be used to shift dates\n",
    "df = pd.DataFrame(np.random.randn(5, 3),\n",
    "                    index=pd.date_range('1/1/2000', periods=5), \n",
    "                    columns=list('ABC'))\n",
    "df"
   ]
  },
  {
   "cell_type": "code",
   "execution_count": 33,
   "id": "5bfbdd7e-24b1-4356-802f-95f35c8db628",
   "metadata": {},
   "outputs": [
    {
     "data": {
      "text/html": [
       "<div>\n",
       "<style scoped>\n",
       "    .dataframe tbody tr th:only-of-type {\n",
       "        vertical-align: middle;\n",
       "    }\n",
       "\n",
       "    .dataframe tbody tr th {\n",
       "        vertical-align: top;\n",
       "    }\n",
       "\n",
       "    .dataframe thead th {\n",
       "        text-align: right;\n",
       "    }\n",
       "</style>\n",
       "<table border=\"1\" class=\"dataframe\">\n",
       "  <thead>\n",
       "    <tr style=\"text-align: right;\">\n",
       "      <th></th>\n",
       "      <th>A</th>\n",
       "      <th>B</th>\n",
       "      <th>C</th>\n",
       "    </tr>\n",
       "  </thead>\n",
       "  <tbody>\n",
       "    <tr>\n",
       "      <th>2000-01-01 00:00:00+00:00</th>\n",
       "      <td>-0.881539</td>\n",
       "      <td>0.054883</td>\n",
       "      <td>0.212484</td>\n",
       "    </tr>\n",
       "    <tr>\n",
       "      <th>2000-01-02 00:00:00+00:00</th>\n",
       "      <td>1.168337</td>\n",
       "      <td>0.062938</td>\n",
       "      <td>-1.629524</td>\n",
       "    </tr>\n",
       "    <tr>\n",
       "      <th>2000-01-03 00:00:00+00:00</th>\n",
       "      <td>-0.983221</td>\n",
       "      <td>0.984422</td>\n",
       "      <td>1.386987</td>\n",
       "    </tr>\n",
       "    <tr>\n",
       "      <th>2000-01-04 00:00:00+00:00</th>\n",
       "      <td>0.191913</td>\n",
       "      <td>0.385675</td>\n",
       "      <td>-0.108028</td>\n",
       "    </tr>\n",
       "    <tr>\n",
       "      <th>2000-01-05 00:00:00+00:00</th>\n",
       "      <td>0.429918</td>\n",
       "      <td>-0.790395</td>\n",
       "      <td>0.783589</td>\n",
       "    </tr>\n",
       "  </tbody>\n",
       "</table>\n",
       "</div>"
      ],
      "text/plain": [
       "                                  A         B         C\n",
       "2000-01-01 00:00:00+00:00 -0.881539  0.054883  0.212484\n",
       "2000-01-02 00:00:00+00:00  1.168337  0.062938 -1.629524\n",
       "2000-01-03 00:00:00+00:00 -0.983221  0.984422  1.386987\n",
       "2000-01-04 00:00:00+00:00  0.191913  0.385675 -0.108028\n",
       "2000-01-05 00:00:00+00:00  0.429918 -0.790395  0.783589"
      ]
     },
     "execution_count": 33,
     "metadata": {},
     "output_type": "execute_result"
    }
   ],
   "source": [
    "df.index = df.index.tz_localize('UTC')\n",
    "df"
   ]
  },
  {
   "cell_type": "code",
   "execution_count": 34,
   "id": "d5e5c51d-2006-4f29-9e3f-ed69e76a1403",
   "metadata": {},
   "outputs": [
    {
     "data": {
      "text/html": [
       "<div>\n",
       "<style scoped>\n",
       "    .dataframe tbody tr th:only-of-type {\n",
       "        vertical-align: middle;\n",
       "    }\n",
       "\n",
       "    .dataframe tbody tr th {\n",
       "        vertical-align: top;\n",
       "    }\n",
       "\n",
       "    .dataframe thead th {\n",
       "        text-align: right;\n",
       "    }\n",
       "</style>\n",
       "<table border=\"1\" class=\"dataframe\">\n",
       "  <thead>\n",
       "    <tr style=\"text-align: right;\">\n",
       "      <th></th>\n",
       "      <th>A</th>\n",
       "      <th>B</th>\n",
       "      <th>C</th>\n",
       "    </tr>\n",
       "  </thead>\n",
       "  <tbody>\n",
       "    <tr>\n",
       "      <th>1999-12-31 19:00:00-05:00</th>\n",
       "      <td>-0.881539</td>\n",
       "      <td>0.054883</td>\n",
       "      <td>0.212484</td>\n",
       "    </tr>\n",
       "    <tr>\n",
       "      <th>2000-01-01 19:00:00-05:00</th>\n",
       "      <td>1.168337</td>\n",
       "      <td>0.062938</td>\n",
       "      <td>-1.629524</td>\n",
       "    </tr>\n",
       "    <tr>\n",
       "      <th>2000-01-02 19:00:00-05:00</th>\n",
       "      <td>-0.983221</td>\n",
       "      <td>0.984422</td>\n",
       "      <td>1.386987</td>\n",
       "    </tr>\n",
       "    <tr>\n",
       "      <th>2000-01-03 19:00:00-05:00</th>\n",
       "      <td>0.191913</td>\n",
       "      <td>0.385675</td>\n",
       "      <td>-0.108028</td>\n",
       "    </tr>\n",
       "    <tr>\n",
       "      <th>2000-01-04 19:00:00-05:00</th>\n",
       "      <td>0.429918</td>\n",
       "      <td>-0.790395</td>\n",
       "      <td>0.783589</td>\n",
       "    </tr>\n",
       "  </tbody>\n",
       "</table>\n",
       "</div>"
      ],
      "text/plain": [
       "                                  A         B         C\n",
       "1999-12-31 19:00:00-05:00 -0.881539  0.054883  0.212484\n",
       "2000-01-01 19:00:00-05:00  1.168337  0.062938 -1.629524\n",
       "2000-01-02 19:00:00-05:00 -0.983221  0.984422  1.386987\n",
       "2000-01-03 19:00:00-05:00  0.191913  0.385675 -0.108028\n",
       "2000-01-04 19:00:00-05:00  0.429918 -0.790395  0.783589"
      ]
     },
     "execution_count": 34,
     "metadata": {},
     "output_type": "execute_result"
    }
   ],
   "source": [
    "df.index = df.index.tz_convert('US/Eastern')\n",
    "df"
   ]
  },
  {
   "cell_type": "code",
   "execution_count": 53,
   "id": "c7916751-747f-4dfc-8836-472c18ec3ba8",
   "metadata": {},
   "outputs": [
    {
     "data": {
      "text/html": [
       "<div>\n",
       "<style scoped>\n",
       "    .dataframe tbody tr th:only-of-type {\n",
       "        vertical-align: middle;\n",
       "    }\n",
       "\n",
       "    .dataframe tbody tr th {\n",
       "        vertical-align: top;\n",
       "    }\n",
       "\n",
       "    .dataframe thead th {\n",
       "        text-align: right;\n",
       "    }\n",
       "</style>\n",
       "<table border=\"1\" class=\"dataframe\">\n",
       "  <thead>\n",
       "    <tr style=\"text-align: right;\">\n",
       "      <th></th>\n",
       "      <th>A</th>\n",
       "      <th>B</th>\n",
       "      <th>C</th>\n",
       "    </tr>\n",
       "  </thead>\n",
       "  <tbody>\n",
       "    <tr>\n",
       "      <th>2000-01-01</th>\n",
       "      <td>0.639048</td>\n",
       "      <td>-1.438277</td>\n",
       "      <td>1.145599</td>\n",
       "    </tr>\n",
       "    <tr>\n",
       "      <th>2000-01-02</th>\n",
       "      <td>-0.085662</td>\n",
       "      <td>-0.362288</td>\n",
       "      <td>0.592768</td>\n",
       "    </tr>\n",
       "    <tr>\n",
       "      <th>2000-01-03</th>\n",
       "      <td>1.129465</td>\n",
       "      <td>0.453388</td>\n",
       "      <td>-0.947451</td>\n",
       "    </tr>\n",
       "    <tr>\n",
       "      <th>2000-01-04</th>\n",
       "      <td>0.796962</td>\n",
       "      <td>0.308374</td>\n",
       "      <td>-0.576878</td>\n",
       "    </tr>\n",
       "    <tr>\n",
       "      <th>2000-01-05</th>\n",
       "      <td>-0.023470</td>\n",
       "      <td>0.563939</td>\n",
       "      <td>-0.290120</td>\n",
       "    </tr>\n",
       "  </tbody>\n",
       "</table>\n",
       "</div>"
      ],
      "text/plain": [
       "                   A         B         C\n",
       "2000-01-01  0.639048 -1.438277  1.145599\n",
       "2000-01-02 -0.085662 -0.362288  0.592768\n",
       "2000-01-03  1.129465  0.453388 -0.947451\n",
       "2000-01-04  0.796962  0.308374 -0.576878\n",
       "2000-01-05 -0.023470  0.563939 -0.290120"
      ]
     },
     "execution_count": 53,
     "metadata": {},
     "output_type": "execute_result"
    }
   ],
   "source": [
    "# working with pandas Timedeltas\n",
    "# pandas provides a set of useful date offset objects\n",
    "# that can be used to shift dates\n",
    "df = pd.DataFrame(np.random.randn(5, 3),\n",
    "                    index=pd.date_range('1/1/2000', periods=5), \n",
    "                    columns=list('ABC'))\n",
    "df"
   ]
  },
  {
   "cell_type": "code",
   "execution_count": 57,
   "id": "56733c40-3329-488d-a219-cda7b92bbf52",
   "metadata": {},
   "outputs": [
    {
     "data": {
      "text/html": [
       "<div>\n",
       "<style scoped>\n",
       "    .dataframe tbody tr th:only-of-type {\n",
       "        vertical-align: middle;\n",
       "    }\n",
       "\n",
       "    .dataframe tbody tr th {\n",
       "        vertical-align: top;\n",
       "    }\n",
       "\n",
       "    .dataframe thead th {\n",
       "        text-align: right;\n",
       "    }\n",
       "</style>\n",
       "<table border=\"1\" class=\"dataframe\">\n",
       "  <thead>\n",
       "    <tr style=\"text-align: right;\">\n",
       "      <th></th>\n",
       "      <th>A</th>\n",
       "      <th>B</th>\n",
       "      <th>C</th>\n",
       "    </tr>\n",
       "  </thead>\n",
       "  <tbody>\n",
       "    <tr>\n",
       "      <th>2000-01-02</th>\n",
       "      <td>-0.287790</td>\n",
       "      <td>0.352394</td>\n",
       "      <td>-0.529738</td>\n",
       "    </tr>\n",
       "    <tr>\n",
       "      <th>2000-01-03</th>\n",
       "      <td>0.613917</td>\n",
       "      <td>-1.745413</td>\n",
       "      <td>-0.893117</td>\n",
       "    </tr>\n",
       "    <tr>\n",
       "      <th>2000-01-04</th>\n",
       "      <td>1.540391</td>\n",
       "      <td>0.548363</td>\n",
       "      <td>0.887438</td>\n",
       "    </tr>\n",
       "    <tr>\n",
       "      <th>2000-01-05</th>\n",
       "      <td>-2.284608</td>\n",
       "      <td>0.609229</td>\n",
       "      <td>-0.381917</td>\n",
       "    </tr>\n",
       "    <tr>\n",
       "      <th>2000-01-06</th>\n",
       "      <td>-0.311641</td>\n",
       "      <td>0.698319</td>\n",
       "      <td>-2.241893</td>\n",
       "    </tr>\n",
       "  </tbody>\n",
       "</table>\n",
       "</div>"
      ],
      "text/plain": [
       "                   A         B         C\n",
       "2000-01-02 -0.287790  0.352394 -0.529738\n",
       "2000-01-03  0.613917 -1.745413 -0.893117\n",
       "2000-01-04  1.540391  0.548363  0.887438\n",
       "2000-01-05 -2.284608  0.609229 -0.381917\n",
       "2000-01-06 -0.311641  0.698319 -2.241893"
      ]
     },
     "execution_count": 57,
     "metadata": {},
     "output_type": "execute_result"
    }
   ],
   "source": [
    "df = pd.DataFrame(np.random.randn(5, 3),\n",
    "                    index=pd.date_range('1/1/2000', periods=5), \n",
    "                    columns=list('ABC'))\n",
    "df.index = df.index + pd.Timedelta('1D')\n",
    "df"
   ]
  },
  {
   "cell_type": "code",
   "execution_count": 58,
   "id": "d05a6763-e031-4019-a228-57b7e7ef6b7f",
   "metadata": {},
   "outputs": [
    {
     "name": "stderr",
     "output_type": "stream",
     "text": [
      "/Users/tarekatwan/opt/anaconda3/envs/ch2/lib/python3.9/site-packages/IPython/core/interactiveshell.py:3441: FutureWarning: Units 'M', 'Y' and 'y' do not represent unambiguous timedelta values and will be removed in a future version\n",
      "  exec(code_obj, self.user_global_ns, self.user_ns)\n"
     ]
    },
    {
     "data": {
      "text/html": [
       "<div>\n",
       "<style scoped>\n",
       "    .dataframe tbody tr th:only-of-type {\n",
       "        vertical-align: middle;\n",
       "    }\n",
       "\n",
       "    .dataframe tbody tr th {\n",
       "        vertical-align: top;\n",
       "    }\n",
       "\n",
       "    .dataframe thead th {\n",
       "        text-align: right;\n",
       "    }\n",
       "</style>\n",
       "<table border=\"1\" class=\"dataframe\">\n",
       "  <thead>\n",
       "    <tr style=\"text-align: right;\">\n",
       "      <th></th>\n",
       "      <th>A</th>\n",
       "      <th>B</th>\n",
       "      <th>C</th>\n",
       "    </tr>\n",
       "  </thead>\n",
       "  <tbody>\n",
       "    <tr>\n",
       "      <th>2000-01-01 00:01:00</th>\n",
       "      <td>-0.482748</td>\n",
       "      <td>1.013951</td>\n",
       "      <td>0.583748</td>\n",
       "    </tr>\n",
       "    <tr>\n",
       "      <th>2000-01-02 00:01:00</th>\n",
       "      <td>1.886442</td>\n",
       "      <td>0.333283</td>\n",
       "      <td>-0.740861</td>\n",
       "    </tr>\n",
       "    <tr>\n",
       "      <th>2000-01-03 00:01:00</th>\n",
       "      <td>0.677807</td>\n",
       "      <td>-0.641988</td>\n",
       "      <td>1.002036</td>\n",
       "    </tr>\n",
       "    <tr>\n",
       "      <th>2000-01-04 00:01:00</th>\n",
       "      <td>1.267553</td>\n",
       "      <td>1.847034</td>\n",
       "      <td>-0.271128</td>\n",
       "    </tr>\n",
       "    <tr>\n",
       "      <th>2000-01-05 00:01:00</th>\n",
       "      <td>1.020461</td>\n",
       "      <td>-1.289208</td>\n",
       "      <td>-0.464363</td>\n",
       "    </tr>\n",
       "  </tbody>\n",
       "</table>\n",
       "</div>"
      ],
      "text/plain": [
       "                            A         B         C\n",
       "2000-01-01 00:01:00 -0.482748  1.013951  0.583748\n",
       "2000-01-02 00:01:00  1.886442  0.333283 -0.740861\n",
       "2000-01-03 00:01:00  0.677807 -0.641988  1.002036\n",
       "2000-01-04 00:01:00  1.267553  1.847034 -0.271128\n",
       "2000-01-05 00:01:00  1.020461 -1.289208 -0.464363"
      ]
     },
     "execution_count": 58,
     "metadata": {},
     "output_type": "execute_result"
    }
   ],
   "source": [
    "df = pd.DataFrame(np.random.randn(5, 3),\n",
    "                    index=pd.date_range('1/1/2000', periods=5), \n",
    "                    columns=list('ABC'))\n",
    "df.index = df.index + pd.Timedelta('1M')\n",
    "df"
   ]
  },
  {
   "cell_type": "code",
   "execution_count": 59,
   "id": "71bd133f-f8d5-4c72-9a97-f4bfe64be617",
   "metadata": {},
   "outputs": [
    {
     "name": "stderr",
     "output_type": "stream",
     "text": [
      "/Users/tarekatwan/opt/anaconda3/envs/ch2/lib/python3.9/site-packages/IPython/core/interactiveshell.py:3441: FutureWarning: Units 'M', 'Y' and 'y' do not represent unambiguous timedelta values and will be removed in a future version\n",
      "  exec(code_obj, self.user_global_ns, self.user_ns)\n"
     ]
    },
    {
     "data": {
      "text/html": [
       "<div>\n",
       "<style scoped>\n",
       "    .dataframe tbody tr th:only-of-type {\n",
       "        vertical-align: middle;\n",
       "    }\n",
       "\n",
       "    .dataframe tbody tr th {\n",
       "        vertical-align: top;\n",
       "    }\n",
       "\n",
       "    .dataframe thead th {\n",
       "        text-align: right;\n",
       "    }\n",
       "</style>\n",
       "<table border=\"1\" class=\"dataframe\">\n",
       "  <thead>\n",
       "    <tr style=\"text-align: right;\">\n",
       "      <th></th>\n",
       "      <th>A</th>\n",
       "      <th>B</th>\n",
       "      <th>C</th>\n",
       "    </tr>\n",
       "  </thead>\n",
       "  <tbody>\n",
       "    <tr>\n",
       "      <th>2000-12-31 05:49:12</th>\n",
       "      <td>1.546858</td>\n",
       "      <td>0.673423</td>\n",
       "      <td>1.967957</td>\n",
       "    </tr>\n",
       "    <tr>\n",
       "      <th>2001-01-01 05:49:12</th>\n",
       "      <td>-1.244144</td>\n",
       "      <td>-0.396621</td>\n",
       "      <td>1.855365</td>\n",
       "    </tr>\n",
       "    <tr>\n",
       "      <th>2001-01-02 05:49:12</th>\n",
       "      <td>0.348491</td>\n",
       "      <td>-0.920623</td>\n",
       "      <td>-0.355932</td>\n",
       "    </tr>\n",
       "    <tr>\n",
       "      <th>2001-01-03 05:49:12</th>\n",
       "      <td>0.461435</td>\n",
       "      <td>0.645211</td>\n",
       "      <td>0.317498</td>\n",
       "    </tr>\n",
       "    <tr>\n",
       "      <th>2001-01-04 05:49:12</th>\n",
       "      <td>0.103829</td>\n",
       "      <td>-0.226290</td>\n",
       "      <td>-0.612670</td>\n",
       "    </tr>\n",
       "  </tbody>\n",
       "</table>\n",
       "</div>"
      ],
      "text/plain": [
       "                            A         B         C\n",
       "2000-12-31 05:49:12  1.546858  0.673423  1.967957\n",
       "2001-01-01 05:49:12 -1.244144 -0.396621  1.855365\n",
       "2001-01-02 05:49:12  0.348491 -0.920623 -0.355932\n",
       "2001-01-03 05:49:12  0.461435  0.645211  0.317498\n",
       "2001-01-04 05:49:12  0.103829 -0.226290 -0.612670"
      ]
     },
     "execution_count": 59,
     "metadata": {},
     "output_type": "execute_result"
    }
   ],
   "source": [
    "df = pd.DataFrame(np.random.randn(5, 3),\n",
    "                    index=pd.date_range('1/1/2000', periods=5), \n",
    "                    columns=list('ABC'))\n",
    "df.index = df.index + pd.Timedelta('1Y')\n",
    "df"
   ]
  },
  {
   "cell_type": "code",
   "execution_count": 60,
   "id": "72f631b1-dab1-4ad9-bec4-e0eb2795c638",
   "metadata": {},
   "outputs": [
    {
     "data": {
      "text/html": [
       "<div>\n",
       "<style scoped>\n",
       "    .dataframe tbody tr th:only-of-type {\n",
       "        vertical-align: middle;\n",
       "    }\n",
       "\n",
       "    .dataframe tbody tr th {\n",
       "        vertical-align: top;\n",
       "    }\n",
       "\n",
       "    .dataframe thead th {\n",
       "        text-align: right;\n",
       "    }\n",
       "</style>\n",
       "<table border=\"1\" class=\"dataframe\">\n",
       "  <thead>\n",
       "    <tr style=\"text-align: right;\">\n",
       "      <th></th>\n",
       "      <th>A</th>\n",
       "      <th>B</th>\n",
       "      <th>C</th>\n",
       "    </tr>\n",
       "  </thead>\n",
       "  <tbody>\n",
       "    <tr>\n",
       "      <th>2000-01-01</th>\n",
       "      <td>0.943858</td>\n",
       "      <td>-0.249067</td>\n",
       "      <td>-1.324645</td>\n",
       "    </tr>\n",
       "    <tr>\n",
       "      <th>2000-01-02</th>\n",
       "      <td>0.766300</td>\n",
       "      <td>-0.069155</td>\n",
       "      <td>-0.041424</td>\n",
       "    </tr>\n",
       "    <tr>\n",
       "      <th>2000-01-03</th>\n",
       "      <td>-0.661424</td>\n",
       "      <td>-0.591794</td>\n",
       "      <td>0.384762</td>\n",
       "    </tr>\n",
       "    <tr>\n",
       "      <th>2000-01-04</th>\n",
       "      <td>0.036827</td>\n",
       "      <td>0.585415</td>\n",
       "      <td>0.405477</td>\n",
       "    </tr>\n",
       "    <tr>\n",
       "      <th>2000-01-05</th>\n",
       "      <td>0.163572</td>\n",
       "      <td>-0.065812</td>\n",
       "      <td>-1.169103</td>\n",
       "    </tr>\n",
       "  </tbody>\n",
       "</table>\n",
       "</div>"
      ],
      "text/plain": [
       "                   A         B         C\n",
       "2000-01-01  0.943858 -0.249067 -1.324645\n",
       "2000-01-02  0.766300 -0.069155 -0.041424\n",
       "2000-01-03 -0.661424 -0.591794  0.384762\n",
       "2000-01-04  0.036827  0.585415  0.405477\n",
       "2000-01-05  0.163572 -0.065812 -1.169103"
      ]
     },
     "execution_count": 60,
     "metadata": {},
     "output_type": "execute_result"
    }
   ],
   "source": [
    "# working with date and time frequencies\n",
    "# pandas provides a set of useful date offset objects\n",
    "# that can be used to shift dates\n",
    "df = pd.DataFrame(np.random.randn(5, 3),\n",
    "                    index=pd.date_range('1/1/2000', periods=5),\n",
    "                    columns=list('ABC'))\n",
    "df"
   ]
  },
  {
   "cell_type": "code",
   "execution_count": 61,
   "id": "efe29b1b-5eac-4e68-a78a-5f0d7a2dcbdf",
   "metadata": {},
   "outputs": [
    {
     "data": {
      "text/plain": [
       "<pandas.core.resample.DatetimeIndexResampler object at 0x7fd92e4f3c40>"
      ]
     },
     "execution_count": 61,
     "metadata": {},
     "output_type": "execute_result"
    }
   ],
   "source": [
    "df.resample('D')"
   ]
  },
  {
   "cell_type": "code",
   "execution_count": 66,
   "id": "49a048b2-b1a3-4764-bd23-0dbff90c9a9c",
   "metadata": {},
   "outputs": [
    {
     "data": {
      "text/html": [
       "<div>\n",
       "<style scoped>\n",
       "    .dataframe tbody tr th:only-of-type {\n",
       "        vertical-align: middle;\n",
       "    }\n",
       "\n",
       "    .dataframe tbody tr th {\n",
       "        vertical-align: top;\n",
       "    }\n",
       "\n",
       "    .dataframe thead th {\n",
       "        text-align: right;\n",
       "    }\n",
       "</style>\n",
       "<table border=\"1\" class=\"dataframe\">\n",
       "  <thead>\n",
       "    <tr style=\"text-align: right;\">\n",
       "      <th></th>\n",
       "      <th>A</th>\n",
       "      <th>B</th>\n",
       "      <th>C</th>\n",
       "    </tr>\n",
       "  </thead>\n",
       "  <tbody>\n",
       "    <tr>\n",
       "      <th>2000-01-01</th>\n",
       "      <td>-0.256271</td>\n",
       "      <td>0.354690</td>\n",
       "      <td>0.364681</td>\n",
       "    </tr>\n",
       "    <tr>\n",
       "      <th>2000-01-02</th>\n",
       "      <td>1.578034</td>\n",
       "      <td>0.427724</td>\n",
       "      <td>0.683645</td>\n",
       "    </tr>\n",
       "    <tr>\n",
       "      <th>2000-01-03</th>\n",
       "      <td>0.325317</td>\n",
       "      <td>-1.746206</td>\n",
       "      <td>-1.656321</td>\n",
       "    </tr>\n",
       "    <tr>\n",
       "      <th>2000-01-04</th>\n",
       "      <td>0.592429</td>\n",
       "      <td>-0.411040</td>\n",
       "      <td>-0.400027</td>\n",
       "    </tr>\n",
       "    <tr>\n",
       "      <th>2000-01-05</th>\n",
       "      <td>0.119811</td>\n",
       "      <td>0.581237</td>\n",
       "      <td>-0.052405</td>\n",
       "    </tr>\n",
       "  </tbody>\n",
       "</table>\n",
       "</div>"
      ],
      "text/plain": [
       "                   A         B         C\n",
       "2000-01-01 -0.256271  0.354690  0.364681\n",
       "2000-01-02  1.578034  0.427724  0.683645\n",
       "2000-01-03  0.325317 -1.746206 -1.656321\n",
       "2000-01-04  0.592429 -0.411040 -0.400027\n",
       "2000-01-05  0.119811  0.581237 -0.052405"
      ]
     },
     "execution_count": 66,
     "metadata": {},
     "output_type": "execute_result"
    }
   ],
   "source": [
    "# Adding custom business days\n",
    "# pandas provides a set of useful date offset objects\n",
    "# that can be used to shift dates\n",
    "df = pd.DataFrame(np.random.randn(5, 3),\n",
    "                    index=pd.date_range('1/1/2000', periods=5),\n",
    "                    columns=list('ABC'))\n",
    "df"
   ]
  },
  {
   "cell_type": "code",
   "execution_count": 67,
   "id": "7be5d04c-5aaa-4211-abf4-51a2f17fd280",
   "metadata": {},
   "outputs": [
    {
     "name": "stderr",
     "output_type": "stream",
     "text": [
      "/Users/tarekatwan/opt/anaconda3/envs/ch2/lib/python3.9/site-packages/pandas/core/arrays/datetimes.py:741: PerformanceWarning: Non-vectorized DateOffset being applied to Series or DatetimeIndex\n",
      "  warnings.warn(\n"
     ]
    },
    {
     "data": {
      "text/html": [
       "<div>\n",
       "<style scoped>\n",
       "    .dataframe tbody tr th:only-of-type {\n",
       "        vertical-align: middle;\n",
       "    }\n",
       "\n",
       "    .dataframe tbody tr th {\n",
       "        vertical-align: top;\n",
       "    }\n",
       "\n",
       "    .dataframe thead th {\n",
       "        text-align: right;\n",
       "    }\n",
       "</style>\n",
       "<table border=\"1\" class=\"dataframe\">\n",
       "  <thead>\n",
       "    <tr style=\"text-align: right;\">\n",
       "      <th></th>\n",
       "      <th>A</th>\n",
       "      <th>B</th>\n",
       "      <th>C</th>\n",
       "    </tr>\n",
       "  </thead>\n",
       "  <tbody>\n",
       "    <tr>\n",
       "      <th>2000-01-04</th>\n",
       "      <td>-0.256271</td>\n",
       "      <td>0.354690</td>\n",
       "      <td>0.364681</td>\n",
       "    </tr>\n",
       "    <tr>\n",
       "      <th>2000-01-04</th>\n",
       "      <td>1.578034</td>\n",
       "      <td>0.427724</td>\n",
       "      <td>0.683645</td>\n",
       "    </tr>\n",
       "    <tr>\n",
       "      <th>2000-01-05</th>\n",
       "      <td>0.325317</td>\n",
       "      <td>-1.746206</td>\n",
       "      <td>-1.656321</td>\n",
       "    </tr>\n",
       "    <tr>\n",
       "      <th>2000-01-06</th>\n",
       "      <td>0.592429</td>\n",
       "      <td>-0.411040</td>\n",
       "      <td>-0.400027</td>\n",
       "    </tr>\n",
       "    <tr>\n",
       "      <th>2000-01-07</th>\n",
       "      <td>0.119811</td>\n",
       "      <td>0.581237</td>\n",
       "      <td>-0.052405</td>\n",
       "    </tr>\n",
       "  </tbody>\n",
       "</table>\n",
       "</div>"
      ],
      "text/plain": [
       "                   A         B         C\n",
       "2000-01-04 -0.256271  0.354690  0.364681\n",
       "2000-01-04  1.578034  0.427724  0.683645\n",
       "2000-01-05  0.325317 -1.746206 -1.656321\n",
       "2000-01-06  0.592429 -0.411040 -0.400027\n",
       "2000-01-07  0.119811  0.581237 -0.052405"
      ]
     },
     "execution_count": 67,
     "metadata": {},
     "output_type": "execute_result"
    }
   ],
   "source": [
    "df.index = df.index + pd.offsets.CustomBusinessDay(2)\n",
    "df"
   ]
  },
  {
   "cell_type": "code",
   "execution_count": null,
   "id": "d4a93fe6-ad15-445c-afd8-485b0f0f79b4",
   "metadata": {},
   "outputs": [],
   "source": []
  }
 ],
 "metadata": {
  "kernelspec": {
   "display_name": "Python [conda env:ch2]",
   "language": "python",
   "name": "conda-env-ch2-py"
  },
  "language_info": {
   "codemirror_mode": {
    "name": "ipython",
    "version": 3
   },
   "file_extension": ".py",
   "mimetype": "text/x-python",
   "name": "python",
   "nbconvert_exporter": "python",
   "pygments_lexer": "ipython3",
   "version": "3.9.6"
  }
 },
 "nbformat": 4,
 "nbformat_minor": 5
}
