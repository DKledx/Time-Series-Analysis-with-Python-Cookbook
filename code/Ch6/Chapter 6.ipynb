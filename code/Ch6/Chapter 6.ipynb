{
 "cells": [
  {
   "cell_type": "markdown",
   "id": "152c0b51-0637-4b74-b6ea-eae79e7d14f1",
   "metadata": {},
   "source": [
    "# Creating a DatetimeIndex"
   ]
  },
  {
   "cell_type": "code",
   "execution_count": 2,
   "id": "5e20945e-d5c3-42d7-b6e1-cd3739a2737b",
   "metadata": {},
   "outputs": [],
   "source": [
    "import pandas as pd\n",
    "import numpy as np\n",
    "import datetime as dt\n",
    "import pytz"
   ]
  },
  {
   "cell_type": "code",
   "execution_count": 203,
   "id": "39fc97d8-b3ea-4e1e-8dd4-555ac545a00a",
   "metadata": {},
   "outputs": [
    {
     "data": {
      "text/plain": [
       "'1.3.2'"
      ]
     },
     "execution_count": 203,
     "metadata": {},
     "output_type": "execute_result"
    }
   ],
   "source": [
    "pd.__version__"
   ]
  },
  {
   "cell_type": "markdown",
   "id": "6a6f85bc-9b70-4a43-b65c-5a61d161fe55",
   "metadata": {},
   "source": [
    "### Python's `Datetime`, pandas `Timestamp`, and `panda.to_datetime()`"
   ]
  },
  {
   "cell_type": "code",
   "execution_count": 4,
   "id": "f6ab8d39-448a-4b24-a6b5-c6cfee53f0de",
   "metadata": {},
   "outputs": [],
   "source": [
    "dt1 = dt.datetime(2021,1,1)\n",
    "dt2 = pd.Timestamp(2021,1,1)\n",
    "dt3 = pd.to_datetime('2021-1-1')"
   ]
  },
  {
   "cell_type": "code",
   "execution_count": 5,
   "id": "3c2bd61c-db6f-4f18-baaa-c2f67fce2db7",
   "metadata": {},
   "outputs": [
    {
     "name": "stdout",
     "output_type": "stream",
     "text": [
      "2021-01-01 00:00:00\n",
      "2021-01-01 00:00:00\n",
      "2021-01-01 00:00:00\n"
     ]
    }
   ],
   "source": [
    "print(dt1)\n",
    "print(dt2)\n",
    "print(dt3)"
   ]
  },
  {
   "cell_type": "code",
   "execution_count": 6,
   "id": "abc69850-e23b-49b7-b9ad-655380875a45",
   "metadata": {},
   "outputs": [
    {
     "name": "stdout",
     "output_type": "stream",
     "text": [
      "<class 'datetime.datetime'>\n",
      "<class 'pandas._libs.tslibs.timestamps.Timestamp'>\n",
      "<class 'pandas._libs.tslibs.timestamps.Timestamp'>\n"
     ]
    }
   ],
   "source": [
    "print(type(dt1))\n",
    "print(type(dt2))\n",
    "print(type(dt3))"
   ]
  },
  {
   "cell_type": "code",
   "execution_count": 7,
   "id": "bde0ab76-6f91-4d52-8fed-1eec07d4e713",
   "metadata": {},
   "outputs": [
    {
     "data": {
      "text/plain": [
       "True"
      ]
     },
     "execution_count": 7,
     "metadata": {},
     "output_type": "execute_result"
    }
   ],
   "source": [
    "dt1 == dt2 == dt3"
   ]
  },
  {
   "cell_type": "code",
   "execution_count": 8,
   "id": "aa157e20-b473-4d56-be84-1370036301c9",
   "metadata": {},
   "outputs": [
    {
     "data": {
      "text/plain": [
       "True"
      ]
     },
     "execution_count": 8,
     "metadata": {},
     "output_type": "execute_result"
    }
   ],
   "source": [
    "dt.datetime(2021,1,1) == pd.to_datetime('2021-1-1')"
   ]
  },
  {
   "cell_type": "markdown",
   "id": "afb07209-edac-40af-a3b3-56ef48ae604c",
   "metadata": {},
   "source": [
    "### `pandas.to_datetime()`"
   ]
  },
  {
   "cell_type": "code",
   "execution_count": 9,
   "id": "b2a7cacf-1557-4c04-a2ad-6f416e13da88",
   "metadata": {},
   "outputs": [
    {
     "name": "stdout",
     "output_type": "stream",
     "text": [
      "DatetimeIndex(['2021-01-01', '2021-01-02'], dtype='datetime64[ns]', freq=None)\n",
      "<class 'pandas.core.indexes.datetimes.DatetimeIndex'>\n"
     ]
    }
   ],
   "source": [
    "dates = ['2021-1-1', '2021-1-2']\n",
    "pd_dates = pd.to_datetime(dates)\n",
    "print(pd_dates)\n",
    "print(type(pd_dates))"
   ]
  },
  {
   "cell_type": "code",
   "execution_count": 10,
   "id": "bd5715cb-21c9-4e99-9679-cf34abf7e817",
   "metadata": {},
   "outputs": [
    {
     "name": "stdout",
     "output_type": "stream",
     "text": [
      "2021-01-01 00:00:00\n",
      "<class 'pandas._libs.tslibs.timestamps.Timestamp'>\n"
     ]
    }
   ],
   "source": [
    "print(pd_dates[0])\n",
    "print(type(pd_dates[0]))"
   ]
  },
  {
   "cell_type": "code",
   "execution_count": 15,
   "id": "e4f6df62-eda2-4a06-80f1-5ebcdb511875",
   "metadata": {},
   "outputs": [],
   "source": [
    "dates = ['2021-01-01', # date str format %Y-%m-%d\n",
    "         '2/1/2021', # date str format %m/%d/%Y\n",
    "         '03-01-2021', # date  str format %m-%d-%Y\n",
    "         'April 1, 2021', # date  str format %B %d, %Y\n",
    "         '20210501', # date str format %Y%m%d\n",
    "          np.datetime64('2021-07-01'), # numpy datetime64\n",
    "          dt.datetime(2021, 8, 1), # python datetime\n",
    "          pd.Timestamp(2021,9,1) # pandas Timestamp\n",
    "          ]"
   ]
  },
  {
   "cell_type": "code",
   "execution_count": 16,
   "id": "274badb3-a13d-4e30-80d1-64a35f24cc44",
   "metadata": {},
   "outputs": [
    {
     "name": "stdout",
     "output_type": "stream",
     "text": [
      "DatetimeIndex(['2021-01-01', '2021-02-01', '2021-03-01', '2021-04-01',\n",
      "               '2021-05-01', '2021-07-01', '2021-08-01', '2021-09-01'],\n",
      "              dtype='datetime64[ns]', freq=None)\n"
     ]
    }
   ],
   "source": [
    "parsed_dates = pd.to_datetime(\n",
    "                 dates,\n",
    "                 infer_datetime_format=True,\n",
    "                 errors='coerce'\n",
    "                 )\n",
    "\n",
    "print(parsed_dates)"
   ]
  },
  {
   "cell_type": "code",
   "execution_count": 17,
   "id": "243b75de-81bd-4d9b-b0db-eac531b17cc0",
   "metadata": {},
   "outputs": [
    {
     "data": {
      "text/plain": [
       "array([ True,  True,  True,  True,  True,  True,  True,  True])"
      ]
     },
     "execution_count": 17,
     "metadata": {},
     "output_type": "execute_result"
    }
   ],
   "source": [
    "pd.DatetimeIndex(dates) == parsed_dates"
   ]
  },
  {
   "cell_type": "code",
   "execution_count": 18,
   "id": "c4dce48d-d250-44a1-be33-bf73cc104034",
   "metadata": {},
   "outputs": [
    {
     "data": {
      "text/plain": [
       "DatetimeIndex(['2021-01-01', '2021-02-01', '2021-03-01', '2021-04-01',\n",
       "               '2021-05-01', '2021-07-01', '2021-08-01', '2021-09-01'],\n",
       "              dtype='datetime64[ns]', freq=None)"
      ]
     },
     "execution_count": 18,
     "metadata": {},
     "output_type": "execute_result"
    }
   ],
   "source": [
    "parsed_dates = pd.DatetimeIndex(dates)\n",
    "parsed_dates"
   ]
  },
  {
   "cell_type": "code",
   "execution_count": 19,
   "id": "3d81ce84-4df0-4726-b2bd-08629b84d6ef",
   "metadata": {},
   "outputs": [
    {
     "name": "stdout",
     "output_type": "stream",
     "text": [
      "Name of Day : Index(['Friday', 'Monday', 'Monday', 'Thursday', 'Saturday', 'Thursday',\n",
      "       'Sunday', 'Wednesday'],\n",
      "      dtype='object')\n",
      "Month : Int64Index([1, 2, 3, 4, 5, 7, 8, 9], dtype='int64')\n",
      "Year : Int64Index([2021, 2021, 2021, 2021, 2021, 2021, 2021, 2021], dtype='int64')\n",
      "Days in Month : Int64Index([31, 28, 31, 30, 31, 31, 31, 30], dtype='int64')\n",
      "Quarter Int64Index([1, 1, 1, 2, 2, 3, 3, 3], dtype='int64')\n",
      "Quarter Start : [ True False False  True False  True False False]\n",
      "Leap Year : [False False False False False False False False]\n",
      "Month Start : [ True  True  True  True  True  True  True  True]\n",
      "Month End : [False False False False False False False False]\n",
      "Year Start : [ True False False False False False False False]\n"
     ]
    }
   ],
   "source": [
    "print(f'Name of Day : {parsed_dates.day_name()}')\n",
    "print(f'Month : {parsed_dates.month}')\n",
    "print(f'Year : {parsed_dates.year}')\n",
    "print(f'Days in Month : {parsed_dates.days_in_month}')\n",
    "print(f'Quarter {parsed_dates.quarter}')\n",
    "print(f'Quarter Start : {parsed_dates.is_quarter_start}')\n",
    "print(f'Leap Year : {parsed_dates.is_leap_year}')\n",
    "print(f'Month Start : {parsed_dates.is_month_start}')\n",
    "print(f'Month End : {parsed_dates.is_month_end}')\n",
    "print(f'Year Start : {parsed_dates.is_year_start}')\n"
   ]
  },
  {
   "cell_type": "code",
   "execution_count": 20,
   "id": "8e244b4c-c08e-4bc0-a180-0df7737987e7",
   "metadata": {},
   "outputs": [
    {
     "data": {
      "text/plain": [
       "DatetimeIndex(['2021-01-01', '2021-01-02', '2021-01-03'], dtype='datetime64[ns]', freq='D')"
      ]
     },
     "execution_count": 20,
     "metadata": {},
     "output_type": "execute_result"
    }
   ],
   "source": [
    "pd.date_range(start='2021-01-01', periods=3, freq='D')"
   ]
  },
  {
   "cell_type": "code",
   "execution_count": 21,
   "id": "a4f57faf-a199-40f9-9efb-379cc54424e8",
   "metadata": {},
   "outputs": [
    {
     "data": {
      "text/plain": [
       "DatetimeIndex(['2021-01-01', '2021-01-02', '2021-01-03'], dtype='datetime64[ns]', freq='D')"
      ]
     },
     "execution_count": 21,
     "metadata": {},
     "output_type": "execute_result"
    }
   ],
   "source": [
    "pd.date_range(start='2021-01-01',\n",
    "               end='2021-01-03',\n",
    "               freq='D')\n"
   ]
  },
  {
   "cell_type": "markdown",
   "id": "b9d83d91-ea21-4ef3-a805-ef683a37fbe3",
   "metadata": {
    "tags": []
   },
   "source": [
    "# Using Format Arguemtns to DateTime"
   ]
  },
  {
   "cell_type": "code",
   "execution_count": 22,
   "id": "4c6903bb-5eb0-4d4b-88b9-4b5b99c5bdd5",
   "metadata": {},
   "outputs": [],
   "source": [
    "import pandas as pd\n",
    "import datetime as dt"
   ]
  },
  {
   "cell_type": "markdown",
   "id": "46018d67-2133-478f-9647-3fb11a9383d8",
   "metadata": {},
   "source": [
    "Using Python `datetime.strptime()`"
   ]
  },
  {
   "cell_type": "code",
   "execution_count": 23,
   "id": "1b1458ca-ed04-4217-a8d5-f1a9f963d8ec",
   "metadata": {},
   "outputs": [
    {
     "data": {
      "text/plain": [
       "datetime.date(2022, 1, 1)"
      ]
     },
     "execution_count": 23,
     "metadata": {},
     "output_type": "execute_result"
    }
   ],
   "source": [
    "dt.datetime.strptime('1/1/2022', '%m/%d/%Y').date()"
   ]
  },
  {
   "cell_type": "code",
   "execution_count": 24,
   "id": "3584bd95-6431-485f-8664-042844761f6c",
   "metadata": {},
   "outputs": [
    {
     "data": {
      "text/plain": [
       "datetime.date(2022, 1, 1)"
      ]
     },
     "execution_count": 24,
     "metadata": {},
     "output_type": "execute_result"
    }
   ],
   "source": [
    "dt.datetime.strptime('1 January, 2022', '%d %B, %Y').date()"
   ]
  },
  {
   "cell_type": "code",
   "execution_count": 25,
   "id": "d3bd17d0-9d7d-4652-b525-805e83a338f1",
   "metadata": {},
   "outputs": [
    {
     "data": {
      "text/plain": [
       "datetime.date(2022, 1, 1)"
      ]
     },
     "execution_count": 25,
     "metadata": {},
     "output_type": "execute_result"
    }
   ],
   "source": [
    "dt.datetime.strptime('1-Jan-2022', '%d-%b-%Y').date()"
   ]
  },
  {
   "cell_type": "code",
   "execution_count": 26,
   "id": "e50a9afb-f380-4ef0-b196-a0034d079785",
   "metadata": {},
   "outputs": [
    {
     "data": {
      "text/plain": [
       "datetime.date(2022, 1, 1)"
      ]
     },
     "execution_count": 26,
     "metadata": {},
     "output_type": "execute_result"
    }
   ],
   "source": [
    "dt.datetime.strptime('Saturday, January 1, 2022', '%A, %B %d, %Y').date()"
   ]
  },
  {
   "cell_type": "code",
   "execution_count": 27,
   "id": "bc10f29e-03e8-4b8d-b8b0-d6df1bf1ccec",
   "metadata": {},
   "outputs": [
    {
     "data": {
      "text/plain": [
       "'2022-01-01 00:00:00'"
      ]
     },
     "execution_count": 27,
     "metadata": {},
     "output_type": "execute_result"
    }
   ],
   "source": [
    "dt_1 = dt.datetime.strptime('1/1/2022', '%m/%d/%Y')\n",
    "dt_1.__str__()\n",
    "str(dt_1)"
   ]
  },
  {
   "cell_type": "code",
   "execution_count": 28,
   "id": "6f323c18-f5a0-47b1-a418-029d936c333c",
   "metadata": {},
   "outputs": [
    {
     "name": "stdout",
     "output_type": "stream",
     "text": [
      "2022-01-01 00:00:00\n"
     ]
    }
   ],
   "source": [
    "print(dt_1)"
   ]
  },
  {
   "cell_type": "markdown",
   "id": "c39ec26b-5785-4f4f-bbae-6bfd18b58dea",
   "metadata": {},
   "source": [
    "Using `pandas.to_datetime()`"
   ]
  },
  {
   "cell_type": "code",
   "execution_count": 29,
   "id": "3e15b333-9a95-4f8c-8221-f975bbae4ebf",
   "metadata": {},
   "outputs": [
    {
     "data": {
      "text/plain": [
       "Timestamp('2022-01-01 00:00:00')"
      ]
     },
     "execution_count": 29,
     "metadata": {},
     "output_type": "execute_result"
    }
   ],
   "source": [
    "pd.to_datetime('1/1/2022', format='%m/%d/%Y')"
   ]
  },
  {
   "cell_type": "code",
   "execution_count": 30,
   "id": "f19e061d-a8af-4677-9425-e39737579e00",
   "metadata": {},
   "outputs": [
    {
     "data": {
      "text/plain": [
       "Timestamp('2022-01-01 00:00:00')"
      ]
     },
     "execution_count": 30,
     "metadata": {},
     "output_type": "execute_result"
    }
   ],
   "source": [
    "pd.to_datetime('1 January, 2022', format='%d %B, %Y')"
   ]
  },
  {
   "cell_type": "code",
   "execution_count": 31,
   "id": "2077f6fe-a4b2-4c7d-af7c-d1f9da34793c",
   "metadata": {},
   "outputs": [
    {
     "data": {
      "text/plain": [
       "Timestamp('2022-01-01 00:00:00')"
      ]
     },
     "execution_count": 31,
     "metadata": {},
     "output_type": "execute_result"
    }
   ],
   "source": [
    "pd.to_datetime('1-Jan-2022', format='%d-%b-%Y')"
   ]
  },
  {
   "cell_type": "code",
   "execution_count": 32,
   "id": "ad7d87a1-85d1-43bf-acad-e578b4303040",
   "metadata": {},
   "outputs": [
    {
     "data": {
      "text/plain": [
       "Timestamp('2022-01-01 00:00:00')"
      ]
     },
     "execution_count": 32,
     "metadata": {},
     "output_type": "execute_result"
    }
   ],
   "source": [
    "pd.to_datetime('Saturday, January 1, 2022', format='%A, %B %d, %Y')"
   ]
  },
  {
   "cell_type": "code",
   "execution_count": 33,
   "id": "fb910785-30f6-4b6d-8ed3-528aceb51a81",
   "metadata": {},
   "outputs": [
    {
     "name": "stdout",
     "output_type": "stream",
     "text": [
      "2022-01-01 00:00:00\n"
     ]
    }
   ],
   "source": [
    "dt_2 = pd.to_datetime('1/1/2022', format='%m/%d/%Y')\n",
    "print(dt_2)"
   ]
  },
  {
   "cell_type": "code",
   "execution_count": 34,
   "id": "1eb88a87-aa5b-424b-8a55-2cdc382ff29e",
   "metadata": {},
   "outputs": [
    {
     "data": {
      "text/plain": [
       "Timestamp('2022-01-01 00:00:00')"
      ]
     },
     "execution_count": 34,
     "metadata": {},
     "output_type": "execute_result"
    }
   ],
   "source": [
    "pd.to_datetime('1-Jan-2022')"
   ]
  },
  {
   "cell_type": "code",
   "execution_count": 35,
   "id": "01146cf7-66db-4ac6-b235-4058b00eca11",
   "metadata": {},
   "outputs": [
    {
     "data": {
      "text/plain": [
       "Timestamp('2022-01-01 00:00:00')"
      ]
     },
     "execution_count": 35,
     "metadata": {},
     "output_type": "execute_result"
    }
   ],
   "source": [
    "pd.to_datetime('Saturday, January 1, 2022')"
   ]
  },
  {
   "cell_type": "code",
   "execution_count": 36,
   "id": "ae408149-859b-46bf-bb3c-2b80bc83980b",
   "metadata": {},
   "outputs": [
    {
     "data": {
      "text/plain": [
       "'2022-01-01 00:00:00'"
      ]
     },
     "execution_count": 36,
     "metadata": {},
     "output_type": "execute_result"
    }
   ],
   "source": [
    "str(dt_2)\n",
    "dt_2.__str__()"
   ]
  },
  {
   "cell_type": "code",
   "execution_count": 37,
   "id": "9e6906d5-996d-46ab-96e7-4a2c5f0304bb",
   "metadata": {},
   "outputs": [
    {
     "data": {
      "text/plain": [
       "True"
      ]
     },
     "execution_count": 37,
     "metadata": {},
     "output_type": "execute_result"
    }
   ],
   "source": [
    "dt_1 == dt_2"
   ]
  },
  {
   "cell_type": "code",
   "execution_count": 38,
   "id": "c87db5fe-37db-478b-b5d9-15d4f2d23fa5",
   "metadata": {},
   "outputs": [
    {
     "data": {
      "text/plain": [
       "datetime.date(2022, 1, 1)"
      ]
     },
     "execution_count": 38,
     "metadata": {},
     "output_type": "execute_result"
    }
   ],
   "source": [
    "dt_1.date()"
   ]
  },
  {
   "cell_type": "code",
   "execution_count": 39,
   "id": "e4ffc880-a830-4000-b062-3820d6ab4164",
   "metadata": {},
   "outputs": [
    {
     "data": {
      "text/plain": [
       "datetime.date(2022, 1, 1)"
      ]
     },
     "execution_count": 39,
     "metadata": {},
     "output_type": "execute_result"
    }
   ],
   "source": [
    "dt_2.date()"
   ]
  },
  {
   "cell_type": "code",
   "execution_count": 40,
   "id": "7ea8de4e-dc18-461c-8a21-406e38fd86b8",
   "metadata": {},
   "outputs": [
    {
     "data": {
      "text/plain": [
       "pandas._libs.tslibs.timestamps.Timestamp"
      ]
     },
     "execution_count": 40,
     "metadata": {},
     "output_type": "execute_result"
    }
   ],
   "source": [
    "type(dt_1)\n",
    "type(dt_2)"
   ]
  },
  {
   "cell_type": "code",
   "execution_count": 41,
   "id": "b4c617c0-479b-4899-a9eb-aa1ecac28b76",
   "metadata": {},
   "outputs": [
    {
     "data": {
      "text/plain": [
       "False"
      ]
     },
     "execution_count": 41,
     "metadata": {},
     "output_type": "execute_result"
    }
   ],
   "source": [
    "isinstance(pd.DatetimeIndex, pd.Timestamp)"
   ]
  },
  {
   "cell_type": "code",
   "execution_count": 42,
   "id": "9cc15ceb-0df8-43b5-86be-1cb9a917adef",
   "metadata": {},
   "outputs": [
    {
     "data": {
      "text/plain": [
       "True"
      ]
     },
     "execution_count": 42,
     "metadata": {},
     "output_type": "execute_result"
    }
   ],
   "source": [
    "isinstance(dt_1, dt.datetime)"
   ]
  },
  {
   "cell_type": "code",
   "execution_count": 43,
   "id": "91e8d0f7-7c6c-423a-8251-b2438ab64609",
   "metadata": {},
   "outputs": [
    {
     "data": {
      "text/plain": [
       "True"
      ]
     },
     "execution_count": 43,
     "metadata": {},
     "output_type": "execute_result"
    }
   ],
   "source": [
    "isinstance(dt_2, dt.datetime)"
   ]
  },
  {
   "cell_type": "code",
   "execution_count": 44,
   "id": "c935295c-dbad-4db3-aad5-a19c4cefe530",
   "metadata": {
    "tags": []
   },
   "outputs": [
    {
     "data": {
      "text/plain": [
       "False"
      ]
     },
     "execution_count": 44,
     "metadata": {},
     "output_type": "execute_result"
    }
   ],
   "source": [
    "isinstance(dt_1, pd.Timestamp)"
   ]
  },
  {
   "cell_type": "code",
   "execution_count": 45,
   "id": "aac2f890-a6b3-471d-bd65-70a6f17e5648",
   "metadata": {},
   "outputs": [
    {
     "data": {
      "text/plain": [
       "True"
      ]
     },
     "execution_count": 45,
     "metadata": {},
     "output_type": "execute_result"
    }
   ],
   "source": [
    "isinstance(dt_2, pd.Timestamp)"
   ]
  },
  {
   "cell_type": "code",
   "execution_count": 46,
   "id": "fb213c4f-7f68-4210-af97-e8f918b791a4",
   "metadata": {},
   "outputs": [
    {
     "data": {
      "text/plain": [
       "True"
      ]
     },
     "execution_count": 46,
     "metadata": {},
     "output_type": "execute_result"
    }
   ],
   "source": [
    "issubclass(pd.Timestamp, dt.datetime)"
   ]
  },
  {
   "cell_type": "markdown",
   "id": "2365f251-d53f-459c-8512-c9b6f71ffcc4",
   "metadata": {
    "tags": []
   },
   "source": [
    "### Tranforming a pandas DataFrame to a time series DataFrame"
   ]
  },
  {
   "cell_type": "code",
   "execution_count": 47,
   "id": "a4f00a6d-fcab-4de0-9148-43b32b66fa59",
   "metadata": {},
   "outputs": [
    {
     "data": {
      "text/html": [
       "<div>\n",
       "<style scoped>\n",
       "    .dataframe tbody tr th:only-of-type {\n",
       "        vertical-align: middle;\n",
       "    }\n",
       "\n",
       "    .dataframe tbody tr th {\n",
       "        vertical-align: top;\n",
       "    }\n",
       "\n",
       "    .dataframe thead th {\n",
       "        text-align: right;\n",
       "    }\n",
       "</style>\n",
       "<table border=\"1\" class=\"dataframe\">\n",
       "  <thead>\n",
       "    <tr style=\"text-align: right;\">\n",
       "      <th></th>\n",
       "      <th>Date</th>\n",
       "      <th>Sales</th>\n",
       "    </tr>\n",
       "  </thead>\n",
       "  <tbody>\n",
       "    <tr>\n",
       "      <th>0</th>\n",
       "      <td>January 1, 2022</td>\n",
       "      <td>23000</td>\n",
       "    </tr>\n",
       "    <tr>\n",
       "      <th>1</th>\n",
       "      <td>January 2, 2022</td>\n",
       "      <td>19020</td>\n",
       "    </tr>\n",
       "    <tr>\n",
       "      <th>2</th>\n",
       "      <td>January 3, 2022</td>\n",
       "      <td>21000</td>\n",
       "    </tr>\n",
       "  </tbody>\n",
       "</table>\n",
       "</div>"
      ],
      "text/plain": [
       "              Date  Sales\n",
       "0  January 1, 2022  23000\n",
       "1  January 2, 2022  19020\n",
       "2  January 3, 2022  21000"
      ]
     },
     "execution_count": 47,
     "metadata": {},
     "output_type": "execute_result"
    }
   ],
   "source": [
    "df = pd.DataFrame(\n",
    "        {'Date': ['January 1, 2022', 'January 2, 2022', 'January 3, 2022'],\n",
    "         'Sales': [23000, 19020, 21000]}\n",
    "            )\n",
    "df"
   ]
  },
  {
   "cell_type": "code",
   "execution_count": 48,
   "id": "3e8303f4-fc73-477a-a13b-8ebb2f95ca68",
   "metadata": {},
   "outputs": [
    {
     "name": "stdout",
     "output_type": "stream",
     "text": [
      "<class 'pandas.core.frame.DataFrame'>\n",
      "RangeIndex: 3 entries, 0 to 2\n",
      "Data columns (total 2 columns):\n",
      " #   Column  Non-Null Count  Dtype \n",
      "---  ------  --------------  ----- \n",
      " 0   Date    3 non-null      object\n",
      " 1   Sales   3 non-null      int64 \n",
      "dtypes: int64(1), object(1)\n",
      "memory usage: 176.0+ bytes\n"
     ]
    }
   ],
   "source": [
    "df.info()"
   ]
  },
  {
   "cell_type": "code",
   "execution_count": 49,
   "id": "809c9746-e98f-4aaf-b0de-949aaffbe039",
   "metadata": {},
   "outputs": [
    {
     "name": "stdout",
     "output_type": "stream",
     "text": [
      "<class 'pandas.core.frame.DataFrame'>\n",
      "DatetimeIndex: 3 entries, 2022-01-01 to 2022-01-03\n",
      "Data columns (total 1 columns):\n",
      " #   Column  Non-Null Count  Dtype\n",
      "---  ------  --------------  -----\n",
      " 0   Sales   3 non-null      int64\n",
      "dtypes: int64(1)\n",
      "memory usage: 48.0 bytes\n"
     ]
    }
   ],
   "source": [
    "df['Date'] = pd.to_datetime(df['Date'])\n",
    "df.set_index('Date', inplace=True)\n",
    "df.info()"
   ]
  },
  {
   "cell_type": "markdown",
   "id": "2b8767c1-0350-46b8-9d67-c24cf4dd971c",
   "metadata": {},
   "source": [
    "# Working with Unix EPOCH timestamps"
   ]
  },
  {
   "cell_type": "code",
   "execution_count": 72,
   "id": "3d01418d-14ff-40b6-b9bb-4bb679f05c74",
   "metadata": {},
   "outputs": [
    {
     "name": "stdout",
     "output_type": "stream",
     "text": [
      "1635220203.582277\n",
      "<class 'float'>\n"
     ]
    }
   ],
   "source": [
    "import time\n",
    "epoch_time = time.time()\n",
    "print(epoch_time)\n",
    "print(type(epoch_time))"
   ]
  },
  {
   "cell_type": "code",
   "execution_count": 184,
   "id": "73a1cb39-02f0-432d-ab33-310701cbe424",
   "metadata": {},
   "outputs": [
    {
     "name": "stdout",
     "output_type": "stream",
     "text": [
      "2021-10-26 03:48:53.855169024\n"
     ]
    }
   ],
   "source": [
    "import pandas as pd\n",
    "t = pd.to_datetime(1635220133.855169, unit='s')\n",
    "print(t)"
   ]
  },
  {
   "cell_type": "code",
   "execution_count": 106,
   "id": "692c20f1-598b-4d4d-9be3-528916b5488b",
   "metadata": {},
   "outputs": [],
   "source": [
    "t = pd.to_datetime(1635220133.855169, unit='s', )"
   ]
  },
  {
   "cell_type": "code",
   "execution_count": 112,
   "id": "5dfb8bac-f6c8-457e-b2fc-6f955d6ce9be",
   "metadata": {},
   "outputs": [
    {
     "data": {
      "text/plain": [
       "Timestamp('2021-10-25 20:48:53.855169024-0700', tz='US/Pacific')"
      ]
     },
     "execution_count": 155,
     "metadata": {},
     "output_type": "execute_result"
    }
   ],
   "source": [
    "t.tz_localize('UTC').tz_convert('US/Pacific')"
   ]
  },
  {
   "cell_type": "code",
   "execution_count": 168,
   "id": "f1d0ce87-04fc-43d9-961b-6bc12b18c5c0",
   "metadata": {},
   "outputs": [
    {
     "data": {
      "text/html": [
       "<div>\n",
       "<style scoped>\n",
       "    .dataframe tbody tr th:only-of-type {\n",
       "        vertical-align: middle;\n",
       "    }\n",
       "\n",
       "    .dataframe tbody tr th {\n",
       "        vertical-align: top;\n",
       "    }\n",
       "\n",
       "    .dataframe thead th {\n",
       "        text-align: right;\n",
       "    }\n",
       "</style>\n",
       "<table border=\"1\" class=\"dataframe\">\n",
       "  <thead>\n",
       "    <tr style=\"text-align: right;\">\n",
       "      <th></th>\n",
       "      <th>unix_epoch</th>\n",
       "      <th>Sales</th>\n",
       "    </tr>\n",
       "  </thead>\n",
       "  <tbody>\n",
       "    <tr>\n",
       "      <th>0</th>\n",
       "      <td>1641110340</td>\n",
       "      <td>23000</td>\n",
       "    </tr>\n",
       "    <tr>\n",
       "      <th>1</th>\n",
       "      <td>1641196740</td>\n",
       "      <td>19020</td>\n",
       "    </tr>\n",
       "    <tr>\n",
       "      <th>2</th>\n",
       "      <td>1641283140</td>\n",
       "      <td>21000</td>\n",
       "    </tr>\n",
       "    <tr>\n",
       "      <th>3</th>\n",
       "      <td>1641369540</td>\n",
       "      <td>17030</td>\n",
       "    </tr>\n",
       "  </tbody>\n",
       "</table>\n",
       "</div>"
      ],
      "text/plain": [
       "   unix_epoch  Sales\n",
       "0  1641110340  23000\n",
       "1  1641196740  19020\n",
       "2  1641283140  21000\n",
       "3  1641369540  17030"
      ]
     },
     "execution_count": 168,
     "metadata": {},
     "output_type": "execute_result"
    }
   ],
   "source": [
    "df = pd.DataFrame(\n",
    "        {'unix_epoch': [1641110340,  1641196740, 1641283140, 1641369540],\n",
    "                'Sales': [23000, 19020, 21000, 17030]}\n",
    "                )\n",
    "df"
   ]
  },
  {
   "cell_type": "code",
   "execution_count": 181,
   "id": "c16c25d3-3ce9-4510-867c-bcc7f272a944",
   "metadata": {},
   "outputs": [
    {
     "name": "stdout",
     "output_type": "stream",
     "text": [
      "<class 'pandas.core.frame.DataFrame'>\n",
      "DatetimeIndex: 4 entries, 2022-01-01 23:59:00-08:00 to 2022-01-04 23:59:00-08:00\n",
      "Data columns (total 3 columns):\n",
      " #   Column      Non-Null Count  Dtype                     \n",
      "---  ------      --------------  -----                     \n",
      " 0   unix_epoch  4 non-null      int64                     \n",
      " 1   Sales       4 non-null      int64                     \n",
      " 2   Date        4 non-null      datetime64[ns, US/Pacific]\n",
      "dtypes: datetime64[ns, US/Pacific](1), int64(2)\n",
      "memory usage: 128.0 bytes\n"
     ]
    }
   ],
   "source": [
    "df['Date'] = pd.to_datetime(df['unix_epoch'], unit='s')\n",
    "df['Date'] = df['Date'].dt.tz_localize('UTC').dt.tz_convert('US/Pacific')\n",
    "# df.set_index('Date', inplace=True)\n",
    "df.info()"
   ]
  },
  {
   "cell_type": "code",
   "execution_count": 180,
   "id": "b3fca87c-94c3-400f-8b78-4da017ac5462",
   "metadata": {},
   "outputs": [
    {
     "name": "stdout",
     "output_type": "stream",
     "text": [
      "<class 'pandas.core.frame.DataFrame'>\n",
      "DatetimeIndex: 4 entries, 2022-01-01 23:59:00-08:00 to 2022-01-04 23:59:00-08:00\n",
      "Data columns (total 2 columns):\n",
      " #   Column      Non-Null Count  Dtype\n",
      "---  ------      --------------  -----\n",
      " 0   unix_epoch  4 non-null      int64\n",
      " 1   Sales       4 non-null      int64\n",
      "dtypes: int64(2)\n",
      "memory usage: 96.0 bytes\n"
     ]
    }
   ],
   "source": [
    "df.info()"
   ]
  },
  {
   "cell_type": "code",
   "execution_count": 178,
   "id": "92d4f57e-75f5-45df-b344-0895316a2bd6",
   "metadata": {},
   "outputs": [
    {
     "data": {
      "text/html": [
       "<div>\n",
       "<style scoped>\n",
       "    .dataframe tbody tr th:only-of-type {\n",
       "        vertical-align: middle;\n",
       "    }\n",
       "\n",
       "    .dataframe tbody tr th {\n",
       "        vertical-align: top;\n",
       "    }\n",
       "\n",
       "    .dataframe thead th {\n",
       "        text-align: right;\n",
       "    }\n",
       "</style>\n",
       "<table border=\"1\" class=\"dataframe\">\n",
       "  <thead>\n",
       "    <tr style=\"text-align: right;\">\n",
       "      <th></th>\n",
       "      <th>unix_epoch</th>\n",
       "      <th>Sales</th>\n",
       "    </tr>\n",
       "  </thead>\n",
       "  <tbody>\n",
       "    <tr>\n",
       "      <th>2022-01-01</th>\n",
       "      <td>1641110340</td>\n",
       "      <td>23000</td>\n",
       "    </tr>\n",
       "    <tr>\n",
       "      <th>2022-01-02</th>\n",
       "      <td>1641196740</td>\n",
       "      <td>19020</td>\n",
       "    </tr>\n",
       "    <tr>\n",
       "      <th>2022-01-03</th>\n",
       "      <td>1641283140</td>\n",
       "      <td>21000</td>\n",
       "    </tr>\n",
       "    <tr>\n",
       "      <th>2022-01-04</th>\n",
       "      <td>1641369540</td>\n",
       "      <td>17030</td>\n",
       "    </tr>\n",
       "  </tbody>\n",
       "</table>\n",
       "</div>"
      ],
      "text/plain": [
       "            unix_epoch  Sales\n",
       "2022-01-01  1641110340  23000\n",
       "2022-01-02  1641196740  19020\n",
       "2022-01-03  1641283140  21000\n",
       "2022-01-04  1641369540  17030"
      ]
     },
     "execution_count": 178,
     "metadata": {},
     "output_type": "execute_result"
    }
   ],
   "source": [
    "df.index = df.index.date\n",
    "df"
   ]
  },
  {
   "cell_type": "code",
   "execution_count": 187,
   "id": "84135579-a085-4878-b863-2ca230058ad9",
   "metadata": {},
   "outputs": [],
   "source": [
    "t = pd.to_datetime(1635220133.855169, unit='s', origin='unix')"
   ]
  },
  {
   "cell_type": "code",
   "execution_count": 195,
   "id": "e53fd3a1-a0f0-498c-a56e-55f3773be4e9",
   "metadata": {},
   "outputs": [
    {
     "data": {
      "text/html": [
       "<div>\n",
       "<style scoped>\n",
       "    .dataframe tbody tr th:only-of-type {\n",
       "        vertical-align: middle;\n",
       "    }\n",
       "\n",
       "    .dataframe tbody tr th {\n",
       "        vertical-align: top;\n",
       "    }\n",
       "\n",
       "    .dataframe thead th {\n",
       "        text-align: right;\n",
       "    }\n",
       "</style>\n",
       "<table border=\"1\" class=\"dataframe\">\n",
       "  <thead>\n",
       "    <tr style=\"text-align: right;\">\n",
       "      <th></th>\n",
       "      <th>Date</th>\n",
       "      <th>order</th>\n",
       "    </tr>\n",
       "  </thead>\n",
       "  <tbody>\n",
       "    <tr>\n",
       "      <th>0</th>\n",
       "      <td>2022-01-01</td>\n",
       "      <td>0</td>\n",
       "    </tr>\n",
       "    <tr>\n",
       "      <th>1</th>\n",
       "      <td>2022-01-02</td>\n",
       "      <td>1</td>\n",
       "    </tr>\n",
       "    <tr>\n",
       "      <th>2</th>\n",
       "      <td>2022-01-03</td>\n",
       "      <td>2</td>\n",
       "    </tr>\n",
       "    <tr>\n",
       "      <th>3</th>\n",
       "      <td>2022-01-04</td>\n",
       "      <td>3</td>\n",
       "    </tr>\n",
       "    <tr>\n",
       "      <th>4</th>\n",
       "      <td>2022-01-05</td>\n",
       "      <td>4</td>\n",
       "    </tr>\n",
       "  </tbody>\n",
       "</table>\n",
       "</div>"
      ],
      "text/plain": [
       "        Date  order\n",
       "0 2022-01-01      0\n",
       "1 2022-01-02      1\n",
       "2 2022-01-03      2\n",
       "3 2022-01-04      3\n",
       "4 2022-01-05      4"
      ]
     },
     "execution_count": 195,
     "metadata": {},
     "output_type": "execute_result"
    }
   ],
   "source": [
    "df = pd.DataFrame(\n",
    "        {'Date': pd.date_range('01-01-2022', periods=5),\n",
    "        'order' : range(5)}\n",
    "                 )\n",
    "df"
   ]
  },
  {
   "cell_type": "code",
   "execution_count": 197,
   "id": "c6c18658-da01-4dc2-b4ed-13d21f2dd2c7",
   "metadata": {},
   "outputs": [
    {
     "data": {
      "text/plain": [
       "0    1640995200\n",
       "1    1641081600\n",
       "2    1641168000\n",
       "3    1641254400\n",
       "4    1641340800\n",
       "Name: Date, dtype: int64"
      ]
     },
     "execution_count": 197,
     "metadata": {},
     "output_type": "execute_result"
    }
   ],
   "source": [
    "(df['Date'] -  pd.Timestamp(\"1970-01-01\")) // pd.Timedelta(\"1s\")"
   ]
  },
  {
   "cell_type": "markdown",
   "id": "f31a03d7-7366-44bc-9835-849063f3b3f5",
   "metadata": {},
   "source": [
    "# Working with Date Offsets and Time Deltas"
   ]
  },
  {
   "cell_type": "code",
   "execution_count": 201,
   "id": "419c4741-69b9-4103-b0d0-b03604044b89",
   "metadata": {},
   "outputs": [
    {
     "data": {
      "text/html": [
       "<div>\n",
       "<style scoped>\n",
       "    .dataframe tbody tr th:only-of-type {\n",
       "        vertical-align: middle;\n",
       "    }\n",
       "\n",
       "    .dataframe tbody tr th {\n",
       "        vertical-align: top;\n",
       "    }\n",
       "\n",
       "    .dataframe thead th {\n",
       "        text-align: right;\n",
       "    }\n",
       "</style>\n",
       "<table border=\"1\" class=\"dataframe\">\n",
       "  <thead>\n",
       "    <tr style=\"text-align: right;\">\n",
       "      <th></th>\n",
       "      <th>sales</th>\n",
       "    </tr>\n",
       "    <tr>\n",
       "      <th>date</th>\n",
       "      <th></th>\n",
       "    </tr>\n",
       "  </thead>\n",
       "  <tbody>\n",
       "    <tr>\n",
       "      <th>2021-01-01</th>\n",
       "      <td>300</td>\n",
       "    </tr>\n",
       "    <tr>\n",
       "      <th>2021-01-02</th>\n",
       "      <td>400</td>\n",
       "    </tr>\n",
       "    <tr>\n",
       "      <th>2021-01-03</th>\n",
       "      <td>500</td>\n",
       "    </tr>\n",
       "    <tr>\n",
       "      <th>2021-01-04</th>\n",
       "      <td>600</td>\n",
       "    </tr>\n",
       "    <tr>\n",
       "      <th>2021-01-05</th>\n",
       "      <td>700</td>\n",
       "    </tr>\n",
       "    <tr>\n",
       "      <th>2021-01-06</th>\n",
       "      <td>800</td>\n",
       "    </tr>\n",
       "  </tbody>\n",
       "</table>\n",
       "</div>"
      ],
      "text/plain": [
       "            sales\n",
       "date             \n",
       "2021-01-01    300\n",
       "2021-01-02    400\n",
       "2021-01-03    500\n",
       "2021-01-04    600\n",
       "2021-01-05    700\n",
       "2021-01-06    800"
      ]
     },
     "execution_count": 201,
     "metadata": {},
     "output_type": "execute_result"
    }
   ],
   "source": [
    "df = pd.DataFrame(\n",
    "        {       \n",
    "                'sales': [300, 400, 500, 600, 700, 800],\n",
    "                'date': pd.date_range('2021-01-01', periods=6, freq='D')\n",
    "        }\n",
    ")\n",
    "df.set_index('date', inplace=True)\n",
    "df"
   ]
  },
  {
   "cell_type": "code",
   "execution_count": 208,
   "id": "6f658f7f-cf45-4e21-b5a0-4a1935eda400",
   "metadata": {},
   "outputs": [
    {
     "data": {
      "text/html": [
       "<div>\n",
       "<style scoped>\n",
       "    .dataframe tbody tr th:only-of-type {\n",
       "        vertical-align: middle;\n",
       "    }\n",
       "\n",
       "    .dataframe tbody tr th {\n",
       "        vertical-align: top;\n",
       "    }\n",
       "\n",
       "    .dataframe thead th {\n",
       "        text-align: right;\n",
       "    }\n",
       "</style>\n",
       "<table border=\"1\" class=\"dataframe\">\n",
       "  <thead>\n",
       "    <tr style=\"text-align: right;\">\n",
       "      <th></th>\n",
       "      <th>sales</th>\n",
       "      <th>td_1</th>\n",
       "    </tr>\n",
       "    <tr>\n",
       "      <th>date</th>\n",
       "      <th></th>\n",
       "      <th></th>\n",
       "    </tr>\n",
       "  </thead>\n",
       "  <tbody>\n",
       "    <tr>\n",
       "      <th>2021-01-03</th>\n",
       "      <td>300</td>\n",
       "      <td>2021-01-04</td>\n",
       "    </tr>\n",
       "    <tr>\n",
       "      <th>2021-01-04</th>\n",
       "      <td>400</td>\n",
       "      <td>2021-01-05</td>\n",
       "    </tr>\n",
       "    <tr>\n",
       "      <th>2021-01-05</th>\n",
       "      <td>500</td>\n",
       "      <td>2021-01-06</td>\n",
       "    </tr>\n",
       "    <tr>\n",
       "      <th>2021-01-06</th>\n",
       "      <td>600</td>\n",
       "      <td>2021-01-07</td>\n",
       "    </tr>\n",
       "    <tr>\n",
       "      <th>2021-01-07</th>\n",
       "      <td>700</td>\n",
       "      <td>2021-01-08</td>\n",
       "    </tr>\n",
       "    <tr>\n",
       "      <th>2021-01-08</th>\n",
       "      <td>800</td>\n",
       "      <td>2021-01-09</td>\n",
       "    </tr>\n",
       "  </tbody>\n",
       "</table>\n",
       "</div>"
      ],
      "text/plain": [
       "            sales       td_1\n",
       "date                        \n",
       "2021-01-03    300 2021-01-04\n",
       "2021-01-04    400 2021-01-05\n",
       "2021-01-05    500 2021-01-06\n",
       "2021-01-06    600 2021-01-07\n",
       "2021-01-07    700 2021-01-08\n",
       "2021-01-08    800 2021-01-09"
      ]
     },
     "execution_count": 208,
     "metadata": {},
     "output_type": "execute_result"
    }
   ],
   "source": [
    "df['td_1'] = df.index + pd.Timedelta(days=1)\n",
    "df"
   ]
  },
  {
   "cell_type": "code",
   "execution_count": 210,
   "id": "d09d0dc6-b309-4cb6-9134-b80f825b4a17",
   "metadata": {},
   "outputs": [
    {
     "data": {
      "text/html": [
       "<div>\n",
       "<style scoped>\n",
       "    .dataframe tbody tr th:only-of-type {\n",
       "        vertical-align: middle;\n",
       "    }\n",
       "\n",
       "    .dataframe tbody tr th {\n",
       "        vertical-align: top;\n",
       "    }\n",
       "\n",
       "    .dataframe thead th {\n",
       "        text-align: right;\n",
       "    }\n",
       "</style>\n",
       "<table border=\"1\" class=\"dataframe\">\n",
       "  <thead>\n",
       "    <tr style=\"text-align: right;\">\n",
       "      <th></th>\n",
       "      <th>sales</th>\n",
       "      <th>td_1</th>\n",
       "      <th>do_1</th>\n",
       "    </tr>\n",
       "    <tr>\n",
       "      <th>date</th>\n",
       "      <th></th>\n",
       "      <th></th>\n",
       "      <th></th>\n",
       "    </tr>\n",
       "  </thead>\n",
       "  <tbody>\n",
       "    <tr>\n",
       "      <th>2021-01-03</th>\n",
       "      <td>300</td>\n",
       "      <td>2021-01-04</td>\n",
       "      <td>2021-01-04</td>\n",
       "    </tr>\n",
       "    <tr>\n",
       "      <th>2021-01-04</th>\n",
       "      <td>400</td>\n",
       "      <td>2021-01-05</td>\n",
       "      <td>2021-01-05</td>\n",
       "    </tr>\n",
       "    <tr>\n",
       "      <th>2021-01-05</th>\n",
       "      <td>500</td>\n",
       "      <td>2021-01-06</td>\n",
       "      <td>2021-01-06</td>\n",
       "    </tr>\n",
       "    <tr>\n",
       "      <th>2021-01-06</th>\n",
       "      <td>600</td>\n",
       "      <td>2021-01-07</td>\n",
       "      <td>2021-01-07</td>\n",
       "    </tr>\n",
       "    <tr>\n",
       "      <th>2021-01-07</th>\n",
       "      <td>700</td>\n",
       "      <td>2021-01-08</td>\n",
       "      <td>2021-01-08</td>\n",
       "    </tr>\n",
       "    <tr>\n",
       "      <th>2021-01-08</th>\n",
       "      <td>800</td>\n",
       "      <td>2021-01-09</td>\n",
       "      <td>2021-01-09</td>\n",
       "    </tr>\n",
       "  </tbody>\n",
       "</table>\n",
       "</div>"
      ],
      "text/plain": [
       "            sales       td_1       do_1\n",
       "date                                   \n",
       "2021-01-03    300 2021-01-04 2021-01-04\n",
       "2021-01-04    400 2021-01-05 2021-01-05\n",
       "2021-01-05    500 2021-01-06 2021-01-06\n",
       "2021-01-06    600 2021-01-07 2021-01-07\n",
       "2021-01-07    700 2021-01-08 2021-01-08\n",
       "2021-01-08    800 2021-01-09 2021-01-09"
      ]
     },
     "execution_count": 210,
     "metadata": {},
     "output_type": "execute_result"
    }
   ],
   "source": [
    "df['do_1'] =  df.index + pd.DateOffset(days=1)\n",
    "df"
   ]
  },
  {
   "cell_type": "code",
   "execution_count": 303,
   "id": "192843b6-73d3-4d0b-837d-6aa7c40999be",
   "metadata": {},
   "outputs": [
    {
     "data": {
      "text/html": [
       "<div>\n",
       "<style scoped>\n",
       "    .dataframe tbody tr th:only-of-type {\n",
       "        vertical-align: middle;\n",
       "    }\n",
       "\n",
       "    .dataframe tbody tr th {\n",
       "        vertical-align: top;\n",
       "    }\n",
       "\n",
       "    .dataframe thead th {\n",
       "        text-align: right;\n",
       "    }\n",
       "</style>\n",
       "<table border=\"1\" class=\"dataframe\">\n",
       "  <thead>\n",
       "    <tr style=\"text-align: right;\">\n",
       "      <th></th>\n",
       "      <th>sales</th>\n",
       "      <th>date</th>\n",
       "    </tr>\n",
       "  </thead>\n",
       "  <tbody>\n",
       "    <tr>\n",
       "      <th>0</th>\n",
       "      <td>300</td>\n",
       "      <td>2021-01-01 00:00:00-08:00</td>\n",
       "    </tr>\n",
       "    <tr>\n",
       "      <th>1</th>\n",
       "      <td>400</td>\n",
       "      <td>2021-01-02 00:00:00-08:00</td>\n",
       "    </tr>\n",
       "    <tr>\n",
       "      <th>2</th>\n",
       "      <td>500</td>\n",
       "      <td>2021-01-03 00:00:00-08:00</td>\n",
       "    </tr>\n",
       "    <tr>\n",
       "      <th>3</th>\n",
       "      <td>600</td>\n",
       "      <td>2021-01-04 00:00:00-08:00</td>\n",
       "    </tr>\n",
       "    <tr>\n",
       "      <th>4</th>\n",
       "      <td>700</td>\n",
       "      <td>2021-01-05 00:00:00-08:00</td>\n",
       "    </tr>\n",
       "    <tr>\n",
       "      <th>5</th>\n",
       "      <td>800</td>\n",
       "      <td>2021-01-06 00:00:00-08:00</td>\n",
       "    </tr>\n",
       "    <tr>\n",
       "      <th>6</th>\n",
       "      <td>900</td>\n",
       "      <td>2021-01-07 00:00:00-08:00</td>\n",
       "    </tr>\n",
       "    <tr>\n",
       "      <th>7</th>\n",
       "      <td>1000</td>\n",
       "      <td>2021-01-08 00:00:00-08:00</td>\n",
       "    </tr>\n",
       "    <tr>\n",
       "      <th>8</th>\n",
       "      <td>800</td>\n",
       "      <td>2021-01-09 00:00:00-08:00</td>\n",
       "    </tr>\n",
       "    <tr>\n",
       "      <th>9</th>\n",
       "      <td>700</td>\n",
       "      <td>2021-01-10 00:00:00-08:00</td>\n",
       "    </tr>\n",
       "  </tbody>\n",
       "</table>\n",
       "</div>"
      ],
      "text/plain": [
       "   sales                      date\n",
       "0    300 2021-01-01 00:00:00-08:00\n",
       "1    400 2021-01-02 00:00:00-08:00\n",
       "2    500 2021-01-03 00:00:00-08:00\n",
       "3    600 2021-01-04 00:00:00-08:00\n",
       "4    700 2021-01-05 00:00:00-08:00\n",
       "5    800 2021-01-06 00:00:00-08:00\n",
       "6    900 2021-01-07 00:00:00-08:00\n",
       "7   1000 2021-01-08 00:00:00-08:00\n",
       "8    800 2021-01-09 00:00:00-08:00\n",
       "9    700 2021-01-10 00:00:00-08:00"
      ]
     },
     "execution_count": 303,
     "metadata": {},
     "output_type": "execute_result"
    }
   ],
   "source": [
    "df = pd.DataFrame(\n",
    "        {       \n",
    "                'sales': [300, 400, 500, 600, 700, 800, 900, 1000, 800, 700],\n",
    "                'date': pd.date_range('2021-01-01 00:00:00', periods=10, freq='D', tz='US/Pacific')\n",
    "        }\n",
    ")\n",
    "#df.set_index('date', inplace=True)\n",
    "df"
   ]
  },
  {
   "cell_type": "code",
   "execution_count": 271,
   "id": "425b6443-0c97-497c-bdf0-05fdf8303df5",
   "metadata": {},
   "outputs": [
    {
     "data": {
      "text/plain": [
       "0   2020-12-30 18:59:38-08:00\n",
       "1   2020-12-31 18:59:38-08:00\n",
       "2   2021-01-01 18:59:38-08:00\n",
       "3   2021-01-02 18:59:38-08:00\n",
       "4   2021-01-03 18:59:38-08:00\n",
       "5   2021-01-04 18:59:38-08:00\n",
       "6   2021-01-05 18:59:38-08:00\n",
       "7   2021-01-06 18:59:38-08:00\n",
       "8   2021-01-07 18:59:38-08:00\n",
       "9   2021-01-08 18:59:38-08:00\n",
       "Name: date, dtype: datetime64[ns, US/Pacific]"
      ]
     },
     "execution_count": 271,
     "metadata": {},
     "output_type": "execute_result"
    }
   ],
   "source": [
    "df['date'] - pd.Timedelta('1 day 5 hours 22 seconds')"
   ]
  },
  {
   "cell_type": "code",
   "execution_count": 278,
   "id": "a72c6118-a130-4074-b111-1ac0d9be19bf",
   "metadata": {},
   "outputs": [
    {
     "data": {
      "text/plain": [
       "0   2020-12-30 18:59:38-08:00\n",
       "1   2020-12-31 18:59:38-08:00\n",
       "2   2021-01-01 18:59:38-08:00\n",
       "3   2021-01-02 18:59:38-08:00\n",
       "4   2021-01-03 18:59:38-08:00\n",
       "5   2021-01-04 18:59:38-08:00\n",
       "6   2021-01-05 18:59:38-08:00\n",
       "7   2021-01-06 18:59:38-08:00\n",
       "8   2021-01-07 18:59:38-08:00\n",
       "9   2021-01-08 18:59:38-08:00\n",
       "Name: date, dtype: datetime64[ns, US/Pacific]"
      ]
     },
     "execution_count": 278,
     "metadata": {},
     "output_type": "execute_result"
    }
   ],
   "source": [
    "df['date'] - pd.DateOffset(days=1, hours=5, seconds=22)"
   ]
  },
  {
   "cell_type": "code",
   "execution_count": 304,
   "id": "c4463dd2-9193-49a5-b025-536d52d8d6d0",
   "metadata": {},
   "outputs": [
    {
     "data": {
      "text/html": [
       "<div>\n",
       "<style scoped>\n",
       "    .dataframe tbody tr th:only-of-type {\n",
       "        vertical-align: middle;\n",
       "    }\n",
       "\n",
       "    .dataframe tbody tr th {\n",
       "        vertical-align: top;\n",
       "    }\n",
       "\n",
       "    .dataframe thead th {\n",
       "        text-align: right;\n",
       "    }\n",
       "</style>\n",
       "<table border=\"1\" class=\"dataframe\">\n",
       "  <thead>\n",
       "    <tr style=\"text-align: right;\">\n",
       "      <th></th>\n",
       "      <th>sales</th>\n",
       "      <th>date</th>\n",
       "      <th>day_name</th>\n",
       "      <th>business_d</th>\n",
       "      <th>day_name_b</th>\n",
       "    </tr>\n",
       "  </thead>\n",
       "  <tbody>\n",
       "    <tr>\n",
       "      <th>0</th>\n",
       "      <td>300</td>\n",
       "      <td>2021-01-01 00:00:00-08:00</td>\n",
       "      <td>Friday</td>\n",
       "      <td>2021-01-01 00:00:00-08:00</td>\n",
       "      <td>Friday</td>\n",
       "    </tr>\n",
       "    <tr>\n",
       "      <th>1</th>\n",
       "      <td>400</td>\n",
       "      <td>2021-01-02 00:00:00-08:00</td>\n",
       "      <td>Saturday</td>\n",
       "      <td>2021-01-04 00:00:00-08:00</td>\n",
       "      <td>Monday</td>\n",
       "    </tr>\n",
       "    <tr>\n",
       "      <th>2</th>\n",
       "      <td>500</td>\n",
       "      <td>2021-01-03 00:00:00-08:00</td>\n",
       "      <td>Sunday</td>\n",
       "      <td>2021-01-04 00:00:00-08:00</td>\n",
       "      <td>Monday</td>\n",
       "    </tr>\n",
       "    <tr>\n",
       "      <th>3</th>\n",
       "      <td>600</td>\n",
       "      <td>2021-01-04 00:00:00-08:00</td>\n",
       "      <td>Monday</td>\n",
       "      <td>2021-01-04 00:00:00-08:00</td>\n",
       "      <td>Monday</td>\n",
       "    </tr>\n",
       "    <tr>\n",
       "      <th>4</th>\n",
       "      <td>700</td>\n",
       "      <td>2021-01-05 00:00:00-08:00</td>\n",
       "      <td>Tuesday</td>\n",
       "      <td>2021-01-05 00:00:00-08:00</td>\n",
       "      <td>Tuesday</td>\n",
       "    </tr>\n",
       "    <tr>\n",
       "      <th>5</th>\n",
       "      <td>800</td>\n",
       "      <td>2021-01-06 00:00:00-08:00</td>\n",
       "      <td>Wednesday</td>\n",
       "      <td>2021-01-06 00:00:00-08:00</td>\n",
       "      <td>Wednesday</td>\n",
       "    </tr>\n",
       "    <tr>\n",
       "      <th>6</th>\n",
       "      <td>900</td>\n",
       "      <td>2021-01-07 00:00:00-08:00</td>\n",
       "      <td>Thursday</td>\n",
       "      <td>2021-01-07 00:00:00-08:00</td>\n",
       "      <td>Thursday</td>\n",
       "    </tr>\n",
       "    <tr>\n",
       "      <th>7</th>\n",
       "      <td>1000</td>\n",
       "      <td>2021-01-08 00:00:00-08:00</td>\n",
       "      <td>Friday</td>\n",
       "      <td>2021-01-08 00:00:00-08:00</td>\n",
       "      <td>Friday</td>\n",
       "    </tr>\n",
       "    <tr>\n",
       "      <th>8</th>\n",
       "      <td>800</td>\n",
       "      <td>2021-01-09 00:00:00-08:00</td>\n",
       "      <td>Saturday</td>\n",
       "      <td>2021-01-11 00:00:00-08:00</td>\n",
       "      <td>Monday</td>\n",
       "    </tr>\n",
       "    <tr>\n",
       "      <th>9</th>\n",
       "      <td>700</td>\n",
       "      <td>2021-01-10 00:00:00-08:00</td>\n",
       "      <td>Sunday</td>\n",
       "      <td>2021-01-11 00:00:00-08:00</td>\n",
       "      <td>Monday</td>\n",
       "    </tr>\n",
       "  </tbody>\n",
       "</table>\n",
       "</div>"
      ],
      "text/plain": [
       "   sales                      date   day_name                business_d  \\\n",
       "0    300 2021-01-01 00:00:00-08:00     Friday 2021-01-01 00:00:00-08:00   \n",
       "1    400 2021-01-02 00:00:00-08:00   Saturday 2021-01-04 00:00:00-08:00   \n",
       "2    500 2021-01-03 00:00:00-08:00     Sunday 2021-01-04 00:00:00-08:00   \n",
       "3    600 2021-01-04 00:00:00-08:00     Monday 2021-01-04 00:00:00-08:00   \n",
       "4    700 2021-01-05 00:00:00-08:00    Tuesday 2021-01-05 00:00:00-08:00   \n",
       "5    800 2021-01-06 00:00:00-08:00  Wednesday 2021-01-06 00:00:00-08:00   \n",
       "6    900 2021-01-07 00:00:00-08:00   Thursday 2021-01-07 00:00:00-08:00   \n",
       "7   1000 2021-01-08 00:00:00-08:00     Friday 2021-01-08 00:00:00-08:00   \n",
       "8    800 2021-01-09 00:00:00-08:00   Saturday 2021-01-11 00:00:00-08:00   \n",
       "9    700 2021-01-10 00:00:00-08:00     Sunday 2021-01-11 00:00:00-08:00   \n",
       "\n",
       "  day_name_b  \n",
       "0     Friday  \n",
       "1     Monday  \n",
       "2     Monday  \n",
       "3     Monday  \n",
       "4    Tuesday  \n",
       "5  Wednesday  \n",
       "6   Thursday  \n",
       "7     Friday  \n",
       "8     Monday  \n",
       "9     Monday  "
      ]
     },
     "execution_count": 304,
     "metadata": {},
     "output_type": "execute_result"
    }
   ],
   "source": [
    "df['day_name'] = df['date'].dt.day_name() \n",
    "df['business_d'] = df['date'] + pd.offsets.BDay(0)\n",
    "df['day_name_b'] = df['business_d'].dt.day_name()\n",
    "df"
   ]
  },
  {
   "cell_type": "code",
   "execution_count": 330,
   "id": "cc6d6a55-dd91-40c6-878d-0c6a079bb00b",
   "metadata": {},
   "outputs": [],
   "source": [
    "from pandas.tseries.holiday import USFederalHolidayCalendar as usholiday"
   ]
  },
  {
   "cell_type": "code",
   "execution_count": 331,
   "id": "b9db47eb-5a0e-44d1-a685-b5cf9e083257",
   "metadata": {},
   "outputs": [],
   "source": [
    "bday_us = pd.offsets.CustomBusinessDay(n=1, calendar=usholiday())"
   ]
  },
  {
   "cell_type": "code",
   "execution_count": 333,
   "id": "c5396448-9f56-4c79-bf29-196bdad83e18",
   "metadata": {},
   "outputs": [
    {
     "name": "stderr",
     "output_type": "stream",
     "text": [
      "/Users/tarekatwan/opt/anaconda3/envs/ch2/lib/python3.9/site-packages/pandas/core/arrays/datetimes.py:741: PerformanceWarning: Non-vectorized DateOffset being applied to Series or DatetimeIndex\n",
      "  warnings.warn(\n"
     ]
    },
    {
     "data": {
      "text/html": [
       "<div>\n",
       "<style scoped>\n",
       "    .dataframe tbody tr th:only-of-type {\n",
       "        vertical-align: middle;\n",
       "    }\n",
       "\n",
       "    .dataframe tbody tr th {\n",
       "        vertical-align: top;\n",
       "    }\n",
       "\n",
       "    .dataframe thead th {\n",
       "        text-align: right;\n",
       "    }\n",
       "</style>\n",
       "<table border=\"1\" class=\"dataframe\">\n",
       "  <thead>\n",
       "    <tr style=\"text-align: right;\">\n",
       "      <th></th>\n",
       "      <th>sales</th>\n",
       "      <th>date</th>\n",
       "      <th>day_name</th>\n",
       "      <th>business_d</th>\n",
       "      <th>day_name_b</th>\n",
       "      <th>hol_offset</th>\n",
       "      <th>day_name_h</th>\n",
       "    </tr>\n",
       "  </thead>\n",
       "  <tbody>\n",
       "    <tr>\n",
       "      <th>0</th>\n",
       "      <td>300</td>\n",
       "      <td>2021-01-01 00:00:00-08:00</td>\n",
       "      <td>Friday</td>\n",
       "      <td>2021-01-01 00:00:00-08:00</td>\n",
       "      <td>Friday</td>\n",
       "      <td>2021-01-04 00:00:00-08:00</td>\n",
       "      <td>Monday</td>\n",
       "    </tr>\n",
       "    <tr>\n",
       "      <th>1</th>\n",
       "      <td>400</td>\n",
       "      <td>2021-01-02 00:00:00-08:00</td>\n",
       "      <td>Saturday</td>\n",
       "      <td>2021-01-04 00:00:00-08:00</td>\n",
       "      <td>Monday</td>\n",
       "      <td>2021-01-04 00:00:00-08:00</td>\n",
       "      <td>Monday</td>\n",
       "    </tr>\n",
       "    <tr>\n",
       "      <th>2</th>\n",
       "      <td>500</td>\n",
       "      <td>2021-01-03 00:00:00-08:00</td>\n",
       "      <td>Sunday</td>\n",
       "      <td>2021-01-04 00:00:00-08:00</td>\n",
       "      <td>Monday</td>\n",
       "      <td>2021-01-04 00:00:00-08:00</td>\n",
       "      <td>Monday</td>\n",
       "    </tr>\n",
       "    <tr>\n",
       "      <th>3</th>\n",
       "      <td>600</td>\n",
       "      <td>2021-01-04 00:00:00-08:00</td>\n",
       "      <td>Monday</td>\n",
       "      <td>2021-01-04 00:00:00-08:00</td>\n",
       "      <td>Monday</td>\n",
       "      <td>2021-01-05 00:00:00-08:00</td>\n",
       "      <td>Tuesday</td>\n",
       "    </tr>\n",
       "    <tr>\n",
       "      <th>4</th>\n",
       "      <td>700</td>\n",
       "      <td>2021-01-05 00:00:00-08:00</td>\n",
       "      <td>Tuesday</td>\n",
       "      <td>2021-01-05 00:00:00-08:00</td>\n",
       "      <td>Tuesday</td>\n",
       "      <td>2021-01-06 00:00:00-08:00</td>\n",
       "      <td>Wednesday</td>\n",
       "    </tr>\n",
       "    <tr>\n",
       "      <th>5</th>\n",
       "      <td>800</td>\n",
       "      <td>2021-01-06 00:00:00-08:00</td>\n",
       "      <td>Wednesday</td>\n",
       "      <td>2021-01-06 00:00:00-08:00</td>\n",
       "      <td>Wednesday</td>\n",
       "      <td>2021-01-07 00:00:00-08:00</td>\n",
       "      <td>Thursday</td>\n",
       "    </tr>\n",
       "    <tr>\n",
       "      <th>6</th>\n",
       "      <td>900</td>\n",
       "      <td>2021-01-07 00:00:00-08:00</td>\n",
       "      <td>Thursday</td>\n",
       "      <td>2021-01-07 00:00:00-08:00</td>\n",
       "      <td>Thursday</td>\n",
       "      <td>2021-01-08 00:00:00-08:00</td>\n",
       "      <td>Friday</td>\n",
       "    </tr>\n",
       "    <tr>\n",
       "      <th>7</th>\n",
       "      <td>1000</td>\n",
       "      <td>2021-01-08 00:00:00-08:00</td>\n",
       "      <td>Friday</td>\n",
       "      <td>2021-01-08 00:00:00-08:00</td>\n",
       "      <td>Friday</td>\n",
       "      <td>2021-01-11 00:00:00-08:00</td>\n",
       "      <td>Monday</td>\n",
       "    </tr>\n",
       "    <tr>\n",
       "      <th>8</th>\n",
       "      <td>800</td>\n",
       "      <td>2021-01-09 00:00:00-08:00</td>\n",
       "      <td>Saturday</td>\n",
       "      <td>2021-01-11 00:00:00-08:00</td>\n",
       "      <td>Monday</td>\n",
       "      <td>2021-01-11 00:00:00-08:00</td>\n",
       "      <td>Monday</td>\n",
       "    </tr>\n",
       "    <tr>\n",
       "      <th>9</th>\n",
       "      <td>700</td>\n",
       "      <td>2021-01-10 00:00:00-08:00</td>\n",
       "      <td>Sunday</td>\n",
       "      <td>2021-01-11 00:00:00-08:00</td>\n",
       "      <td>Monday</td>\n",
       "      <td>2021-01-11 00:00:00-08:00</td>\n",
       "      <td>Monday</td>\n",
       "    </tr>\n",
       "  </tbody>\n",
       "</table>\n",
       "</div>"
      ],
      "text/plain": [
       "   sales                      date   day_name                business_d  \\\n",
       "0    300 2021-01-01 00:00:00-08:00     Friday 2021-01-01 00:00:00-08:00   \n",
       "1    400 2021-01-02 00:00:00-08:00   Saturday 2021-01-04 00:00:00-08:00   \n",
       "2    500 2021-01-03 00:00:00-08:00     Sunday 2021-01-04 00:00:00-08:00   \n",
       "3    600 2021-01-04 00:00:00-08:00     Monday 2021-01-04 00:00:00-08:00   \n",
       "4    700 2021-01-05 00:00:00-08:00    Tuesday 2021-01-05 00:00:00-08:00   \n",
       "5    800 2021-01-06 00:00:00-08:00  Wednesday 2021-01-06 00:00:00-08:00   \n",
       "6    900 2021-01-07 00:00:00-08:00   Thursday 2021-01-07 00:00:00-08:00   \n",
       "7   1000 2021-01-08 00:00:00-08:00     Friday 2021-01-08 00:00:00-08:00   \n",
       "8    800 2021-01-09 00:00:00-08:00   Saturday 2021-01-11 00:00:00-08:00   \n",
       "9    700 2021-01-10 00:00:00-08:00     Sunday 2021-01-11 00:00:00-08:00   \n",
       "\n",
       "  day_name_b                hol_offset day_name_h  \n",
       "0     Friday 2021-01-04 00:00:00-08:00     Monday  \n",
       "1     Monday 2021-01-04 00:00:00-08:00     Monday  \n",
       "2     Monday 2021-01-04 00:00:00-08:00     Monday  \n",
       "3     Monday 2021-01-05 00:00:00-08:00    Tuesday  \n",
       "4    Tuesday 2021-01-06 00:00:00-08:00  Wednesday  \n",
       "5  Wednesday 2021-01-07 00:00:00-08:00   Thursday  \n",
       "6   Thursday 2021-01-08 00:00:00-08:00     Friday  \n",
       "7     Friday 2021-01-11 00:00:00-08:00     Monday  \n",
       "8     Monday 2021-01-11 00:00:00-08:00     Monday  \n",
       "9     Monday 2021-01-11 00:00:00-08:00     Monday  "
      ]
     },
     "execution_count": 333,
     "metadata": {},
     "output_type": "execute_result"
    }
   ],
   "source": [
    "df['hol_offset'] = (df['date'] + bday_us)\n",
    "df['day_name_h'] =  df['hol_offset'].dt.day_name()\n",
    "df"
   ]
  },
  {
   "cell_type": "code",
   "execution_count": null,
   "id": "42a4cf49-9b5f-404a-86dc-ace871086367",
   "metadata": {},
   "outputs": [],
   "source": []
  }
 ],
 "metadata": {
  "kernelspec": {
   "display_name": "Python [conda env:ch2]",
   "language": "python",
   "name": "conda-env-ch2-py"
  },
  "language_info": {
   "codemirror_mode": {
    "name": "ipython",
    "version": 3
   },
   "file_extension": ".py",
   "mimetype": "text/x-python",
   "name": "python",
   "nbconvert_exporter": "python",
   "pygments_lexer": "ipython3",
   "version": "3.9.6"
  }
 },
 "nbformat": 4,
 "nbformat_minor": 5
}
