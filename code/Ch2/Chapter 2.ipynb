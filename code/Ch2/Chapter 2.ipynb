{
 "cells": [
  {
   "cell_type": "markdown",
   "id": "cc1f3dac-5f42-4c0d-ae98-80dafb21bc25",
   "metadata": {},
   "source": [
    "# Reading from CSVs and Other Delimited Files"
   ]
  },
  {
   "cell_type": "code",
   "execution_count": 1,
   "id": "0ecc3461-43e2-4c09-945c-033f8eff4342",
   "metadata": {},
   "outputs": [
    {
     "data": {
      "text/plain": [
       "'1.3.2'"
      ]
     },
     "execution_count": 1,
     "metadata": {},
     "output_type": "execute_result"
    }
   ],
   "source": [
    "import pandas as pd\n",
    "pd.__version__"
   ]
  },
  {
   "cell_type": "code",
   "execution_count": 2,
   "id": "63537135-ee67-4635-8441-a102b9d08047",
   "metadata": {},
   "outputs": [],
   "source": [
    "from pathlib import Path"
   ]
  },
  {
   "cell_type": "code",
   "execution_count": 3,
   "id": "ffcaab98-7d62-4f82-97ed-85f8c1d8b820",
   "metadata": {},
   "outputs": [],
   "source": [
    "filepath = Path('../../datasets/Ch2/movieboxoffice.csv')\n"
   ]
  },
  {
   "cell_type": "code",
   "execution_count": 4,
   "id": "aa33d6f8-d21d-4c67-9231-97593196306d",
   "metadata": {},
   "outputs": [
    {
     "data": {
      "text/html": [
       "<div>\n",
       "<style scoped>\n",
       "    .dataframe tbody tr th:only-of-type {\n",
       "        vertical-align: middle;\n",
       "    }\n",
       "\n",
       "    .dataframe tbody tr th {\n",
       "        vertical-align: top;\n",
       "    }\n",
       "\n",
       "    .dataframe thead th {\n",
       "        text-align: right;\n",
       "    }\n",
       "</style>\n",
       "<table border=\"1\" class=\"dataframe\">\n",
       "  <thead>\n",
       "    <tr style=\"text-align: right;\">\n",
       "      <th></th>\n",
       "      <th>DOW</th>\n",
       "      <th>Daily</th>\n",
       "      <th>Forecast</th>\n",
       "      <th>Percent Diff</th>\n",
       "    </tr>\n",
       "    <tr>\n",
       "      <th>Date</th>\n",
       "      <th></th>\n",
       "      <th></th>\n",
       "      <th></th>\n",
       "      <th></th>\n",
       "    </tr>\n",
       "  </thead>\n",
       "  <tbody>\n",
       "    <tr>\n",
       "      <th>2021-04-26</th>\n",
       "      <td>Friday</td>\n",
       "      <td>$125,789.89</td>\n",
       "      <td>$235,036.46</td>\n",
       "      <td>-46.48%</td>\n",
       "    </tr>\n",
       "    <tr>\n",
       "      <th>2021-04-27</th>\n",
       "      <td>Saturday</td>\n",
       "      <td>$99,374.01</td>\n",
       "      <td>$197,622.55</td>\n",
       "      <td>-49.72%</td>\n",
       "    </tr>\n",
       "    <tr>\n",
       "      <th>2021-04-28</th>\n",
       "      <td>Sunday</td>\n",
       "      <td>$82,203.16</td>\n",
       "      <td>$116,991.26</td>\n",
       "      <td>-29.74%</td>\n",
       "    </tr>\n",
       "    <tr>\n",
       "      <th>2021-04-29</th>\n",
       "      <td>Monday</td>\n",
       "      <td>$33,530.26</td>\n",
       "      <td>$66,652.65</td>\n",
       "      <td>-49.69%</td>\n",
       "    </tr>\n",
       "    <tr>\n",
       "      <th>2021-04-30</th>\n",
       "      <td>Tuesday</td>\n",
       "      <td>$30,105.24</td>\n",
       "      <td>$34,828.19</td>\n",
       "      <td>-13.56%</td>\n",
       "    </tr>\n",
       "  </tbody>\n",
       "</table>\n",
       "</div>"
      ],
      "text/plain": [
       "                 DOW          Daily       Forecast Percent Diff\n",
       "Date                                                           \n",
       "2021-04-26    Friday   $125,789.89    $235,036.46       -46.48%\n",
       "2021-04-27  Saturday    $99,374.01    $197,622.55       -49.72%\n",
       "2021-04-28    Sunday    $82,203.16    $116,991.26       -29.74%\n",
       "2021-04-29    Monday    $33,530.26     $66,652.65       -49.69%\n",
       "2021-04-30   Tuesday    $30,105.24     $34,828.19       -13.56%"
      ]
     },
     "execution_count": 4,
     "metadata": {},
     "output_type": "execute_result"
    }
   ],
   "source": [
    "ts = pd.read_csv(filepath,\n",
    "                 header=0,\n",
    "                 parse_dates=[0],\n",
    "                 index_col=0,\n",
    "                 infer_datetime_format=True,\n",
    "                 usecols=['Date',\n",
    "                          'DOW',\n",
    "                          'Daily',\n",
    "                          'Forecast',\n",
    "                          'Percent Diff'])\n",
    "ts.head()"
   ]
  },
  {
   "cell_type": "code",
   "execution_count": 5,
   "id": "14b0182e-98be-4c79-8db9-2ed76a182813",
   "metadata": {},
   "outputs": [
    {
     "name": "stdout",
     "output_type": "stream",
     "text": [
      "<class 'pandas.core.frame.DataFrame'>\n",
      "DatetimeIndex: 128 entries, 2021-04-26 to 2021-08-31\n",
      "Data columns (total 4 columns):\n",
      " #   Column        Non-Null Count  Dtype \n",
      "---  ------        --------------  ----- \n",
      " 0   DOW           128 non-null    object\n",
      " 1   Daily         128 non-null    object\n",
      " 2   Forecast      128 non-null    object\n",
      " 3   Percent Diff  128 non-null    object\n",
      "dtypes: object(4)\n",
      "memory usage: 5.0+ KB\n"
     ]
    }
   ],
   "source": [
    "ts.info()"
   ]
  },
  {
   "cell_type": "markdown",
   "id": "07775018-5134-4ec4-ac7b-68b5634eb9ad",
   "metadata": {},
   "source": [
    "**Data Cleanup**"
   ]
  },
  {
   "cell_type": "code",
   "execution_count": 6,
   "id": "df34d125-5ad8-41c2-a6c4-09145605891b",
   "metadata": {},
   "outputs": [],
   "source": [
    "clean = lambda x: x.str.replace('[^\\d]', '', regex=True)                                                      \n",
    "c_df = ts[['Daily', 'Forecast']].apply(clean, axis=1)\n",
    "ts[['Daily', 'Forecast']] = c_df.astype(float)\n",
    "                                "
   ]
  },
  {
   "cell_type": "code",
   "execution_count": 7,
   "id": "ae90d0a0-02e4-4a48-8bed-2fea8d612252",
   "metadata": {},
   "outputs": [
    {
     "data": {
      "text/html": [
       "<div>\n",
       "<style scoped>\n",
       "    .dataframe tbody tr th:only-of-type {\n",
       "        vertical-align: middle;\n",
       "    }\n",
       "\n",
       "    .dataframe tbody tr th {\n",
       "        vertical-align: top;\n",
       "    }\n",
       "\n",
       "    .dataframe thead th {\n",
       "        text-align: right;\n",
       "    }\n",
       "</style>\n",
       "<table border=\"1\" class=\"dataframe\">\n",
       "  <thead>\n",
       "    <tr style=\"text-align: right;\">\n",
       "      <th></th>\n",
       "      <th>DOW</th>\n",
       "      <th>Daily</th>\n",
       "      <th>Forecast</th>\n",
       "      <th>Percent Diff</th>\n",
       "    </tr>\n",
       "    <tr>\n",
       "      <th>Date</th>\n",
       "      <th></th>\n",
       "      <th></th>\n",
       "      <th></th>\n",
       "      <th></th>\n",
       "    </tr>\n",
       "  </thead>\n",
       "  <tbody>\n",
       "    <tr>\n",
       "      <th>2021-04-26</th>\n",
       "      <td>Friday</td>\n",
       "      <td>12578989.0</td>\n",
       "      <td>23503646.0</td>\n",
       "      <td>-46.48%</td>\n",
       "    </tr>\n",
       "    <tr>\n",
       "      <th>2021-04-27</th>\n",
       "      <td>Saturday</td>\n",
       "      <td>9937401.0</td>\n",
       "      <td>19762255.0</td>\n",
       "      <td>-49.72%</td>\n",
       "    </tr>\n",
       "    <tr>\n",
       "      <th>2021-04-28</th>\n",
       "      <td>Sunday</td>\n",
       "      <td>8220316.0</td>\n",
       "      <td>11699126.0</td>\n",
       "      <td>-29.74%</td>\n",
       "    </tr>\n",
       "    <tr>\n",
       "      <th>2021-04-29</th>\n",
       "      <td>Monday</td>\n",
       "      <td>3353026.0</td>\n",
       "      <td>6665265.0</td>\n",
       "      <td>-49.69%</td>\n",
       "    </tr>\n",
       "    <tr>\n",
       "      <th>2021-04-30</th>\n",
       "      <td>Tuesday</td>\n",
       "      <td>3010524.0</td>\n",
       "      <td>3482819.0</td>\n",
       "      <td>-13.56%</td>\n",
       "    </tr>\n",
       "  </tbody>\n",
       "</table>\n",
       "</div>"
      ],
      "text/plain": [
       "                 DOW       Daily    Forecast Percent Diff\n",
       "Date                                                     \n",
       "2021-04-26    Friday  12578989.0  23503646.0      -46.48%\n",
       "2021-04-27  Saturday   9937401.0  19762255.0      -49.72%\n",
       "2021-04-28    Sunday   8220316.0  11699126.0      -29.74%\n",
       "2021-04-29    Monday   3353026.0   6665265.0      -49.69%\n",
       "2021-04-30   Tuesday   3010524.0   3482819.0      -13.56%"
      ]
     },
     "execution_count": 7,
     "metadata": {},
     "output_type": "execute_result"
    }
   ],
   "source": [
    "ts.head()"
   ]
  },
  {
   "cell_type": "code",
   "execution_count": 8,
   "id": "367af7b5-e8e3-4fc6-aa25-48ab82c4eead",
   "metadata": {},
   "outputs": [
    {
     "data": {
      "text/plain": [
       "Index           1024\n",
       "DOW             1024\n",
       "Daily           1024\n",
       "Forecast        1024\n",
       "Percent Diff    1024\n",
       "dtype: int64"
      ]
     },
     "execution_count": 8,
     "metadata": {},
     "output_type": "execute_result"
    }
   ],
   "source": [
    "ts.memory_usage()"
   ]
  },
  {
   "cell_type": "code",
   "execution_count": 9,
   "id": "a8928d19-436c-4d5a-a662-c157ceb14496",
   "metadata": {},
   "outputs": [
    {
     "data": {
      "text/plain": [
       "5120"
      ]
     },
     "execution_count": 9,
     "metadata": {},
     "output_type": "execute_result"
    }
   ],
   "source": [
    "ts.memory_usage().sum()"
   ]
  },
  {
   "cell_type": "markdown",
   "id": "e6212e1e-caf4-47e9-b8f3-2db31a9ebcd8",
   "metadata": {},
   "source": [
    "## Using `date_parser`"
   ]
  },
  {
   "cell_type": "code",
   "execution_count": 10,
   "id": "ee32b5de-0b27-4512-8aab-d0c5ebfad850",
   "metadata": {},
   "outputs": [
    {
     "data": {
      "text/html": [
       "<div>\n",
       "<style scoped>\n",
       "    .dataframe tbody tr th:only-of-type {\n",
       "        vertical-align: middle;\n",
       "    }\n",
       "\n",
       "    .dataframe tbody tr th {\n",
       "        vertical-align: top;\n",
       "    }\n",
       "\n",
       "    .dataframe thead th {\n",
       "        text-align: right;\n",
       "    }\n",
       "</style>\n",
       "<table border=\"1\" class=\"dataframe\">\n",
       "  <thead>\n",
       "    <tr style=\"text-align: right;\">\n",
       "      <th></th>\n",
       "      <th>DOW</th>\n",
       "      <th>Daily</th>\n",
       "      <th>Forecast</th>\n",
       "      <th>Percent Diff</th>\n",
       "    </tr>\n",
       "    <tr>\n",
       "      <th>Date</th>\n",
       "      <th></th>\n",
       "      <th></th>\n",
       "      <th></th>\n",
       "      <th></th>\n",
       "    </tr>\n",
       "  </thead>\n",
       "  <tbody>\n",
       "    <tr>\n",
       "      <th>2021-04-26</th>\n",
       "      <td>Friday</td>\n",
       "      <td>$125,789.89</td>\n",
       "      <td>$235,036.46</td>\n",
       "      <td>-46.48%</td>\n",
       "    </tr>\n",
       "    <tr>\n",
       "      <th>2021-04-27</th>\n",
       "      <td>Saturday</td>\n",
       "      <td>$99,374.01</td>\n",
       "      <td>$197,622.55</td>\n",
       "      <td>-49.72%</td>\n",
       "    </tr>\n",
       "    <tr>\n",
       "      <th>2021-04-28</th>\n",
       "      <td>Sunday</td>\n",
       "      <td>$82,203.16</td>\n",
       "      <td>$116,991.26</td>\n",
       "      <td>-29.74%</td>\n",
       "    </tr>\n",
       "    <tr>\n",
       "      <th>2021-04-29</th>\n",
       "      <td>Monday</td>\n",
       "      <td>$33,530.26</td>\n",
       "      <td>$66,652.65</td>\n",
       "      <td>-49.69%</td>\n",
       "    </tr>\n",
       "    <tr>\n",
       "      <th>2021-04-30</th>\n",
       "      <td>Tuesday</td>\n",
       "      <td>$30,105.24</td>\n",
       "      <td>$34,828.19</td>\n",
       "      <td>-13.56%</td>\n",
       "    </tr>\n",
       "  </tbody>\n",
       "</table>\n",
       "</div>"
      ],
      "text/plain": [
       "                 DOW          Daily       Forecast Percent Diff\n",
       "Date                                                           \n",
       "2021-04-26    Friday   $125,789.89    $235,036.46       -46.48%\n",
       "2021-04-27  Saturday    $99,374.01    $197,622.55       -49.72%\n",
       "2021-04-28    Sunday    $82,203.16    $116,991.26       -29.74%\n",
       "2021-04-29    Monday    $33,530.26     $66,652.65       -49.69%\n",
       "2021-04-30   Tuesday    $30,105.24     $34,828.19       -13.56%"
      ]
     },
     "execution_count": 10,
     "metadata": {},
     "output_type": "execute_result"
    }
   ],
   "source": [
    "date_parser = lambda x: pd.to_datetime(x, format=\"%d-%b-%y\")\n",
    "ts = pd.read_csv(filepath,\n",
    "                 parse_dates=[0],\n",
    "                 index_col=0,\n",
    "                 date_parser=date_parser,\n",
    "                 usecols=[0,1,3, 7, 6])\n",
    "ts.head()"
   ]
  },
  {
   "cell_type": "markdown",
   "id": "c1f2c015-77b6-4e59-b300-79df45c13c9f",
   "metadata": {},
   "source": [
    "# Reading data from an Excel file"
   ]
  },
  {
   "cell_type": "code",
   "execution_count": 13,
   "id": "a4610e13-c484-4b65-af84-bc33da9c9ea4",
   "metadata": {},
   "outputs": [],
   "source": [
    "import pandas as pd\n",
    "from pathlib import Path\n",
    "filepath = Path('../../datasets/Ch2/sales_trx_data.xlsx')"
   ]
  },
  {
   "cell_type": "code",
   "execution_count": 15,
   "id": "63bbe7dd-7677-4642-88a3-37c2861a031f",
   "metadata": {},
   "outputs": [
    {
     "data": {
      "text/plain": [
       "['2017', '2018']"
      ]
     },
     "execution_count": 15,
     "metadata": {},
     "output_type": "execute_result"
    }
   ],
   "source": [
    "excelfile = pd.ExcelFile(filepath)\n",
    "excelfile.sheet_names"
   ]
  },
  {
   "cell_type": "code",
   "execution_count": 16,
   "id": "9d46ccf9-8921-44ac-823e-e58836d6cb84",
   "metadata": {},
   "outputs": [
    {
     "data": {
      "text/plain": [
       "dict_keys([0, 1])"
      ]
     },
     "execution_count": 16,
     "metadata": {},
     "output_type": "execute_result"
    }
   ],
   "source": [
    "ts = pd.read_excel(filepath,\n",
    "                    engine='openpyxl',\n",
    "                    index_col=1,\n",
    "                    sheet_name=[0,1],\n",
    "                    parse_dates=True)\n",
    "ts.keys()"
   ]
  },
  {
   "cell_type": "code",
   "execution_count": 17,
   "id": "6e845a34-f261-4abd-a7ca-d7b78cf036b7",
   "metadata": {},
   "outputs": [
    {
     "data": {
      "text/plain": [
       "dict_keys(['2017', '2018'])"
      ]
     },
     "execution_count": 17,
     "metadata": {},
     "output_type": "execute_result"
    }
   ],
   "source": [
    "ts = pd.read_excel(filepath,\n",
    "                    engine='openpyxl',\n",
    "                    index_col=1,\n",
    "                    sheet_name=['2017','2018'],\n",
    "                    parse_dates=True)\n",
    "ts.keys()"
   ]
  },
  {
   "cell_type": "code",
   "execution_count": 24,
   "id": "0fc089c3-cfeb-4ad4-8dd9-e032b3e4b5a8",
   "metadata": {},
   "outputs": [
    {
     "data": {
      "text/plain": [
       "dict_keys(['2017', '2018'])"
      ]
     },
     "execution_count": 24,
     "metadata": {},
     "output_type": "execute_result"
    }
   ],
   "source": [
    "ts = pd.read_excel(filepath,\n",
    "                    engine='openpyxl',\n",
    "                    index_col=1,\n",
    "                    sheet_name=None,\n",
    "                    parse_dates=True)\n",
    "ts.keys()"
   ]
  },
  {
   "cell_type": "code",
   "execution_count": 25,
   "id": "8bb16eb6-c6e7-4e27-aa5f-4c8003ace5a0",
   "metadata": {},
   "outputs": [],
   "source": [
    "ts_combined = pd.concat([ts['2017'],ts['2018']])"
   ]
  },
  {
   "cell_type": "code",
   "execution_count": 26,
   "id": "966a7f86-abce-49ca-846d-3f1f2f9f02d6",
   "metadata": {},
   "outputs": [
    {
     "name": "stdout",
     "output_type": "stream",
     "text": [
      "<class 'pandas.core.frame.DataFrame'>\n",
      "DatetimeIndex: 74124 entries, 2017-01-01 to 2018-12-31\n",
      "Data columns (total 4 columns):\n",
      " #   Column              Non-Null Count  Dtype \n",
      "---  ------              --------------  ----- \n",
      " 0   Line_Item_ID        74124 non-null  int64 \n",
      " 1   Credit_Card_Number  74124 non-null  int64 \n",
      " 2   Quantity            74124 non-null  int64 \n",
      " 3   Menu_Item           74124 non-null  object\n",
      "dtypes: int64(3), object(1)\n",
      "memory usage: 2.8+ MB\n"
     ]
    }
   ],
   "source": [
    "ts_combined.info()"
   ]
  },
  {
   "cell_type": "code",
   "execution_count": 27,
   "id": "c5e27638-bd4f-418f-95c9-da6c552e973c",
   "metadata": {},
   "outputs": [
    {
     "data": {
      "text/html": [
       "<div>\n",
       "<style scoped>\n",
       "    .dataframe tbody tr th:only-of-type {\n",
       "        vertical-align: middle;\n",
       "    }\n",
       "\n",
       "    .dataframe tbody tr th {\n",
       "        vertical-align: top;\n",
       "    }\n",
       "\n",
       "    .dataframe thead th {\n",
       "        text-align: right;\n",
       "    }\n",
       "</style>\n",
       "<table border=\"1\" class=\"dataframe\">\n",
       "  <thead>\n",
       "    <tr style=\"text-align: right;\">\n",
       "      <th></th>\n",
       "      <th>Line_Item_ID</th>\n",
       "      <th>Credit_Card_Number</th>\n",
       "      <th>Quantity</th>\n",
       "      <th>Menu_Item</th>\n",
       "    </tr>\n",
       "    <tr>\n",
       "      <th>Date</th>\n",
       "      <th></th>\n",
       "      <th></th>\n",
       "      <th></th>\n",
       "      <th></th>\n",
       "    </tr>\n",
       "  </thead>\n",
       "  <tbody>\n",
       "    <tr>\n",
       "      <th>2017-01-01</th>\n",
       "      <td>1</td>\n",
       "      <td>7437926611570790</td>\n",
       "      <td>1</td>\n",
       "      <td>spicy miso ramen</td>\n",
       "    </tr>\n",
       "    <tr>\n",
       "      <th>2017-01-01</th>\n",
       "      <td>2</td>\n",
       "      <td>7437926611570790</td>\n",
       "      <td>1</td>\n",
       "      <td>spicy miso ramen</td>\n",
       "    </tr>\n",
       "    <tr>\n",
       "      <th>2017-01-01</th>\n",
       "      <td>3</td>\n",
       "      <td>8421920068932810</td>\n",
       "      <td>3</td>\n",
       "      <td>tori paitan ramen</td>\n",
       "    </tr>\n",
       "    <tr>\n",
       "      <th>2017-01-01</th>\n",
       "      <td>4</td>\n",
       "      <td>8421920068932810</td>\n",
       "      <td>3</td>\n",
       "      <td>tori paitan ramen</td>\n",
       "    </tr>\n",
       "    <tr>\n",
       "      <th>2017-01-01</th>\n",
       "      <td>5</td>\n",
       "      <td>4787310681569640</td>\n",
       "      <td>1</td>\n",
       "      <td>truffle butter ramen</td>\n",
       "    </tr>\n",
       "  </tbody>\n",
       "</table>\n",
       "</div>"
      ],
      "text/plain": [
       "            Line_Item_ID  Credit_Card_Number  Quantity             Menu_Item\n",
       "Date                                                                        \n",
       "2017-01-01             1    7437926611570790         1      spicy miso ramen\n",
       "2017-01-01             2    7437926611570790         1      spicy miso ramen\n",
       "2017-01-01             3    8421920068932810         3     tori paitan ramen\n",
       "2017-01-01             4    8421920068932810         3     tori paitan ramen\n",
       "2017-01-01             5    4787310681569640         1  truffle butter ramen"
      ]
     },
     "execution_count": 27,
     "metadata": {},
     "output_type": "execute_result"
    }
   ],
   "source": [
    "ts_combined = pd.concat(ts).droplevel(level=0)\n",
    "ts_combined.head()"
   ]
  },
  {
   "cell_type": "code",
   "execution_count": 28,
   "id": "31b66f18-eead-4210-b3f0-05e57fa12ba4",
   "metadata": {},
   "outputs": [
    {
     "data": {
      "text/plain": [
       "pandas.core.frame.DataFrame"
      ]
     },
     "execution_count": 28,
     "metadata": {},
     "output_type": "execute_result"
    }
   ],
   "source": [
    "ts = pd.read_excel(filepath,\n",
    "                   index_col=1,\n",
    "                   sheet_name='2018',\n",
    "                   parse_dates=True)\n",
    "type(ts)"
   ]
  },
  {
   "cell_type": "markdown",
   "id": "1de33298-bccc-4d86-a827-39b8bc4d8376",
   "metadata": {},
   "source": [
    "## Using `ExcelFile`"
   ]
  },
  {
   "cell_type": "code",
   "execution_count": 29,
   "id": "1655b775-cd6c-4f28-8ed4-7e8b89e0e460",
   "metadata": {},
   "outputs": [
    {
     "data": {
      "text/html": [
       "<div>\n",
       "<style scoped>\n",
       "    .dataframe tbody tr th:only-of-type {\n",
       "        vertical-align: middle;\n",
       "    }\n",
       "\n",
       "    .dataframe tbody tr th {\n",
       "        vertical-align: top;\n",
       "    }\n",
       "\n",
       "    .dataframe thead th {\n",
       "        text-align: right;\n",
       "    }\n",
       "</style>\n",
       "<table border=\"1\" class=\"dataframe\">\n",
       "  <thead>\n",
       "    <tr style=\"text-align: right;\">\n",
       "      <th></th>\n",
       "      <th>Line_Item_ID</th>\n",
       "      <th>Credit_Card_Number</th>\n",
       "      <th>Quantity</th>\n",
       "      <th>Menu_Item</th>\n",
       "    </tr>\n",
       "    <tr>\n",
       "      <th>Date</th>\n",
       "      <th></th>\n",
       "      <th></th>\n",
       "      <th></th>\n",
       "      <th></th>\n",
       "    </tr>\n",
       "  </thead>\n",
       "  <tbody>\n",
       "    <tr>\n",
       "      <th>2017-01-01</th>\n",
       "      <td>1</td>\n",
       "      <td>7437926611570790</td>\n",
       "      <td>1</td>\n",
       "      <td>spicy miso ramen</td>\n",
       "    </tr>\n",
       "    <tr>\n",
       "      <th>2017-01-01</th>\n",
       "      <td>2</td>\n",
       "      <td>7437926611570790</td>\n",
       "      <td>1</td>\n",
       "      <td>spicy miso ramen</td>\n",
       "    </tr>\n",
       "    <tr>\n",
       "      <th>2017-01-01</th>\n",
       "      <td>3</td>\n",
       "      <td>8421920068932810</td>\n",
       "      <td>3</td>\n",
       "      <td>tori paitan ramen</td>\n",
       "    </tr>\n",
       "    <tr>\n",
       "      <th>2017-01-01</th>\n",
       "      <td>4</td>\n",
       "      <td>8421920068932810</td>\n",
       "      <td>3</td>\n",
       "      <td>tori paitan ramen</td>\n",
       "    </tr>\n",
       "    <tr>\n",
       "      <th>2017-01-01</th>\n",
       "      <td>5</td>\n",
       "      <td>4787310681569640</td>\n",
       "      <td>1</td>\n",
       "      <td>truffle butter ramen</td>\n",
       "    </tr>\n",
       "  </tbody>\n",
       "</table>\n",
       "</div>"
      ],
      "text/plain": [
       "            Line_Item_ID  Credit_Card_Number  Quantity             Menu_Item\n",
       "Date                                                                        \n",
       "2017-01-01             1    7437926611570790         1      spicy miso ramen\n",
       "2017-01-01             2    7437926611570790         1      spicy miso ramen\n",
       "2017-01-01             3    8421920068932810         3     tori paitan ramen\n",
       "2017-01-01             4    8421920068932810         3     tori paitan ramen\n",
       "2017-01-01             5    4787310681569640         1  truffle butter ramen"
      ]
     },
     "execution_count": 29,
     "metadata": {},
     "output_type": "execute_result"
    }
   ],
   "source": [
    "excelfile = pd.ExcelFile(filepath)\n",
    "excelfile.parse(sheet_name='2017',\n",
    "                index_col=1,\n",
    "                parse_dates=True).head()\n"
   ]
  },
  {
   "cell_type": "markdown",
   "id": "cb565e22-12c8-44c8-8c66-5e7b91f28275",
   "metadata": {},
   "source": [
    "# Reading data from a URL"
   ]
  },
  {
   "cell_type": "code",
   "execution_count": 30,
   "id": "630d3248-b8a4-4c16-a59b-7b496a7689a8",
   "metadata": {},
   "outputs": [],
   "source": [
    "import pandas as pd"
   ]
  },
  {
   "cell_type": "markdown",
   "id": "26f56e5a-a01d-482f-b5b0-e7cf8a677e80",
   "metadata": {},
   "source": [
    "## Reading from GitHub"
   ]
  },
  {
   "cell_type": "code",
   "execution_count": 72,
   "id": "c208b0e8-7f40-4f2b-938b-6b538492cd8b",
   "metadata": {},
   "outputs": [],
   "source": [
    "# example of produced error\n",
    "url = 'https://github.com/PacktPublishing/Time-Series-Analysis-with-Python-Cookbook./blob/main/datasets/Ch2/AirQualityUCI.csv'\n",
    "# pd.read_csv(url)\n"
   ]
  },
  {
   "cell_type": "code",
   "execution_count": 32,
   "id": "1578a313-df89-4d15-81c0-511f50f49c4b",
   "metadata": {},
   "outputs": [
    {
     "data": {
      "text/html": [
       "<div>\n",
       "<style scoped>\n",
       "    .dataframe tbody tr th:only-of-type {\n",
       "        vertical-align: middle;\n",
       "    }\n",
       "\n",
       "    .dataframe tbody tr th {\n",
       "        vertical-align: top;\n",
       "    }\n",
       "\n",
       "    .dataframe thead th {\n",
       "        text-align: right;\n",
       "    }\n",
       "</style>\n",
       "<table border=\"1\" class=\"dataframe\">\n",
       "  <thead>\n",
       "    <tr style=\"text-align: right;\">\n",
       "      <th></th>\n",
       "      <th>CO(GT)</th>\n",
       "      <th>PT08.S1(CO)</th>\n",
       "      <th>NMHC(GT)</th>\n",
       "    </tr>\n",
       "    <tr>\n",
       "      <th>Date</th>\n",
       "      <th></th>\n",
       "      <th></th>\n",
       "      <th></th>\n",
       "    </tr>\n",
       "  </thead>\n",
       "  <tbody>\n",
       "    <tr>\n",
       "      <th>2004-10-03</th>\n",
       "      <td>2,6</td>\n",
       "      <td>1360.0</td>\n",
       "      <td>150.0</td>\n",
       "    </tr>\n",
       "    <tr>\n",
       "      <th>2004-10-03</th>\n",
       "      <td>2</td>\n",
       "      <td>1292.0</td>\n",
       "      <td>112.0</td>\n",
       "    </tr>\n",
       "    <tr>\n",
       "      <th>2004-10-03</th>\n",
       "      <td>2,2</td>\n",
       "      <td>1402.0</td>\n",
       "      <td>88.0</td>\n",
       "    </tr>\n",
       "  </tbody>\n",
       "</table>\n",
       "</div>"
      ],
      "text/plain": [
       "           CO(GT)  PT08.S1(CO)  NMHC(GT)\n",
       "Date                                    \n",
       "2004-10-03    2,6       1360.0     150.0\n",
       "2004-10-03      2       1292.0     112.0\n",
       "2004-10-03    2,2       1402.0      88.0"
      ]
     },
     "execution_count": 32,
     "metadata": {},
     "output_type": "execute_result"
    }
   ],
   "source": [
    "url = 'https://raw.githubusercontent.com/PacktPublishing/Time-Series-Analysis-with-Python-Cookbook./main/datasets/Ch2/AirQualityUCI.csv'\n",
    "df = pd.read_csv(url,\n",
    "                 delimiter=';',\n",
    "                 index_col='Date',\n",
    "                 parse_dates=True)\n",
    "\n",
    "df.iloc[:3,1:4]\n"
   ]
  },
  {
   "cell_type": "markdown",
   "id": "c82c8204-6ad5-4f49-8d34-2e5876555773",
   "metadata": {},
   "source": [
    "## Reading from Public S3 Bucket"
   ]
  },
  {
   "cell_type": "code",
   "execution_count": 33,
   "id": "099d08e9-cba3-4ea9-96d2-dc26c92915b8",
   "metadata": {},
   "outputs": [],
   "source": [
    "url = 'https://tscookbook.s3.amazonaws.com/AirQualityUCI.xlsx'\n",
    "df = pd.read_excel(url,\n",
    "                   index_col='Date',\n",
    "                   parse_dates=True)\n"
   ]
  },
  {
   "cell_type": "code",
   "execution_count": 34,
   "id": "7b1df5c3-713b-4b2a-9fc6-0e561e418de7",
   "metadata": {},
   "outputs": [],
   "source": [
    "s3uri = 's3://tscookbook/AirQualityUCI.xlsx'\n",
    "df = pd.read_excel(s3uri,\n",
    "                   index_col='Date',\n",
    "                   parse_dates=True)"
   ]
  },
  {
   "cell_type": "markdown",
   "id": "d8c309b7-04e4-4927-8eab-7e4b5d418073",
   "metadata": {},
   "source": [
    "## Reading from Private S3 Bucket"
   ]
  },
  {
   "cell_type": "code",
   "execution_count": 35,
   "id": "49554931-8e56-41f9-b2b0-75b6a3525ad8",
   "metadata": {},
   "outputs": [],
   "source": [
    "import configparser\n",
    "config = configparser.ConfigParser()\n",
    "config.read('aws.cfg')\n",
    "\n",
    "AWS_ACCESS_KEY = config['AWS']['aws_access_key']\n",
    "AWS_SECRET_KEY = config['AWS']['aws_secret_key']\n"
   ]
  },
  {
   "cell_type": "code",
   "execution_count": null,
   "id": "c1c7e356-0392-495f-bbd1-21a7473cc6c3",
   "metadata": {},
   "outputs": [],
   "source": [
    "s3uri = \"s3://tscookbook-private/AirQuality.csv\"\n",
    "\n",
    "df = pd.read_csv(s3uri,\n",
    "                 index_col='Date',\n",
    "                 parse_dates=True,\n",
    "                 storage_options= {\n",
    "                         'key': AWS_ACCESS_KEY,\n",
    "                         'secret': AWS_SECRET_KEY\n",
    "                     })\n"
   ]
  },
  {
   "cell_type": "markdown",
   "id": "e0fc2f8d-e263-4813-ac0d-3c8db9c2765b",
   "metadata": {},
   "source": [
    "**Using BOTO3**"
   ]
  },
  {
   "cell_type": "code",
   "execution_count": null,
   "id": "0c750b74-e5b2-48ce-88a4-bdbbe83d01ae",
   "metadata": {},
   "outputs": [],
   "source": [
    "import boto3\n",
    "bucket = \"tscookbook-private\"\n",
    "client = boto3.client(\"s3\",\n",
    "                  aws_access_key_id =AWS_ACCESS_KEY,\n",
    "                  aws_secret_access_key = AWS_SECRET_KEY)\n"
   ]
  },
  {
   "cell_type": "code",
   "execution_count": null,
   "id": "3430d51c-07ff-46e9-9191-d3d747aa0ace",
   "metadata": {},
   "outputs": [],
   "source": [
    "data = client.get_object(Bucket=bucket, Key='AirQuality.csv')\n",
    "df = pd.read_csv(data['Body'],\n",
    "                 index_col='Date',\n",
    "                 parse_dates=True)\n"
   ]
  },
  {
   "cell_type": "markdown",
   "id": "2c968bed-9693-44e0-b537-feca8fb867bf",
   "metadata": {},
   "source": [
    "## Reading from HTML"
   ]
  },
  {
   "cell_type": "code",
   "execution_count": 79,
   "id": "ae29ee75-aa23-47d6-80c4-a7cf64c1105d",
   "metadata": {},
   "outputs": [
    {
     "name": "stdout",
     "output_type": "stream",
     "text": [
      "58\n"
     ]
    }
   ],
   "source": [
    "url = \"https://en.wikipedia.org/wiki/COVID-19_pandemic_by_country_and_territory\"\n",
    "results = pd.read_html(url)\n",
    "print(len(results))\n"
   ]
  },
  {
   "cell_type": "code",
   "execution_count": 97,
   "id": "f414af1b-eb6d-48c6-81ff-b565dc7c276e",
   "metadata": {},
   "outputs": [
    {
     "data": {
      "text/plain": [
       "Index(['2020', 'Jan', 'Feb', 'Mar', 'Apr', 'May', 'Jun', 'Jul', 'Aug', 'Sep',\n",
       "       'Oct', 'Nov', 'Dec'],\n",
       "      dtype='object')"
      ]
     },
     "execution_count": 97,
     "metadata": {},
     "output_type": "execute_result"
    }
   ],
   "source": [
    "df = results[13]\n",
    "df.columns"
   ]
  },
  {
   "cell_type": "code",
   "execution_count": 98,
   "id": "b6562630-e409-4d47-85cd-14998c5f0046",
   "metadata": {},
   "outputs": [
    {
     "data": {
      "text/html": [
       "<div>\n",
       "<style scoped>\n",
       "    .dataframe tbody tr th:only-of-type {\n",
       "        vertical-align: middle;\n",
       "    }\n",
       "\n",
       "    .dataframe tbody tr th {\n",
       "        vertical-align: top;\n",
       "    }\n",
       "\n",
       "    .dataframe thead th {\n",
       "        text-align: right;\n",
       "    }\n",
       "</style>\n",
       "<table border=\"1\" class=\"dataframe\">\n",
       "  <thead>\n",
       "    <tr style=\"text-align: right;\">\n",
       "      <th>2020</th>\n",
       "      <th>USA</th>\n",
       "      <th>Canada</th>\n",
       "      <th>UK</th>\n",
       "      <th>China</th>\n",
       "    </tr>\n",
       "  </thead>\n",
       "  <tbody>\n",
       "    <tr>\n",
       "      <th>Aug</th>\n",
       "      <td>151265.0</td>\n",
       "      <td>8929.0</td>\n",
       "      <td>46119.0</td>\n",
       "      <td>4668.0</td>\n",
       "    </tr>\n",
       "    <tr>\n",
       "      <th>Sep</th>\n",
       "      <td>182162.0</td>\n",
       "      <td>9117.0</td>\n",
       "      <td>41501.0</td>\n",
       "      <td>4730.0</td>\n",
       "    </tr>\n",
       "    <tr>\n",
       "      <th>Oct</th>\n",
       "      <td>204642.0</td>\n",
       "      <td>9291.0</td>\n",
       "      <td>42143.0</td>\n",
       "      <td>4746.0</td>\n",
       "    </tr>\n",
       "    <tr>\n",
       "      <th>Nov</th>\n",
       "      <td>228185.0</td>\n",
       "      <td>10110.0</td>\n",
       "      <td>46555.0</td>\n",
       "      <td>4746.0</td>\n",
       "    </tr>\n",
       "    <tr>\n",
       "      <th>Dec</th>\n",
       "      <td>264808.0</td>\n",
       "      <td>12032.0</td>\n",
       "      <td>58448.0</td>\n",
       "      <td>4750.0</td>\n",
       "    </tr>\n",
       "  </tbody>\n",
       "</table>\n",
       "</div>"
      ],
      "text/plain": [
       "2020       USA   Canada       UK   China\n",
       "Aug   151265.0   8929.0  46119.0  4668.0\n",
       "Sep   182162.0   9117.0  41501.0  4730.0\n",
       "Oct   204642.0   9291.0  42143.0  4746.0\n",
       "Nov   228185.0  10110.0  46555.0  4746.0\n",
       "Dec   264808.0  12032.0  58448.0  4750.0"
      ]
     },
     "execution_count": 98,
     "metadata": {},
     "output_type": "execute_result"
    }
   ],
   "source": [
    "df = df.iloc[4:].T\n",
    "df.columns = df.iloc[0]\n",
    "df.drop('2020', inplace=True)\n",
    "df[['USA', 'Canada', 'UK', 'China']].tail()\n"
   ]
  },
  {
   "cell_type": "markdown",
   "id": "8e5c18bb-b7e3-4d54-9338-9631f4dc4cbc",
   "metadata": {},
   "source": [
    "## Example how `read_html()` works"
   ]
  },
  {
   "cell_type": "code",
   "execution_count": 37,
   "id": "2b53a57e-8a60-4a56-bfda-45c30e565d2a",
   "metadata": {},
   "outputs": [
    {
     "data": {
      "text/html": [
       "<div>\n",
       "<style scoped>\n",
       "    .dataframe tbody tr th:only-of-type {\n",
       "        vertical-align: middle;\n",
       "    }\n",
       "\n",
       "    .dataframe tbody tr th {\n",
       "        vertical-align: top;\n",
       "    }\n",
       "\n",
       "    .dataframe thead th {\n",
       "        text-align: right;\n",
       "    }\n",
       "</style>\n",
       "<table border=\"1\" class=\"dataframe\">\n",
       "  <thead>\n",
       "    <tr style=\"text-align: right;\">\n",
       "      <th></th>\n",
       "      <th>Ticker</th>\n",
       "      <th>Price</th>\n",
       "    </tr>\n",
       "  </thead>\n",
       "  <tbody>\n",
       "    <tr>\n",
       "      <th>0</th>\n",
       "      <td>MSFT</td>\n",
       "      <td>230</td>\n",
       "    </tr>\n",
       "    <tr>\n",
       "      <th>1</th>\n",
       "      <td>APPL</td>\n",
       "      <td>300</td>\n",
       "    </tr>\n",
       "    <tr>\n",
       "      <th>2</th>\n",
       "      <td>MSTR</td>\n",
       "      <td>120</td>\n",
       "    </tr>\n",
       "  </tbody>\n",
       "</table>\n",
       "</div>"
      ],
      "text/plain": [
       "  Ticker  Price\n",
       "0   MSFT    230\n",
       "1   APPL    300\n",
       "2   MSTR    120"
      ]
     },
     "execution_count": 37,
     "metadata": {},
     "output_type": "execute_result"
    }
   ],
   "source": [
    "import pandas as pd\n",
    "html = \"\"\"\n",
    "    ...: <table>\n",
    "    ...:   <tr>\n",
    "    ...:     <th>Ticker</th>\n",
    "    ...:     <th>Price</th>\n",
    "    ...:   </tr>\n",
    "    ...:   <tr>\n",
    "    ...:     <td>MSFT</td>\n",
    "    ...:     <td>230</td>\n",
    "    ...:   </tr>\n",
    "    ...:   <tr>\n",
    "    ...:     <td>APPL</td>\n",
    "    ...:     <td>300</td>\n",
    "    ...:   </tr>\n",
    "    ...:     <tr>\n",
    "    ...:     <td>MSTR</td>\n",
    "    ...:     <td>120</td>\n",
    "    ...:   </tr>\n",
    "    ...: </table>\n",
    "    ...:\n",
    "    ...: </body>\n",
    "    ...: </html>\n",
    "    ...: \"\"\"\n",
    "\n",
    "df = pd.read_html(html)\n",
    "df[0]\n"
   ]
  },
  {
   "cell_type": "markdown",
   "id": "aae256fc-d806-4a18-af3d-9e61ca99060f",
   "metadata": {},
   "source": [
    "## Using `attr` option in `read.html()`"
   ]
  },
  {
   "cell_type": "code",
   "execution_count": 38,
   "id": "8f591292-b34a-4186-93ff-03a9b61a497c",
   "metadata": {},
   "outputs": [
    {
     "data": {
      "text/plain": [
       "4"
      ]
     },
     "execution_count": 38,
     "metadata": {},
     "output_type": "execute_result"
    }
   ],
   "source": [
    "import pandas as pd\n",
    "url = \"https://en.wikipedia.org/wiki/COVID-19_pandemic_by_country_and_territory\"\n",
    "df = pd.read_html(url, attrs={'id': 'thetable'})\n",
    "len(df)\n"
   ]
  },
  {
   "cell_type": "code",
   "execution_count": 39,
   "id": "60e2b0ab-30fc-47a1-9d94-650b7c5a72a9",
   "metadata": {},
   "outputs": [
    {
     "data": {
      "text/plain": [
       "Index(['2020', 'Jan', 'Feb', 'Mar', 'Apr', 'May', 'Jun', 'Jul', 'Aug', 'Sep',\n",
       "       'Oct', 'Nov', 'Dec'],\n",
       "      dtype='object')"
      ]
     },
     "execution_count": 39,
     "metadata": {},
     "output_type": "execute_result"
    }
   ],
   "source": [
    "df[2].columns"
   ]
  },
  {
   "cell_type": "markdown",
   "id": "a182e19c-db98-4496-a691-efa13c35e915",
   "metadata": {},
   "source": [
    "# Reading from a SAS dataset\n",
    "* Dataset 1: http://support.sas.com/kb/61/960.html\n",
    "* Dataset 2: "
   ]
  },
  {
   "cell_type": "code",
   "execution_count": 110,
   "id": "f90a2f3a-512e-4f8d-bf30-1e2384433646",
   "metadata": {},
   "outputs": [],
   "source": [
    "import pandas as pd\n",
    "path = '../../datasets/Ch2/DCSKINPRODUCT.sas7bdat'\n"
   ]
  },
  {
   "cell_type": "code",
   "execution_count": 111,
   "id": "0304c79d-ca45-43ed-bf78-b948d2c35571",
   "metadata": {},
   "outputs": [
    {
     "data": {
      "text/plain": [
       "pandas.io.sas.sas7bdat.SAS7BDATReader"
      ]
     },
     "execution_count": 111,
     "metadata": {},
     "output_type": "execute_result"
    }
   ],
   "source": [
    "df = pd.read_sas(path, chunksize=10000)\n",
    "type(df)\n"
   ]
  },
  {
   "cell_type": "code",
   "execution_count": 112,
   "id": "d996d23d-3c54-4664-a5a5-108ff1e05b25",
   "metadata": {},
   "outputs": [
    {
     "data": {
      "text/plain": [
       "16"
      ]
     },
     "execution_count": 112,
     "metadata": {},
     "output_type": "execute_result"
    }
   ],
   "source": [
    "results = []\n",
    "for chunk in df:\n",
    "    results.append(\n",
    "        chunk.groupby('DATE')['Revenue']\n",
    "             .agg(['sum', 'count']))\n",
    "len(results)"
   ]
  },
  {
   "cell_type": "code",
   "execution_count": 113,
   "id": "d4c2d3b7-095a-44da-84c1-24ee21f7ebbf",
   "metadata": {},
   "outputs": [
    {
     "data": {
      "text/plain": [
       "sum      923903.0\n",
       "count        91.0\n",
       "Name: 2013-02-10 00:00:00, dtype: float64"
      ]
     },
     "execution_count": 113,
     "metadata": {},
     "output_type": "execute_result"
    }
   ],
   "source": [
    "results[0].loc['2013-02-10']"
   ]
  },
  {
   "cell_type": "code",
   "execution_count": 114,
   "id": "009e6544-e4a4-4e46-a45f-90e43cb1f68b",
   "metadata": {},
   "outputs": [
    {
     "data": {
      "text/plain": [
       "sum      8186392.0\n",
       "count         91.0\n",
       "Name: 2013-02-10 00:00:00, dtype: float64"
      ]
     },
     "execution_count": 114,
     "metadata": {},
     "output_type": "execute_result"
    }
   ],
   "source": [
    "results[1].loc['2013-02-10']"
   ]
  },
  {
   "cell_type": "code",
   "execution_count": 115,
   "id": "2c0dfdbb-a14f-4593-b091-85641778d841",
   "metadata": {},
   "outputs": [
    {
     "data": {
      "text/plain": [
       "sum      5881396.0\n",
       "count         91.0\n",
       "Name: 2013-02-10 00:00:00, dtype: float64"
      ]
     },
     "execution_count": 115,
     "metadata": {},
     "output_type": "execute_result"
    }
   ],
   "source": [
    "results[2].loc['2013-02-10']"
   ]
  },
  {
   "cell_type": "code",
   "execution_count": 116,
   "id": "573d1715-0bf0-49e3-bb7d-8a7e4491718d",
   "metadata": {},
   "outputs": [
    {
     "data": {
      "text/plain": [
       "pandas.core.frame.DataFrame"
      ]
     },
     "execution_count": 116,
     "metadata": {},
     "output_type": "execute_result"
    }
   ],
   "source": [
    "from functools import reduce\n",
    "final = reduce(lambda x1, x2: x1.add(x2, fill_value=0), results)\n",
    "type(final)"
   ]
  },
  {
   "cell_type": "code",
   "execution_count": 117,
   "id": "fbcf52ff-6a95-4afe-9474-4a39a69e00be",
   "metadata": {},
   "outputs": [
    {
     "data": {
      "text/plain": [
       "sum      43104420.0\n",
       "count        1383.0\n",
       "Name: 2013-02-10 00:00:00, dtype: float64"
      ]
     },
     "execution_count": 117,
     "metadata": {},
     "output_type": "execute_result"
    }
   ],
   "source": [
    "final.loc['2013-02-10']"
   ]
  },
  {
   "cell_type": "markdown",
   "id": "86496ede-fc4b-4866-9d39-ec38ae0f9ece",
   "metadata": {},
   "source": [
    "## Comparing Performance: Memory & Time"
   ]
  },
  {
   "cell_type": "code",
   "execution_count": 118,
   "id": "b24bea47-253e-4249-bb81-38a568bd17a9",
   "metadata": {},
   "outputs": [],
   "source": [
    "import pandas as pd\n",
    "from functools import reduce\n",
    "\n",
    "path = '../../datasets/Ch2/ahs2013n.sas7bdat'\n",
    "\n",
    "def read_entire_data():\n",
    "        dfs = pd.read_sas(path)\n",
    "        final = dfs.groupby('REGION')['CONTROL'].count()\n",
    "        return final\n"
   ]
  },
  {
   "cell_type": "code",
   "execution_count": 119,
   "id": "25ed7a3c-54ce-4f1c-95ad-23e97f4f7b35",
   "metadata": {},
   "outputs": [],
   "source": [
    "def chunk_and_reduce():\n",
    "    dfs = pd.read_sas(path, chunksize=150000)\n",
    "    for chunk in dfs:\n",
    "        results.append(chunk.groupby('REGION')['CONTROL'].count())\n",
    "        final = reduce(lambda x1, x2: \n",
    "                           x1.add(x2, fill_value=0), \n",
    "                       results)\n",
    "        return final\n"
   ]
  },
  {
   "cell_type": "code",
   "execution_count": 120,
   "id": "716e493a-af49-4b8e-bfc4-5e08952d5e9a",
   "metadata": {},
   "outputs": [],
   "source": [
    "def map_and_reduce():\n",
    "    dfs = pd.read_sas(path, chunksize=150000)\n",
    "    df_map = map(lambda a: \n",
    "                     a.groupby('REGION')['CONTROL'].count(), \n",
    "                 dfs)\n",
    "    final = reduce(lambda x1, x2:\n",
    "                       x1.add(x2, fill_value=0), \n",
    "                   df_map)\n",
    "    return final\n"
   ]
  },
  {
   "cell_type": "code",
   "execution_count": 22,
   "id": "a25b248b-4eac-4436-bd6d-4916f0c3aab2",
   "metadata": {},
   "outputs": [],
   "source": [
    "%load_ext memory_profiler"
   ]
  },
  {
   "cell_type": "code",
   "execution_count": 122,
   "id": "3046630d-d4ee-4944-8763-900cb101ae4e",
   "metadata": {},
   "outputs": [
    {
     "name": "stdout",
     "output_type": "stream",
     "text": [
      "Warning: column count mismatch (1028 + 1488 != 4041)\n",
      "\n",
      "peak memory: 6486.23 MiB, increment: 6265.21 MiB\n",
      "CPU times: user 5min 47s, sys: 35.3 s, total: 6min 22s\n",
      "Wall time: 6min 33s\n"
     ]
    }
   ],
   "source": [
    "%%time\n",
    "%memit read_entire_data()\n"
   ]
  },
  {
   "cell_type": "code",
   "execution_count": 123,
   "id": "d74e3e76-3f73-4520-bf43-032cbe3efa09",
   "metadata": {},
   "outputs": [
    {
     "name": "stdout",
     "output_type": "stream",
     "text": [
      "Warning: column count mismatch (1028 + 1488 != 4041)\n",
      "\n",
      "peak memory: 6136.82 MiB, increment: 5954.84 MiB\n",
      "CPU times: user 5min 28s, sys: 26.1 s, total: 5min 54s\n",
      "Wall time: 5min 57s\n"
     ]
    }
   ],
   "source": [
    "%%time\n",
    "%memit chunk_and_reduce()\n"
   ]
  },
  {
   "cell_type": "code",
   "execution_count": 124,
   "id": "9326111d-116e-4a65-b125-9402ef3d5821",
   "metadata": {},
   "outputs": [
    {
     "name": "stdout",
     "output_type": "stream",
     "text": [
      "Warning: column count mismatch (1028 + 1488 != 4041)\n",
      "\n",
      "peak memory: 6064.11 MiB, increment: 5880.79 MiB\n",
      "CPU times: user 5min 25s, sys: 27.8 s, total: 5min 53s\n",
      "Wall time: 5min 56s\n"
     ]
    }
   ],
   "source": [
    "%%time\n",
    "%memit map_and_reduce()\n"
   ]
  },
  {
   "cell_type": "markdown",
   "id": "62e803a4-b6d9-4f72-83a0-147ddf523c57",
   "metadata": {},
   "source": [
    "# Using Dask"
   ]
  },
  {
   "cell_type": "code",
   "execution_count": 1,
   "id": "90609518-8b97-4c88-bade-e83d1646742f",
   "metadata": {},
   "outputs": [],
   "source": [
    "import pandas as pd"
   ]
  },
  {
   "cell_type": "code",
   "execution_count": 2,
   "id": "bfc411fd-c19e-4680-b7a4-2bce6bc1229f",
   "metadata": {},
   "outputs": [],
   "source": [
    "import dask.dataframe as dd\n",
    "from pathlib import Path\n",
    "filepath = Path('../../datasets/Ch2/movieboxoffice.csv')"
   ]
  },
  {
   "cell_type": "code",
   "execution_count": 6,
   "id": "7c60f38d-2030-43fa-aa9d-87703a88811b",
   "metadata": {},
   "outputs": [
    {
     "name": "stdout",
     "output_type": "stream",
     "text": [
      "<class 'pandas.core.frame.DataFrame'>\n",
      "DatetimeIndex: 128 entries, 2021-04-26 to 2021-08-31\n",
      "Data columns (total 4 columns):\n",
      " #   Column        Non-Null Count  Dtype \n",
      "---  ------        --------------  ----- \n",
      " 0   DOW           128 non-null    object\n",
      " 1   Daily         128 non-null    object\n",
      " 2   Forecast      128 non-null    object\n",
      " 3   Percent Diff  128 non-null    object\n",
      "dtypes: object(4)\n",
      "memory usage: 5.0+ KB\n"
     ]
    }
   ],
   "source": [
    "ts = pd.read_csv(filepath,\n",
    "                 header=0,\n",
    "                 parse_dates=[0],\n",
    "                 index_col=0,\n",
    "                 infer_datetime_format=True,\n",
    "                 usecols=['Date',\n",
    "                          'DOW',\n",
    "                          'Daily',\n",
    "                          'Forecast',\n",
    "                          'Percent Diff'])\n",
    "ts.info()"
   ]
  },
  {
   "cell_type": "code",
   "execution_count": 35,
   "id": "b9910530-b886-4828-90ec-5f55ee44da3c",
   "metadata": {},
   "outputs": [],
   "source": [
    "df = dd.read_csv(filepath,\n",
    "                 header=0,\n",
    "                 parse_dates=[0],\n",
    "                 infer_datetime_format=True,\n",
    "                 usecols=['Date',\n",
    "                          'DOW',\n",
    "                          'Daily',\n",
    "                          'Forecast',\n",
    "                          'Percent Diff']).set_index('Date')"
   ]
  },
  {
   "cell_type": "code",
   "execution_count": 36,
   "id": "0903ec77-aae9-477d-b394-033cec441e6a",
   "metadata": {},
   "outputs": [
    {
     "data": {
      "text/html": [
       "<div>\n",
       "<style scoped>\n",
       "    .dataframe tbody tr th:only-of-type {\n",
       "        vertical-align: middle;\n",
       "    }\n",
       "\n",
       "    .dataframe tbody tr th {\n",
       "        vertical-align: top;\n",
       "    }\n",
       "\n",
       "    .dataframe thead th {\n",
       "        text-align: right;\n",
       "    }\n",
       "</style>\n",
       "<table border=\"1\" class=\"dataframe\">\n",
       "  <thead>\n",
       "    <tr style=\"text-align: right;\">\n",
       "      <th></th>\n",
       "      <th>DOW</th>\n",
       "      <th>Daily</th>\n",
       "      <th>Forecast</th>\n",
       "      <th>Percent Diff</th>\n",
       "    </tr>\n",
       "    <tr>\n",
       "      <th>Date</th>\n",
       "      <th></th>\n",
       "      <th></th>\n",
       "      <th></th>\n",
       "      <th></th>\n",
       "    </tr>\n",
       "  </thead>\n",
       "  <tbody>\n",
       "    <tr>\n",
       "      <th>2021-04-26</th>\n",
       "      <td>Friday</td>\n",
       "      <td>$125,789.89</td>\n",
       "      <td>$235,036.46</td>\n",
       "      <td>-46.48%</td>\n",
       "    </tr>\n",
       "    <tr>\n",
       "      <th>2021-04-27</th>\n",
       "      <td>Saturday</td>\n",
       "      <td>$99,374.01</td>\n",
       "      <td>$197,622.55</td>\n",
       "      <td>-49.72%</td>\n",
       "    </tr>\n",
       "    <tr>\n",
       "      <th>2021-04-28</th>\n",
       "      <td>Sunday</td>\n",
       "      <td>$82,203.16</td>\n",
       "      <td>$116,991.26</td>\n",
       "      <td>-29.74%</td>\n",
       "    </tr>\n",
       "    <tr>\n",
       "      <th>2021-04-29</th>\n",
       "      <td>Monday</td>\n",
       "      <td>$33,530.26</td>\n",
       "      <td>$66,652.65</td>\n",
       "      <td>-49.69%</td>\n",
       "    </tr>\n",
       "    <tr>\n",
       "      <th>2021-04-30</th>\n",
       "      <td>Tuesday</td>\n",
       "      <td>$30,105.24</td>\n",
       "      <td>$34,828.19</td>\n",
       "      <td>-13.56%</td>\n",
       "    </tr>\n",
       "  </tbody>\n",
       "</table>\n",
       "</div>"
      ],
      "text/plain": [
       "                 DOW          Daily       Forecast Percent Diff\n",
       "Date                                                           \n",
       "2021-04-26    Friday   $125,789.89    $235,036.46       -46.48%\n",
       "2021-04-27  Saturday    $99,374.01    $197,622.55       -49.72%\n",
       "2021-04-28    Sunday    $82,203.16    $116,991.26       -29.74%\n",
       "2021-04-29    Monday    $33,530.26     $66,652.65       -49.69%\n",
       "2021-04-30   Tuesday    $30,105.24     $34,828.19       -13.56%"
      ]
     },
     "execution_count": 36,
     "metadata": {},
     "output_type": "execute_result"
    }
   ],
   "source": [
    "df.head()"
   ]
  },
  {
   "cell_type": "code",
   "execution_count": 17,
   "id": "a84b9a64-9ef2-446f-b991-fed1d3251002",
   "metadata": {},
   "outputs": [
    {
     "data": {
      "text/plain": [
       "Dask Series Structure:\n",
       "npartitions=1\n",
       "    int64\n",
       "      ...\n",
       "dtype: int64\n",
       "Dask Name: series-groupby-sum-agg, 7 tasks"
      ]
     },
     "execution_count": 17,
     "metadata": {},
     "output_type": "execute_result"
    }
   ],
   "source": [
    "df.memory_usage()"
   ]
  },
  {
   "cell_type": "code",
   "execution_count": 18,
   "id": "2b2a32d7-ae8d-466f-8863-c860a4757ae3",
   "metadata": {},
   "outputs": [
    {
     "name": "stdout",
     "output_type": "stream",
     "text": [
      "<class 'dask.dataframe.core.DataFrame'>\n",
      "Columns: 4 entries, DOW to Percent Diff\n",
      "dtypes: object(4)"
     ]
    }
   ],
   "source": [
    "df.info()"
   ]
  },
  {
   "cell_type": "code",
   "execution_count": 19,
   "id": "044506ed-8f68-4ba7-8104-f054cf706c2b",
   "metadata": {},
   "outputs": [
    {
     "name": "stdout",
     "output_type": "stream",
     "text": [
      "<class 'pandas.core.frame.DataFrame'>\n",
      "DatetimeIndex: 128 entries, 2021-04-26 to 2021-08-31\n",
      "Data columns (total 4 columns):\n",
      " #   Column        Non-Null Count  Dtype \n",
      "---  ------        --------------  ----- \n",
      " 0   DOW           128 non-null    object\n",
      " 1   Daily         128 non-null    object\n",
      " 2   Forecast      128 non-null    object\n",
      " 3   Percent Diff  128 non-null    object\n",
      "dtypes: object(4)\n",
      "memory usage: 5.0+ KB\n"
     ]
    }
   ],
   "source": [
    "ts.info()"
   ]
  },
  {
   "cell_type": "code",
   "execution_count": 3,
   "id": "d4d68e81-4a73-47e5-94fb-47b2ba66020a",
   "metadata": {},
   "outputs": [],
   "source": [
    "%load_ext memory_profiler"
   ]
  },
  {
   "cell_type": "code",
   "execution_count": 7,
   "id": "00c576d9-a924-456a-bd7a-a3a3b6398322",
   "metadata": {},
   "outputs": [],
   "source": [
    "def pandas_run():\n",
    "    path = Path('../../datasets/Ch5/ExtraSensory/')\n",
    "    file = '0A986513-7828-4D53-AA1F-E02D6DF9561B.features_labels.csv.gz'\n",
    "\n",
    "    columns = ['timestamp',\n",
    "               'watch_acceleration:magnitude_stats:mean']\n",
    "\n",
    "    df = pd.read_csv(path.joinpath(file),\n",
    "                    usecols=columns)\n",
    "    df = df.fillna(method='backfill')\n",
    "    df.columns = ['timestamp','acc']\n",
    "\n",
    "    df['timestamp'] = pd.to_datetime(df['timestamp'],\n",
    "                                      origin='unix',\n",
    "                                      unit='s',\n",
    "                                      utc=True)\n",
    "    df.set_index('timestamp', inplace=True)\n",
    "    \n",
    "def dask_run():\n",
    "    path = Path('../../datasets/Ch5/ExtraSensory/')\n",
    "    file = '0A986513-7828-4D53-AA1F-E02D6DF9561B.features_labels.csv.gz'\n",
    "\n",
    "    columns = ['timestamp',\n",
    "               'watch_acceleration:magnitude_stats:mean']\n",
    "\n",
    "    df = dd.read_csv(path.joinpath(file),\n",
    "                    usecols=columns, blocksize=None)\n",
    "    df = df.fillna(method='backfill')\n",
    "    df.columns = ['timestamp','acc']\n",
    "\n",
    "    df['timestamp'] = dd.to_datetime(df['timestamp'],\n",
    "                                      origin='unix',\n",
    "                                      unit='s',\n",
    "                                      utc=True)\n",
    "    df = df.set_index('timestamp')"
   ]
  },
  {
   "cell_type": "code",
   "execution_count": 8,
   "id": "79370633-b7ed-43b1-9846-0f5ea23ea80e",
   "metadata": {},
   "outputs": [
    {
     "name": "stdout",
     "output_type": "stream",
     "text": [
      "peak memory: 173.36 MiB, increment: 5.76 MiB\n",
      "CPU times: user 282 ms, sys: 68.2 ms, total: 351 ms\n",
      "Wall time: 1.29 s\n"
     ]
    }
   ],
   "source": [
    "%%time\n",
    "%memit pandas_run()"
   ]
  },
  {
   "cell_type": "code",
   "execution_count": 9,
   "id": "fa3a4b8c-3b5a-48b0-9e59-86c10309d379",
   "metadata": {},
   "outputs": [
    {
     "name": "stdout",
     "output_type": "stream",
     "text": [
      "peak memory: 196.02 MiB, increment: 33.51 MiB\n",
      "CPU times: user 354 ms, sys: 92.2 ms, total: 447 ms\n",
      "Wall time: 1.39 s\n"
     ]
    }
   ],
   "source": [
    "%%time\n",
    "%memit dask_run()"
   ]
  },
  {
   "cell_type": "code",
   "execution_count": null,
   "id": "b61722df-4c87-4a31-abe8-e337f279e639",
   "metadata": {},
   "outputs": [],
   "source": []
  },
  {
   "cell_type": "code",
   "execution_count": null,
   "id": "84cd71d6-3650-4492-a4d0-27e441f7c139",
   "metadata": {},
   "outputs": [],
   "source": []
  }
 ],
 "metadata": {
  "kernelspec": {
   "display_name": "Python [conda env:ch2]",
   "language": "python",
   "name": "conda-env-ch2-py"
  },
  "language_info": {
   "codemirror_mode": {
    "name": "ipython",
    "version": 3
   },
   "file_extension": ".py",
   "mimetype": "text/x-python",
   "name": "python",
   "nbconvert_exporter": "python",
   "pygments_lexer": "ipython3",
   "version": "3.9.6"
  }
 },
 "nbformat": 4,
 "nbformat_minor": 5
}
