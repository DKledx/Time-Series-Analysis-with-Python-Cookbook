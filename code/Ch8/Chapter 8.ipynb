{
 "cells": [
  {
   "cell_type": "markdown",
   "id": "988928ab-cd9e-48bf-9fe8-70cf36bd3162",
   "metadata": {},
   "source": [
    "# -- START --"
   ]
  },
  {
   "cell_type": "markdown",
   "id": "a920cd52-117b-4861-bfee-600a099b29cd",
   "metadata": {},
   "source": [
    "* If you have the libraries installed check the versions \n",
    "* If the libraries are missing or you have an older version then either install or update the library"
   ]
  },
  {
   "cell_type": "code",
   "execution_count": 1,
   "id": "4e72431b-105f-4492-9f29-4a361732afcd",
   "metadata": {},
   "outputs": [],
   "source": [
    "# old versions"
   ]
  },
  {
   "cell_type": "code",
   "execution_count": 84,
   "id": "5754ae08-0c84-416c-9449-924bb1d3305b",
   "metadata": {},
   "outputs": [
    {
     "name": "stdout",
     "output_type": "stream",
     "text": [
      "\n",
      "Matplotlib -> 3.5.1\n",
      "pandas -> 1.4.1   \n",
      "scipy -> 1.7.3\n",
      "statsmodels -> 0.11.1\n",
      "\n"
     ]
    }
   ],
   "source": [
    "import matplotlib \n",
    "import pandas as pd\n",
    "import scipy \n",
    "import statsmodels\n",
    "\n",
    "print(f'''\n",
    "Matplotlib -> {matplotlib.__version__}\n",
    "pandas -> {pd.__version__}   \n",
    "scipy -> {scipy.__version__}\n",
    "statsmodels -> {statsmodels.__version__}\n",
    "''')"
   ]
  },
  {
   "cell_type": "code",
   "execution_count": 85,
   "id": "224f086f-618c-49ca-a683-0790b4b431ed",
   "metadata": {},
   "outputs": [],
   "source": [
    "# Pip install example\n",
    "# !pip install matplotlib==3.5.0 pandas==1.3.4 scipy==1.7.3 statsmodels==0.11.1"
   ]
  },
  {
   "cell_type": "code",
   "execution_count": 86,
   "id": "9da8c937-98d0-414d-8afe-c12675065483",
   "metadata": {},
   "outputs": [],
   "source": [
    "import pandas as pd\n",
    "import numpy as np\n",
    "import matplotlib.pyplot as plt\n",
    "from pathlib import Path\n",
    "\n",
    "\n",
    "import warnings\n",
    "\n",
    "\n",
    "warnings.filterwarnings('ignore')\n",
    "plt.rcParams[\"figure.figsize\"] = 16, 3"
   ]
  },
  {
   "cell_type": "markdown",
   "id": "06223207-cfda-4287-86fe-b5a03da54fe4",
   "metadata": {},
   "source": [
    "### Create DataFrames "
   ]
  },
  {
   "cell_type": "code",
   "execution_count": 259,
   "id": "0a70ddf8-9638-4363-bed7-d24ba7ef09e6",
   "metadata": {},
   "outputs": [],
   "source": [
    "file = Path(\"../../datasets/Ch8/nyc_taxi.csv\")\n",
    "\n",
    "nyc_taxi = pd.read_csv(file, \n",
    "                     index_col='timestamp', \n",
    "                     parse_dates=True)"
   ]
  },
  {
   "cell_type": "code",
   "execution_count": 260,
   "id": "1c871e00-e438-48f0-a17e-6244b44c57a1",
   "metadata": {},
   "outputs": [
    {
     "data": {
      "text/plain": [
       "DatetimeIndex(['2014-07-01 00:00:00', '2014-07-01 00:30:00',\n",
       "               '2014-07-01 01:00:00', '2014-07-01 01:30:00',\n",
       "               '2014-07-01 02:00:00', '2014-07-01 02:30:00',\n",
       "               '2014-07-01 03:00:00', '2014-07-01 03:30:00',\n",
       "               '2014-07-01 04:00:00', '2014-07-01 04:30:00',\n",
       "               ...\n",
       "               '2015-01-31 19:00:00', '2015-01-31 19:30:00',\n",
       "               '2015-01-31 20:00:00', '2015-01-31 20:30:00',\n",
       "               '2015-01-31 21:00:00', '2015-01-31 21:30:00',\n",
       "               '2015-01-31 22:00:00', '2015-01-31 22:30:00',\n",
       "               '2015-01-31 23:00:00', '2015-01-31 23:30:00'],\n",
       "              dtype='datetime64[ns]', name='timestamp', length=10320, freq='30T')"
      ]
     },
     "execution_count": 260,
     "metadata": {},
     "output_type": "execute_result"
    }
   ],
   "source": [
    "nyc_taxi.index.freq = '30T'\n",
    "nyc_taxi.index"
   ]
  },
  {
   "cell_type": "code",
   "execution_count": 268,
   "id": "e14b93c8-5c48-4b56-848d-5c3186066f31",
   "metadata": {},
   "outputs": [],
   "source": [
    "def plot_outliers(outliers, data, method='KNN',\n",
    "                 halignment = 'right', \n",
    "                 valignment = 'bottom',\n",
    "                 labels=False):\n",
    "\n",
    "    ax = data.plot(alpha=0.6)\n",
    "    \n",
    "    if labels:\n",
    "        for i in outliers['value'].items():\n",
    "            plt.plot(i[0], i[1], 'rx')\n",
    "            plt.text(i[0], i[1], f'{i[0].date()}', \n",
    "                         horizontalalignment=halignment,\n",
    "                         verticalalignment=valignment)\n",
    "    else:\n",
    "        data.loc[outliers.index].plot(ax=ax, style='rx')\n",
    "        \n",
    "    plt.title(f'NYC Taxi - {method}')\n",
    "    plt.xlabel('date'); plt.ylabel('# of passengers')\n",
    "    plt.legend(['nyc taxi','outliers'])\n",
    "    plt.show()"
   ]
  },
  {
   "cell_type": "markdown",
   "id": "8e57a4d4-4d69-46b3-b12e-3ccda870d509",
   "metadata": {},
   "source": [
    "### Visualize DataFrames"
   ]
  },
  {
   "cell_type": "markdown",
   "id": "08e8b229-1f34-4ff7-aff1-e323fc4e0177",
   "metadata": {},
   "source": [
    "* **nyc_taxi.csv**: Number of NYC taxi passengers, where the five anomalies occur during the NYC marathon, Thanksgiving, Christmas, New Years day, and a snow storm. The raw data is from the NYC Taxi and Limousine Commission. The data file included here consists of aggregating the total number of taxi passengers into 30 minute buckets.\n",
    "* **machine_temperature_system_failure.csv**: Temperature sensor data of an internal component of a large, industrial mahcine. The first anomaly is a planned shutdown of the machine. The second anomaly is difficult to detect and directly led to the third anomaly, a catastrophic failure of the machine.\n",
    "* **Real time traffic data** from the Twin Cities Metro area in Minnesota, collected by the Minnesota Department of Transportation. Included metrics include occupancy, speed, and travel time from specific sensors."
   ]
  },
  {
   "cell_type": "code",
   "execution_count": 90,
   "id": "a8232a3d-6d10-4942-ad95-db971dd9397c",
   "metadata": {},
   "outputs": [
    {
     "data": {
      "text/plain": [
       "DatetimeIndex(['2014-07-01 00:00:00', '2014-07-01 00:30:00',\n",
       "               '2014-07-01 01:00:00', '2014-07-01 01:30:00',\n",
       "               '2014-07-01 02:00:00', '2014-07-01 02:30:00',\n",
       "               '2014-07-01 03:00:00', '2014-07-01 03:30:00',\n",
       "               '2014-07-01 04:00:00', '2014-07-01 04:30:00',\n",
       "               ...\n",
       "               '2015-01-31 19:00:00', '2015-01-31 19:30:00',\n",
       "               '2015-01-31 20:00:00', '2015-01-31 20:30:00',\n",
       "               '2015-01-31 21:00:00', '2015-01-31 21:30:00',\n",
       "               '2015-01-31 22:00:00', '2015-01-31 22:30:00',\n",
       "               '2015-01-31 23:00:00', '2015-01-31 23:30:00'],\n",
       "              dtype='datetime64[ns]', name='timestamp', length=10320, freq=None)"
      ]
     },
     "execution_count": 90,
     "metadata": {},
     "output_type": "execute_result"
    }
   ],
   "source": [
    "nyc_taxi.index"
   ]
  },
  {
   "cell_type": "code",
   "execution_count": 91,
   "id": "55b1bd82-d539-43f3-a01c-dd25ac903345",
   "metadata": {},
   "outputs": [
    {
     "data": {
      "text/html": [
       "<div>\n",
       "<style scoped>\n",
       "    .dataframe tbody tr th:only-of-type {\n",
       "        vertical-align: middle;\n",
       "    }\n",
       "\n",
       "    .dataframe tbody tr th {\n",
       "        vertical-align: top;\n",
       "    }\n",
       "\n",
       "    .dataframe thead th {\n",
       "        text-align: right;\n",
       "    }\n",
       "</style>\n",
       "<table border=\"1\" class=\"dataframe\">\n",
       "  <thead>\n",
       "    <tr style=\"text-align: right;\">\n",
       "      <th></th>\n",
       "      <th>actual</th>\n",
       "    </tr>\n",
       "  </thead>\n",
       "  <tbody>\n",
       "    <tr>\n",
       "      <th>0</th>\n",
       "      <td>2014-10-30 15:30:00.000000</td>\n",
       "    </tr>\n",
       "    <tr>\n",
       "      <th>1</th>\n",
       "      <td>2014-11-03 22:30:00.000000</td>\n",
       "    </tr>\n",
       "    <tr>\n",
       "      <th>2</th>\n",
       "      <td>2014-11-25 12:00:00.000000</td>\n",
       "    </tr>\n",
       "    <tr>\n",
       "      <th>3</th>\n",
       "      <td>2014-11-29 19:00:00.000000</td>\n",
       "    </tr>\n",
       "    <tr>\n",
       "      <th>4</th>\n",
       "      <td>2014-12-23 11:30:00.000000</td>\n",
       "    </tr>\n",
       "    <tr>\n",
       "      <th>5</th>\n",
       "      <td>2014-12-27 18:30:00.000000</td>\n",
       "    </tr>\n",
       "    <tr>\n",
       "      <th>6</th>\n",
       "      <td>2014-12-29 21:30:00.000000</td>\n",
       "    </tr>\n",
       "    <tr>\n",
       "      <th>7</th>\n",
       "      <td>2015-01-03 04:30:00.000000</td>\n",
       "    </tr>\n",
       "    <tr>\n",
       "      <th>8</th>\n",
       "      <td>2015-01-24 20:30:00.000000</td>\n",
       "    </tr>\n",
       "    <tr>\n",
       "      <th>9</th>\n",
       "      <td>2015-01-29 03:30:00.000000</td>\n",
       "    </tr>\n",
       "  </tbody>\n",
       "</table>\n",
       "</div>"
      ],
      "text/plain": [
       "                       actual\n",
       "0  2014-10-30 15:30:00.000000\n",
       "1  2014-11-03 22:30:00.000000\n",
       "2  2014-11-25 12:00:00.000000\n",
       "3  2014-11-29 19:00:00.000000\n",
       "4  2014-12-23 11:30:00.000000\n",
       "5  2014-12-27 18:30:00.000000\n",
       "6  2014-12-29 21:30:00.000000\n",
       "7  2015-01-03 04:30:00.000000\n",
       "8  2015-01-24 20:30:00.000000\n",
       "9  2015-01-29 03:30:00.000000"
      ]
     },
     "execution_count": 91,
     "metadata": {},
     "output_type": "execute_result"
    }
   ],
   "source": [
    "nyc_dates = [  \"2014-10-30 15:30:00.000000\",\n",
    "            \"2014-11-03 22:30:00.000000\",\n",
    "            \"2014-11-25 12:00:00.000000\",\n",
    "            \"2014-11-29 19:00:00.000000\",\n",
    "            \"2014-12-23 11:30:00.000000\",\n",
    "            \"2014-12-27 18:30:00.000000\",\n",
    "            \"2014-12-29 21:30:00.000000\",\n",
    "            \"2015-01-03 04:30:00.000000\",\n",
    "            \"2015-01-24 20:30:00.000000\",\n",
    "            \"2015-01-29 03:30:00.000000\"]\n",
    "pd.DataFrame(nyc_dates, columns=['actual']).sort_values('actual')"
   ]
  },
  {
   "cell_type": "code",
   "execution_count": 110,
   "id": "352a2b88-6321-44b1-a0be-a0b0281ad44c",
   "metadata": {},
   "outputs": [],
   "source": [
    "# nyc_dates =  [\n",
    "#         \"2014-11-01 19:00:00.000000\",\n",
    "#         \"2014-11-27 15:30:00.000000\",\n",
    "#         \"2014-12-25 15:00:00.000000\",\n",
    "#         \"2015-01-01 01:00:00.000000\",\n",
    "#         \"2015-01-27 00:00:00.000000\"\n",
    "# ]"
   ]
  },
  {
   "cell_type": "code",
   "execution_count": 236,
   "id": "b21b138e-d872-468c-85d8-a87c808be3c4",
   "metadata": {},
   "outputs": [],
   "source": [
    "nyc_dates =  [\n",
    "        \"2014-11-01\",\n",
    "        \"2014-11-27\",\n",
    "        \"2014-12-25\",\n",
    "        \"2015-01-01\",\n",
    "        \"2015-01-27\"\n",
    "]"
   ]
  },
  {
   "cell_type": "code",
   "execution_count": 245,
   "id": "04f6db93-9f92-4b64-8c15-90b3d1f6edc5",
   "metadata": {},
   "outputs": [
    {
     "data": {
      "text/plain": [
       "<AxesSubplot:title={'center':'NYC Taxi'}, xlabel='timestamp'>"
      ]
     },
     "execution_count": 245,
     "metadata": {},
     "output_type": "execute_result"
    },
    {
     "data": {
      "image/png": "[encoded data removed]",
      "text/plain": [
       "<Figure size 1152x216 with 1 Axes>"
      ]
     },
     "metadata": {
      "needs_background": "light"
     },
     "output_type": "display_data"
    }
   ],
   "source": [
    "nyc_taxi.plot(title=\"NYC Taxi\", alpha=0.6)"
   ]
  },
  {
   "cell_type": "code",
   "execution_count": 262,
   "id": "e670ffa6-f08b-405b-b201-b886ab57bf0a",
   "metadata": {},
   "outputs": [],
   "source": [
    "nyc_taxi.index.freq = '30T'"
   ]
  },
  {
   "cell_type": "code",
   "execution_count": 263,
   "id": "49960997-a5ca-4774-8e01-c7b54ea6eb66",
   "metadata": {},
   "outputs": [
    {
     "data": {
      "text/plain": [
       "DatetimeIndex(['2014-07-01 00:00:00', '2014-07-01 00:30:00',\n",
       "               '2014-07-01 01:00:00', '2014-07-01 01:30:00',\n",
       "               '2014-07-01 02:00:00', '2014-07-01 02:30:00',\n",
       "               '2014-07-01 03:00:00', '2014-07-01 03:30:00',\n",
       "               '2014-07-01 04:00:00', '2014-07-01 04:30:00',\n",
       "               ...\n",
       "               '2015-01-31 19:00:00', '2015-01-31 19:30:00',\n",
       "               '2015-01-31 20:00:00', '2015-01-31 20:30:00',\n",
       "               '2015-01-31 21:00:00', '2015-01-31 21:30:00',\n",
       "               '2015-01-31 22:00:00', '2015-01-31 22:30:00',\n",
       "               '2015-01-31 23:00:00', '2015-01-31 23:30:00'],\n",
       "              dtype='datetime64[ns]', name='timestamp', length=10320, freq='30T')"
      ]
     },
     "execution_count": 263,
     "metadata": {},
     "output_type": "execute_result"
    }
   ],
   "source": [
    "nyc_taxi.index"
   ]
  },
  {
   "cell_type": "code",
   "execution_count": 264,
   "id": "9664eef1-0b66-42d5-a912-8297d5ddbb39",
   "metadata": {},
   "outputs": [],
   "source": [
    "tx = nyc_taxi.resample('D').mean()"
   ]
  },
  {
   "cell_type": "code",
   "execution_count": 266,
   "id": "51c798e3-fa29-4158-b622-004725f3b779",
   "metadata": {},
   "outputs": [],
   "source": [
    "outliers = tx.loc[nyc_dates]"
   ]
  },
  {
   "cell_type": "code",
   "execution_count": 271,
   "id": "f84bce36-b7e3-46f9-9ce7-0bd5ead7c30e",
   "metadata": {},
   "outputs": [
    {
     "data": {
      "image/png": "[encoded data removed]",
      "text/plain": [
       "<Figure size 1152x216 with 1 Axes>"
      ]
     },
     "metadata": {
      "needs_background": "light"
     },
     "output_type": "display_data"
    }
   ],
   "source": [
    "plot_outliers(outliers, tx, 'Known Outliers')"
   ]
  },
  {
   "cell_type": "markdown",
   "id": "914ebaec-8291-44ab-923d-943427af42d4",
   "metadata": {
    "tags": []
   },
   "source": [
    "# Resampling Time Series Data"
   ]
  },
  {
   "cell_type": "code",
   "execution_count": 118,
   "id": "7c99b862-8017-4fb4-8233-5650db8558ed",
   "metadata": {},
   "outputs": [
    {
     "data": {
      "text/html": [
       "<div>\n",
       "<style scoped>\n",
       "    .dataframe tbody tr th:only-of-type {\n",
       "        vertical-align: middle;\n",
       "    }\n",
       "\n",
       "    .dataframe tbody tr th {\n",
       "        vertical-align: top;\n",
       "    }\n",
       "\n",
       "    .dataframe thead th {\n",
       "        text-align: right;\n",
       "    }\n",
       "</style>\n",
       "<table border=\"1\" class=\"dataframe\">\n",
       "  <thead>\n",
       "    <tr style=\"text-align: right;\">\n",
       "      <th></th>\n",
       "      <th>value</th>\n",
       "    </tr>\n",
       "    <tr>\n",
       "      <th>timestamp</th>\n",
       "      <th></th>\n",
       "    </tr>\n",
       "  </thead>\n",
       "  <tbody>\n",
       "    <tr>\n",
       "      <th>2014-07-01 00:00:00</th>\n",
       "      <td>10844</td>\n",
       "    </tr>\n",
       "    <tr>\n",
       "      <th>2014-07-01 00:30:00</th>\n",
       "      <td>8127</td>\n",
       "    </tr>\n",
       "    <tr>\n",
       "      <th>2014-07-01 01:00:00</th>\n",
       "      <td>6210</td>\n",
       "    </tr>\n",
       "    <tr>\n",
       "      <th>2014-07-01 01:30:00</th>\n",
       "      <td>4656</td>\n",
       "    </tr>\n",
       "    <tr>\n",
       "      <th>2014-07-01 02:00:00</th>\n",
       "      <td>3820</td>\n",
       "    </tr>\n",
       "  </tbody>\n",
       "</table>\n",
       "</div>"
      ],
      "text/plain": [
       "                     value\n",
       "timestamp                 \n",
       "2014-07-01 00:00:00  10844\n",
       "2014-07-01 00:30:00   8127\n",
       "2014-07-01 01:00:00   6210\n",
       "2014-07-01 01:30:00   4656\n",
       "2014-07-01 02:00:00   3820"
      ]
     },
     "execution_count": 118,
     "metadata": {},
     "output_type": "execute_result"
    }
   ],
   "source": [
    "nyc_taxi.head()"
   ]
  },
  {
   "cell_type": "code",
   "execution_count": 58,
   "id": "51a9bc55-0e1d-4bb6-bd19-0fd0b771bbb7",
   "metadata": {},
   "outputs": [
    {
     "data": {
      "text/html": [
       "<div>\n",
       "<style scoped>\n",
       "    .dataframe tbody tr th:only-of-type {\n",
       "        vertical-align: middle;\n",
       "    }\n",
       "\n",
       "    .dataframe tbody tr th {\n",
       "        vertical-align: top;\n",
       "    }\n",
       "\n",
       "    .dataframe thead th {\n",
       "        text-align: right;\n",
       "    }\n",
       "</style>\n",
       "<table border=\"1\" class=\"dataframe\">\n",
       "  <thead>\n",
       "    <tr style=\"text-align: right;\">\n",
       "      <th></th>\n",
       "      <th>value</th>\n",
       "    </tr>\n",
       "    <tr>\n",
       "      <th>timestamp</th>\n",
       "      <th></th>\n",
       "    </tr>\n",
       "  </thead>\n",
       "  <tbody>\n",
       "    <tr>\n",
       "      <th>2014-07-01</th>\n",
       "      <td>15540.979167</td>\n",
       "    </tr>\n",
       "    <tr>\n",
       "      <th>2014-07-02</th>\n",
       "      <td>15284.166667</td>\n",
       "    </tr>\n",
       "    <tr>\n",
       "      <th>2014-07-03</th>\n",
       "      <td>14794.625000</td>\n",
       "    </tr>\n",
       "    <tr>\n",
       "      <th>2014-07-04</th>\n",
       "      <td>11511.770833</td>\n",
       "    </tr>\n",
       "    <tr>\n",
       "      <th>2014-07-05</th>\n",
       "      <td>11572.291667</td>\n",
       "    </tr>\n",
       "  </tbody>\n",
       "</table>\n",
       "</div>"
      ],
      "text/plain": [
       "                   value\n",
       "timestamp               \n",
       "2014-07-01  15540.979167\n",
       "2014-07-02  15284.166667\n",
       "2014-07-03  14794.625000\n",
       "2014-07-04  11511.770833\n",
       "2014-07-05  11572.291667"
      ]
     },
     "execution_count": 58,
     "metadata": {},
     "output_type": "execute_result"
    }
   ],
   "source": [
    "df_downsampled = nyc_taxi.resample('D').mean()\n",
    "df_downsampled.head()"
   ]
  },
  {
   "cell_type": "code",
   "execution_count": 59,
   "id": "101863de-72c9-4ce9-99e6-3e0f4b9d3d05",
   "metadata": {},
   "outputs": [
    {
     "data": {
      "text/plain": [
       "Timestamp('2014-07-01 00:00:00', freq='D')"
      ]
     },
     "execution_count": 59,
     "metadata": {},
     "output_type": "execute_result"
    }
   ],
   "source": [
    "df_downsampled.index[0]"
   ]
  },
  {
   "cell_type": "code",
   "execution_count": 60,
   "id": "e1f3ae9c-1b15-4e99-84cd-27bc4b0e7c06",
   "metadata": {},
   "outputs": [
    {
     "data": {
      "text/plain": [
       "<Day>"
      ]
     },
     "execution_count": 60,
     "metadata": {},
     "output_type": "execute_result"
    }
   ],
   "source": [
    "df_downsampled.index.freq"
   ]
  },
  {
   "cell_type": "code",
   "execution_count": 61,
   "id": "14ac53a9-c5fb-446c-81b5-5ab8c1bf366d",
   "metadata": {},
   "outputs": [
    {
     "data": {
      "text/plain": [
       "(215, 1)"
      ]
     },
     "execution_count": 61,
     "metadata": {},
     "output_type": "execute_result"
    }
   ],
   "source": [
    "df_downsampled.shape"
   ]
  },
  {
   "cell_type": "code",
   "execution_count": 12,
   "id": "d9f0fa94-f088-48c2-b281-879cafef5298",
   "metadata": {},
   "outputs": [
    {
     "data": {
      "text/html": [
       "<div>\n",
       "<style scoped>\n",
       "    .dataframe tbody tr th:only-of-type {\n",
       "        vertical-align: middle;\n",
       "    }\n",
       "\n",
       "    .dataframe tbody tr th {\n",
       "        vertical-align: top;\n",
       "    }\n",
       "\n",
       "    .dataframe thead th {\n",
       "        text-align: right;\n",
       "    }\n",
       "</style>\n",
       "<table border=\"1\" class=\"dataframe\">\n",
       "  <thead>\n",
       "    <tr style=\"text-align: right;\">\n",
       "      <th></th>\n",
       "      <th>value</th>\n",
       "    </tr>\n",
       "    <tr>\n",
       "      <th>timestamp</th>\n",
       "      <th></th>\n",
       "    </tr>\n",
       "  </thead>\n",
       "  <tbody>\n",
       "    <tr>\n",
       "      <th>2013-12-02</th>\n",
       "      <td>50382.133560</td>\n",
       "    </tr>\n",
       "    <tr>\n",
       "      <th>2013-12-05</th>\n",
       "      <td>70382.125169</td>\n",
       "    </tr>\n",
       "    <tr>\n",
       "      <th>2013-12-08</th>\n",
       "      <td>59704.334577</td>\n",
       "    </tr>\n",
       "    <tr>\n",
       "      <th>2013-12-11</th>\n",
       "      <td>81755.895600</td>\n",
       "    </tr>\n",
       "    <tr>\n",
       "      <th>2013-12-14</th>\n",
       "      <td>73672.877837</td>\n",
       "    </tr>\n",
       "  </tbody>\n",
       "</table>\n",
       "</div>"
      ],
      "text/plain": [
       "                   value\n",
       "timestamp               \n",
       "2013-12-02  50382.133560\n",
       "2013-12-05  70382.125169\n",
       "2013-12-08  59704.334577\n",
       "2013-12-11  81755.895600\n",
       "2013-12-14  73672.877837"
      ]
     },
     "execution_count": 12,
     "metadata": {},
     "output_type": "execute_result"
    }
   ],
   "source": [
    "df_downsampled = machine_temp.resample('3D').sum()\n",
    "df_downsampled.head()"
   ]
  },
  {
   "cell_type": "code",
   "execution_count": 13,
   "id": "47ed75dc-a9f6-415a-9ea8-9c1a62eeca1d",
   "metadata": {},
   "outputs": [
    {
     "data": {
      "text/plain": [
       "(27, 1)"
      ]
     },
     "execution_count": 13,
     "metadata": {},
     "output_type": "execute_result"
    }
   ],
   "source": [
    "df_downsampled.shape"
   ]
  },
  {
   "cell_type": "code",
   "execution_count": 14,
   "id": "638af2c2-c9b1-449a-8032-d3f453d3cdc0",
   "metadata": {},
   "outputs": [
    {
     "data": {
      "text/plain": [
       "<3 * Days>"
      ]
     },
     "execution_count": 14,
     "metadata": {},
     "output_type": "execute_result"
    }
   ],
   "source": [
    "df_downsampled.index.freq"
   ]
  },
  {
   "cell_type": "code",
   "execution_count": 15,
   "id": "907f139a-17ae-4a6e-abc2-06168d8290e5",
   "metadata": {},
   "outputs": [
    {
     "data": {
      "text/html": [
       "<div>\n",
       "<style scoped>\n",
       "    .dataframe tbody tr th:only-of-type {\n",
       "        vertical-align: middle;\n",
       "    }\n",
       "\n",
       "    .dataframe tbody tr th {\n",
       "        vertical-align: top;\n",
       "    }\n",
       "\n",
       "    .dataframe thead th {\n",
       "        text-align: right;\n",
       "    }\n",
       "</style>\n",
       "<table border=\"1\" class=\"dataframe\">\n",
       "  <thead>\n",
       "    <tr style=\"text-align: right;\">\n",
       "      <th></th>\n",
       "      <th>value</th>\n",
       "    </tr>\n",
       "    <tr>\n",
       "      <th>timestamp</th>\n",
       "      <th></th>\n",
       "    </tr>\n",
       "  </thead>\n",
       "  <tbody>\n",
       "    <tr>\n",
       "      <th>2013-12-02</th>\n",
       "      <td>2648.780734</td>\n",
       "    </tr>\n",
       "    <tr>\n",
       "      <th>2013-12-05</th>\n",
       "      <td>68467.848665</td>\n",
       "    </tr>\n",
       "    <tr>\n",
       "      <th>2013-12-10</th>\n",
       "      <td>109351.963907</td>\n",
       "    </tr>\n",
       "    <tr>\n",
       "      <th>2013-12-13</th>\n",
       "      <td>81755.895600</td>\n",
       "    </tr>\n",
       "    <tr>\n",
       "      <th>2013-12-18</th>\n",
       "      <td>128852.422076</td>\n",
       "    </tr>\n",
       "    <tr>\n",
       "      <th>2013-12-23</th>\n",
       "      <td>133261.059602</td>\n",
       "    </tr>\n",
       "    <tr>\n",
       "      <th>2013-12-26</th>\n",
       "      <td>78367.111514</td>\n",
       "    </tr>\n",
       "    <tr>\n",
       "      <th>2013-12-31</th>\n",
       "      <td>125032.813642</td>\n",
       "    </tr>\n",
       "    <tr>\n",
       "      <th>2014-01-03</th>\n",
       "      <td>79084.584271</td>\n",
       "    </tr>\n",
       "    <tr>\n",
       "      <th>2014-01-08</th>\n",
       "      <td>123764.971006</td>\n",
       "    </tr>\n",
       "  </tbody>\n",
       "</table>\n",
       "</div>"
      ],
      "text/plain": [
       "                    value\n",
       "timestamp                \n",
       "2013-12-02    2648.780734\n",
       "2013-12-05   68467.848665\n",
       "2013-12-10  109351.963907\n",
       "2013-12-13   81755.895600\n",
       "2013-12-18  128852.422076\n",
       "2013-12-23  133261.059602\n",
       "2013-12-26   78367.111514\n",
       "2013-12-31  125032.813642\n",
       "2014-01-03   79084.584271\n",
       "2014-01-08  123764.971006"
      ]
     },
     "execution_count": 15,
     "metadata": {},
     "output_type": "execute_result"
    }
   ],
   "source": [
    "df_downsampled = machine_temp.resample('3B', origin='end_day').sum()\n",
    "df_downsampled.head(10)"
   ]
  },
  {
   "cell_type": "code",
   "execution_count": 16,
   "id": "44433f4e-5bef-4bc0-88c6-45c67cb84676",
   "metadata": {},
   "outputs": [
    {
     "data": {
      "text/html": [
       "<div>\n",
       "<style scoped>\n",
       "    .dataframe tbody tr th:only-of-type {\n",
       "        vertical-align: middle;\n",
       "    }\n",
       "\n",
       "    .dataframe tbody tr th {\n",
       "        vertical-align: top;\n",
       "    }\n",
       "\n",
       "    .dataframe thead th {\n",
       "        text-align: right;\n",
       "    }\n",
       "</style>\n",
       "<table border=\"1\" class=\"dataframe\">\n",
       "  <thead>\n",
       "    <tr style=\"text-align: right;\">\n",
       "      <th></th>\n",
       "      <th>value</th>\n",
       "    </tr>\n",
       "    <tr>\n",
       "      <th>timestamp</th>\n",
       "      <th></th>\n",
       "    </tr>\n",
       "  </thead>\n",
       "  <tbody>\n",
       "    <tr>\n",
       "      <th>2014-07-01 00:00:00</th>\n",
       "      <td>10844.0</td>\n",
       "    </tr>\n",
       "    <tr>\n",
       "      <th>2014-07-01 00:15:00</th>\n",
       "      <td>NaN</td>\n",
       "    </tr>\n",
       "    <tr>\n",
       "      <th>2014-07-01 00:30:00</th>\n",
       "      <td>8127.0</td>\n",
       "    </tr>\n",
       "    <tr>\n",
       "      <th>2014-07-01 00:45:00</th>\n",
       "      <td>NaN</td>\n",
       "    </tr>\n",
       "    <tr>\n",
       "      <th>2014-07-01 01:00:00</th>\n",
       "      <td>6210.0</td>\n",
       "    </tr>\n",
       "  </tbody>\n",
       "</table>\n",
       "</div>"
      ],
      "text/plain": [
       "                       value\n",
       "timestamp                   \n",
       "2014-07-01 00:00:00  10844.0\n",
       "2014-07-01 00:15:00      NaN\n",
       "2014-07-01 00:30:00   8127.0\n",
       "2014-07-01 00:45:00      NaN\n",
       "2014-07-01 01:00:00   6210.0"
      ]
     },
     "execution_count": 16,
     "metadata": {},
     "output_type": "execute_result"
    }
   ],
   "source": [
    "nyc_taxi.resample('15T').mean().head()"
   ]
  },
  {
   "cell_type": "code",
   "execution_count": 17,
   "id": "a9a156da-0f9e-43fd-b4fe-ae9ff38414f5",
   "metadata": {},
   "outputs": [
    {
     "data": {
      "text/html": [
       "<div>\n",
       "<style scoped>\n",
       "    .dataframe tbody tr th:only-of-type {\n",
       "        vertical-align: middle;\n",
       "    }\n",
       "\n",
       "    .dataframe tbody tr th {\n",
       "        vertical-align: top;\n",
       "    }\n",
       "\n",
       "    .dataframe thead th {\n",
       "        text-align: right;\n",
       "    }\n",
       "</style>\n",
       "<table border=\"1\" class=\"dataframe\">\n",
       "  <thead>\n",
       "    <tr style=\"text-align: right;\">\n",
       "      <th></th>\n",
       "      <th>value</th>\n",
       "    </tr>\n",
       "    <tr>\n",
       "      <th>timestamp</th>\n",
       "      <th></th>\n",
       "    </tr>\n",
       "  </thead>\n",
       "  <tbody>\n",
       "    <tr>\n",
       "      <th>2014-07-01 00:00:00</th>\n",
       "      <td>10844</td>\n",
       "    </tr>\n",
       "    <tr>\n",
       "      <th>2014-07-01 00:15:00</th>\n",
       "      <td>10844</td>\n",
       "    </tr>\n",
       "    <tr>\n",
       "      <th>2014-07-01 00:30:00</th>\n",
       "      <td>8127</td>\n",
       "    </tr>\n",
       "    <tr>\n",
       "      <th>2014-07-01 00:45:00</th>\n",
       "      <td>8127</td>\n",
       "    </tr>\n",
       "    <tr>\n",
       "      <th>2014-07-01 01:00:00</th>\n",
       "      <td>6210</td>\n",
       "    </tr>\n",
       "  </tbody>\n",
       "</table>\n",
       "</div>"
      ],
      "text/plain": [
       "                     value\n",
       "timestamp                 \n",
       "2014-07-01 00:00:00  10844\n",
       "2014-07-01 00:15:00  10844\n",
       "2014-07-01 00:30:00   8127\n",
       "2014-07-01 00:45:00   8127\n",
       "2014-07-01 01:00:00   6210"
      ]
     },
     "execution_count": 17,
     "metadata": {},
     "output_type": "execute_result"
    }
   ],
   "source": [
    "nyc_taxi.resample('15T').fillna('ffill').head()"
   ]
  },
  {
   "cell_type": "code",
   "execution_count": 18,
   "id": "a7201965-d43c-4777-a64a-9b3b0b25ea89",
   "metadata": {},
   "outputs": [
    {
     "data": {
      "text/html": [
       "<div>\n",
       "<style scoped>\n",
       "    .dataframe tbody tr th:only-of-type {\n",
       "        vertical-align: middle;\n",
       "    }\n",
       "\n",
       "    .dataframe tbody tr th {\n",
       "        vertical-align: top;\n",
       "    }\n",
       "\n",
       "    .dataframe thead th {\n",
       "        text-align: right;\n",
       "    }\n",
       "</style>\n",
       "<table border=\"1\" class=\"dataframe\">\n",
       "  <thead>\n",
       "    <tr style=\"text-align: right;\">\n",
       "      <th></th>\n",
       "      <th>value</th>\n",
       "    </tr>\n",
       "    <tr>\n",
       "      <th>timestamp</th>\n",
       "      <th></th>\n",
       "    </tr>\n",
       "  </thead>\n",
       "  <tbody>\n",
       "    <tr>\n",
       "      <th>2014-07-01 00:00:00</th>\n",
       "      <td>10844</td>\n",
       "    </tr>\n",
       "    <tr>\n",
       "      <th>2014-07-01 00:15:00</th>\n",
       "      <td>10844</td>\n",
       "    </tr>\n",
       "    <tr>\n",
       "      <th>2014-07-01 00:30:00</th>\n",
       "      <td>8127</td>\n",
       "    </tr>\n",
       "    <tr>\n",
       "      <th>2014-07-01 00:45:00</th>\n",
       "      <td>8127</td>\n",
       "    </tr>\n",
       "    <tr>\n",
       "      <th>2014-07-01 01:00:00</th>\n",
       "      <td>6210</td>\n",
       "    </tr>\n",
       "  </tbody>\n",
       "</table>\n",
       "</div>"
      ],
      "text/plain": [
       "                     value\n",
       "timestamp                 \n",
       "2014-07-01 00:00:00  10844\n",
       "2014-07-01 00:15:00  10844\n",
       "2014-07-01 00:30:00   8127\n",
       "2014-07-01 00:45:00   8127\n",
       "2014-07-01 01:00:00   6210"
      ]
     },
     "execution_count": 18,
     "metadata": {},
     "output_type": "execute_result"
    }
   ],
   "source": [
    "nyc_taxi.resample('15T').ffill().head()"
   ]
  },
  {
   "cell_type": "markdown",
   "id": "ed860a11-e80b-4674-8ea4-2cee2a0e0446",
   "metadata": {},
   "source": [
    "## There is more"
   ]
  },
  {
   "cell_type": "code",
   "execution_count": 19,
   "id": "ed4777c3-aa2e-481d-b103-ad854abf5c90",
   "metadata": {},
   "outputs": [
    {
     "data": {
      "text/html": [
       "<div>\n",
       "<style scoped>\n",
       "    .dataframe tbody tr th:only-of-type {\n",
       "        vertical-align: middle;\n",
       "    }\n",
       "\n",
       "    .dataframe tbody tr th {\n",
       "        vertical-align: top;\n",
       "    }\n",
       "\n",
       "    .dataframe thead tr th {\n",
       "        text-align: left;\n",
       "    }\n",
       "\n",
       "    .dataframe thead tr:last-of-type th {\n",
       "        text-align: right;\n",
       "    }\n",
       "</style>\n",
       "<table border=\"1\" class=\"dataframe\">\n",
       "  <thead>\n",
       "    <tr>\n",
       "      <th></th>\n",
       "      <th colspan=\"5\" halign=\"left\">value</th>\n",
       "    </tr>\n",
       "    <tr>\n",
       "      <th></th>\n",
       "      <th>mean</th>\n",
       "      <th>min</th>\n",
       "      <th>max</th>\n",
       "      <th>median</th>\n",
       "      <th>sum</th>\n",
       "    </tr>\n",
       "    <tr>\n",
       "      <th>timestamp</th>\n",
       "      <th></th>\n",
       "      <th></th>\n",
       "      <th></th>\n",
       "      <th></th>\n",
       "      <th></th>\n",
       "    </tr>\n",
       "  </thead>\n",
       "  <tbody>\n",
       "    <tr>\n",
       "      <th>2014-07-01</th>\n",
       "      <td>14994.084677</td>\n",
       "      <td>1769</td>\n",
       "      <td>29985</td>\n",
       "      <td>16625.5</td>\n",
       "      <td>22311198</td>\n",
       "    </tr>\n",
       "    <tr>\n",
       "      <th>2014-08-01</th>\n",
       "      <td>14580.438844</td>\n",
       "      <td>1841</td>\n",
       "      <td>26062</td>\n",
       "      <td>16184.0</td>\n",
       "      <td>21695693</td>\n",
       "    </tr>\n",
       "    <tr>\n",
       "      <th>2014-09-01</th>\n",
       "      <td>15623.374306</td>\n",
       "      <td>1431</td>\n",
       "      <td>30373</td>\n",
       "      <td>17244.5</td>\n",
       "      <td>22497659</td>\n",
       "    </tr>\n",
       "    <tr>\n",
       "      <th>2014-10-01</th>\n",
       "      <td>16086.851478</td>\n",
       "      <td>1691</td>\n",
       "      <td>28626</td>\n",
       "      <td>17767.5</td>\n",
       "      <td>23937235</td>\n",
       "    </tr>\n",
       "    <tr>\n",
       "      <th>2014-11-01</th>\n",
       "      <td>15492.125000</td>\n",
       "      <td>1683</td>\n",
       "      <td>39197</td>\n",
       "      <td>17287.0</td>\n",
       "      <td>22308660</td>\n",
       "    </tr>\n",
       "    <tr>\n",
       "      <th>2014-12-01</th>\n",
       "      <td>14813.428763</td>\n",
       "      <td>1459</td>\n",
       "      <td>27804</td>\n",
       "      <td>16587.0</td>\n",
       "      <td>22042382</td>\n",
       "    </tr>\n",
       "    <tr>\n",
       "      <th>2015-01-01</th>\n",
       "      <td>14399.790995</td>\n",
       "      <td>8</td>\n",
       "      <td>30236</td>\n",
       "      <td>16061.0</td>\n",
       "      <td>21426889</td>\n",
       "    </tr>\n",
       "  </tbody>\n",
       "</table>\n",
       "</div>"
      ],
      "text/plain": [
       "                   value                                \n",
       "                    mean   min    max   median       sum\n",
       "timestamp                                               \n",
       "2014-07-01  14994.084677  1769  29985  16625.5  22311198\n",
       "2014-08-01  14580.438844  1841  26062  16184.0  21695693\n",
       "2014-09-01  15623.374306  1431  30373  17244.5  22497659\n",
       "2014-10-01  16086.851478  1691  28626  17767.5  23937235\n",
       "2014-11-01  15492.125000  1683  39197  17287.0  22308660\n",
       "2014-12-01  14813.428763  1459  27804  16587.0  22042382\n",
       "2015-01-01  14399.790995     8  30236  16061.0  21426889"
      ]
     },
     "execution_count": 19,
     "metadata": {},
     "output_type": "execute_result"
    }
   ],
   "source": [
    "nyc_taxi.resample('MS').agg(['mean', 'min', \n",
    "                            'max', 'median', 'sum'])"
   ]
  },
  {
   "cell_type": "markdown",
   "id": "b9b4b303-31ae-4bc7-aae5-852b281e2892",
   "metadata": {},
   "source": [
    "# Detecting Outliers using Visualization"
   ]
  },
  {
   "cell_type": "markdown",
   "id": "aff32ef9-3d88-47d6-82b6-6d0aa8007e68",
   "metadata": {},
   "source": [
    "### Histograms"
   ]
  },
  {
   "cell_type": "code",
   "execution_count": 272,
   "id": "aefda02e-3130-4f92-924e-32b6b9dd91b7",
   "metadata": {},
   "outputs": [
    {
     "data": {
      "text/plain": [
       "'0.11.2'"
      ]
     },
     "execution_count": 272,
     "metadata": {},
     "output_type": "execute_result"
    }
   ],
   "source": [
    "import seaborn as sns\n",
    "sns.__version__"
   ]
  },
  {
   "cell_type": "code",
   "execution_count": 361,
   "id": "0fa6f35a-eb98-424e-9b2e-bb6a229a51b8",
   "metadata": {},
   "outputs": [
    {
     "data": {
      "text/html": [
       "<div>\n",
       "<style scoped>\n",
       "    .dataframe tbody tr th:only-of-type {\n",
       "        vertical-align: middle;\n",
       "    }\n",
       "\n",
       "    .dataframe tbody tr th {\n",
       "        vertical-align: top;\n",
       "    }\n",
       "\n",
       "    .dataframe thead th {\n",
       "        text-align: right;\n",
       "    }\n",
       "</style>\n",
       "<table border=\"1\" class=\"dataframe\">\n",
       "  <thead>\n",
       "    <tr style=\"text-align: right;\">\n",
       "      <th></th>\n",
       "      <th>value</th>\n",
       "    </tr>\n",
       "    <tr>\n",
       "      <th>timestamp</th>\n",
       "      <th></th>\n",
       "    </tr>\n",
       "  </thead>\n",
       "  <tbody>\n",
       "    <tr>\n",
       "      <th>2014-11-01</th>\n",
       "      <td>20553.500000</td>\n",
       "    </tr>\n",
       "    <tr>\n",
       "      <th>2014-11-27</th>\n",
       "      <td>10899.666667</td>\n",
       "    </tr>\n",
       "    <tr>\n",
       "      <th>2014-12-25</th>\n",
       "      <td>7902.125000</td>\n",
       "    </tr>\n",
       "    <tr>\n",
       "      <th>2014-12-26</th>\n",
       "      <td>10397.958333</td>\n",
       "    </tr>\n",
       "    <tr>\n",
       "      <th>2015-01-26</th>\n",
       "      <td>7818.979167</td>\n",
       "    </tr>\n",
       "    <tr>\n",
       "      <th>2015-01-27</th>\n",
       "      <td>4834.541667</td>\n",
       "    </tr>\n",
       "  </tbody>\n",
       "</table>\n",
       "</div>"
      ],
      "text/plain": [
       "                   value\n",
       "timestamp               \n",
       "2014-11-01  20553.500000\n",
       "2014-11-27  10899.666667\n",
       "2014-12-25   7902.125000\n",
       "2014-12-26  10397.958333\n",
       "2015-01-26   7818.979167\n",
       "2015-01-27   4834.541667"
      ]
     },
     "execution_count": 361,
     "metadata": {},
     "output_type": "execute_result"
    }
   ],
   "source": [
    "outliers"
   ]
  },
  {
   "cell_type": "code",
   "execution_count": 273,
   "id": "0c359af2-baeb-4e4d-9277-6fc3412ed7a3",
   "metadata": {},
   "outputs": [
    {
     "data": {
      "text/plain": [
       "<AxesSubplot:ylabel='Count'>"
      ]
     },
     "execution_count": 273,
     "metadata": {},
     "output_type": "execute_result"
    },
    {
     "data": {
      "image/png": "[encoded data removed]",
      "text/plain": [
       "<Figure size 1152x216 with 1 Axes>"
      ]
     },
     "metadata": {
      "needs_background": "light"
     },
     "output_type": "display_data"
    }
   ],
   "source": [
    "sns.histplot(tx)"
   ]
  },
  {
   "cell_type": "code",
   "execution_count": 213,
   "id": "26f10b73-d71c-4a59-b044-e0ca2a3d51ff",
   "metadata": {},
   "outputs": [
    {
     "data": {
      "text/plain": [
       "<seaborn.axisgrid.FacetGrid at 0x7f7fcad924c0>"
      ]
     },
     "execution_count": 213,
     "metadata": {},
     "output_type": "execute_result"
    },
    {
     "data": {
      "image/png": "[encoded data removed]",
      "text/plain": [
       "<Figure size 927.375x216 with 1 Axes>"
      ]
     },
     "metadata": {
      "needs_background": "light"
     },
     "output_type": "display_data"
    }
   ],
   "source": [
    "sns.displot(tx, kind='hist', height=3, aspect=4)"
   ]
  },
  {
   "cell_type": "code",
   "execution_count": 380,
   "id": "6e3d7be2-a0e5-42c6-93b3-27e76df4542c",
   "metadata": {},
   "outputs": [
    {
     "data": {
      "text/plain": [
       "<AxesSubplot:xlabel='value'>"
      ]
     },
     "execution_count": 380,
     "metadata": {},
     "output_type": "execute_result"
    },
    {
     "data": {
      "image/png": "[encoded data removed]",
      "text/plain": [
       "<Figure size 1152x216 with 1 Axes>"
      ]
     },
     "metadata": {
      "needs_background": "light"
     },
     "output_type": "display_data"
    }
   ],
   "source": [
    "sns.boxplot(tx['value'], whis=1.5)"
   ]
  },
  {
   "cell_type": "code",
   "execution_count": 381,
   "id": "3ff7a4cd-0820-4222-9ac2-d6548c194fb3",
   "metadata": {},
   "outputs": [
    {
     "data": {
      "text/html": [
       "<div>\n",
       "<style scoped>\n",
       "    .dataframe tbody tr th:only-of-type {\n",
       "        vertical-align: middle;\n",
       "    }\n",
       "\n",
       "    .dataframe tbody tr th {\n",
       "        vertical-align: top;\n",
       "    }\n",
       "\n",
       "    .dataframe thead th {\n",
       "        text-align: right;\n",
       "    }\n",
       "</style>\n",
       "<table border=\"1\" class=\"dataframe\">\n",
       "  <thead>\n",
       "    <tr style=\"text-align: right;\">\n",
       "      <th></th>\n",
       "      <th>value</th>\n",
       "    </tr>\n",
       "  </thead>\n",
       "  <tbody>\n",
       "    <tr>\n",
       "      <th>count</th>\n",
       "      <td>215.000000</td>\n",
       "    </tr>\n",
       "    <tr>\n",
       "      <th>mean</th>\n",
       "      <td>15137.569380</td>\n",
       "    </tr>\n",
       "    <tr>\n",
       "      <th>std</th>\n",
       "      <td>1937.391020</td>\n",
       "    </tr>\n",
       "    <tr>\n",
       "      <th>min</th>\n",
       "      <td>4834.541667</td>\n",
       "    </tr>\n",
       "    <tr>\n",
       "      <th>25%</th>\n",
       "      <td>14205.197917</td>\n",
       "    </tr>\n",
       "    <tr>\n",
       "      <th>50%</th>\n",
       "      <td>15299.937500</td>\n",
       "    </tr>\n",
       "    <tr>\n",
       "      <th>75%</th>\n",
       "      <td>16209.427083</td>\n",
       "    </tr>\n",
       "    <tr>\n",
       "      <th>max</th>\n",
       "      <td>20553.500000</td>\n",
       "    </tr>\n",
       "  </tbody>\n",
       "</table>\n",
       "</div>"
      ],
      "text/plain": [
       "              value\n",
       "count    215.000000\n",
       "mean   15137.569380\n",
       "std     1937.391020\n",
       "min     4834.541667\n",
       "25%    14205.197917\n",
       "50%    15299.937500\n",
       "75%    16209.427083\n",
       "max    20553.500000"
      ]
     },
     "execution_count": 381,
     "metadata": {},
     "output_type": "execute_result"
    }
   ],
   "source": [
    "tx.describe()"
   ]
  },
  {
   "cell_type": "code",
   "execution_count": 382,
   "id": "fd0b82c1-6a4c-4b27-b4dd-c044b1ee4489",
   "metadata": {},
   "outputs": [
    {
     "data": {
      "text/plain": [
       "<AxesSubplot:xlabel='value'>"
      ]
     },
     "execution_count": 382,
     "metadata": {},
     "output_type": "execute_result"
    },
    {
     "data": {
      "image/png": "[encoded data removed]",
      "text/plain": [
       "<Figure size 1152x216 with 1 Axes>"
      ]
     },
     "metadata": {
      "needs_background": "light"
     },
     "output_type": "display_data"
    }
   ],
   "source": [
    "sns.boxenplot(tx['value'])"
   ]
  },
  {
   "cell_type": "code",
   "execution_count": 402,
   "id": "5c81c89a-87d2-4187-9367-0eeaaea9a8bf",
   "metadata": {},
   "outputs": [
    {
     "data": {
      "text/plain": [
       "<AxesSubplot:xlabel='value'>"
      ]
     },
     "execution_count": 402,
     "metadata": {},
     "output_type": "execute_result"
    },
    {
     "data": {
      "image/png": "[encoded data removed]",
      "text/plain": [
       "<Figure size 1152x216 with 1 Axes>"
      ]
     },
     "metadata": {
      "needs_background": "light"
     },
     "output_type": "display_data"
    }
   ],
   "source": [
    "sns.boxenplot(tx['value'], k_depth=2)"
   ]
  },
  {
   "cell_type": "code",
   "execution_count": 322,
   "id": "175ee08a-007e-4b43-a023-48bdea0c7568",
   "metadata": {},
   "outputs": [
    {
     "data": {
      "image/png": "[encoded data removed]",
      "text/plain": [
       "<Figure size 1152x216 with 1 Axes>"
      ]
     },
     "metadata": {
      "needs_background": "light"
     },
     "output_type": "display_data"
    },
    {
     "data": {
      "image/png": "[encoded data removed]",
      "text/plain": [
       "<Figure size 1152x216 with 1 Axes>"
      ]
     },
     "metadata": {
      "needs_background": "light"
     },
     "output_type": "display_data"
    },
    {
     "data": {
      "image/png": "[encoded data removed]",
      "text/plain": [
       "<Figure size 1152x216 with 1 Axes>"
      ]
     },
     "metadata": {
      "needs_background": "light"
     },
     "output_type": "display_data"
    },
    {
     "data": {
      "image/png": "[encoded data removed]",
      "text/plain": [
       "<Figure size 1152x216 with 1 Axes>"
      ]
     },
     "metadata": {
      "needs_background": "light"
     },
     "output_type": "display_data"
    }
   ],
   "source": [
    "for k in [\"tukey\", \"proportion\", \"trustworthy\", \"full\"]:\n",
    "    sns.boxenplot(tx['value'], k_depth=k)Ç\n",
    "    plt.title(k)\n",
    "    plt.show()"
   ]
  },
  {
   "cell_type": "code",
   "execution_count": 411,
   "id": "010cb6bb-6ba1-45fc-b4b2-7cb24ce73879",
   "metadata": {},
   "outputs": [
    {
     "data": {
      "text/html": [
       "<div>\n",
       "<style scoped>\n",
       "    .dataframe tbody tr th:only-of-type {\n",
       "        vertical-align: middle;\n",
       "    }\n",
       "\n",
       "    .dataframe tbody tr th {\n",
       "        vertical-align: top;\n",
       "    }\n",
       "\n",
       "    .dataframe thead th {\n",
       "        text-align: right;\n",
       "    }\n",
       "</style>\n",
       "<table border=\"1\" class=\"dataframe\">\n",
       "  <thead>\n",
       "    <tr style=\"text-align: right;\">\n",
       "      <th></th>\n",
       "      <th>value</th>\n",
       "    </tr>\n",
       "  </thead>\n",
       "  <tbody>\n",
       "    <tr>\n",
       "      <th>count</th>\n",
       "      <td>215.000000</td>\n",
       "    </tr>\n",
       "    <tr>\n",
       "      <th>mean</th>\n",
       "      <td>15137.569380</td>\n",
       "    </tr>\n",
       "    <tr>\n",
       "      <th>std</th>\n",
       "      <td>1937.391020</td>\n",
       "    </tr>\n",
       "    <tr>\n",
       "      <th>min</th>\n",
       "      <td>4834.541667</td>\n",
       "    </tr>\n",
       "    <tr>\n",
       "      <th>25%</th>\n",
       "      <td>14205.197917</td>\n",
       "    </tr>\n",
       "    <tr>\n",
       "      <th>50%</th>\n",
       "      <td>15299.937500</td>\n",
       "    </tr>\n",
       "    <tr>\n",
       "      <th>75%</th>\n",
       "      <td>16209.427083</td>\n",
       "    </tr>\n",
       "    <tr>\n",
       "      <th>max</th>\n",
       "      <td>20553.500000</td>\n",
       "    </tr>\n",
       "  </tbody>\n",
       "</table>\n",
       "</div>"
      ],
      "text/plain": [
       "              value\n",
       "count    215.000000\n",
       "mean   15137.569380\n",
       "std     1937.391020\n",
       "min     4834.541667\n",
       "25%    14205.197917\n",
       "50%    15299.937500\n",
       "75%    16209.427083\n",
       "max    20553.500000"
      ]
     },
     "execution_count": 411,
     "metadata": {},
     "output_type": "execute_result"
    }
   ],
   "source": [
    "tx.describe()"
   ]
  },
  {
   "cell_type": "code",
   "execution_count": 410,
   "id": "1a049334-a21c-433b-be48-1c407a474c6a",
   "metadata": {},
   "outputs": [
    {
     "data": {
      "text/plain": [
       "<AxesSubplot:xlabel='value'>"
      ]
     },
     "execution_count": 410,
     "metadata": {},
     "output_type": "execute_result"
    },
    {
     "data": {
      "image/png": "[encoded data removed]",
      "text/plain": [
       "<Figure size 1152x216 with 1 Axes>"
      ]
     },
     "metadata": {
      "needs_background": "light"
     },
     "output_type": "display_data"
    }
   ],
   "source": [
    "sns.violinplot(tx['value'], inner='quartile')"
   ]
  },
  {
   "cell_type": "code",
   "execution_count": 357,
   "id": "fa5c9d7e-b14b-4877-8eb0-c8feb0f3160c",
   "metadata": {},
   "outputs": [],
   "source": [
    "from pandas.plotting import lag_plot, autocorrelation_plot"
   ]
  },
  {
   "cell_type": "code",
   "execution_count": 362,
   "id": "cc1a9778-6c51-4c93-a8ad-f3678edd4ae8",
   "metadata": {},
   "outputs": [
    {
     "data": {
      "text/html": [
       "<div>\n",
       "<style scoped>\n",
       "    .dataframe tbody tr th:only-of-type {\n",
       "        vertical-align: middle;\n",
       "    }\n",
       "\n",
       "    .dataframe tbody tr th {\n",
       "        vertical-align: top;\n",
       "    }\n",
       "\n",
       "    .dataframe thead th {\n",
       "        text-align: right;\n",
       "    }\n",
       "</style>\n",
       "<table border=\"1\" class=\"dataframe\">\n",
       "  <thead>\n",
       "    <tr style=\"text-align: right;\">\n",
       "      <th></th>\n",
       "      <th>value</th>\n",
       "    </tr>\n",
       "    <tr>\n",
       "      <th>timestamp</th>\n",
       "      <th></th>\n",
       "    </tr>\n",
       "  </thead>\n",
       "  <tbody>\n",
       "    <tr>\n",
       "      <th>2014-11-01</th>\n",
       "      <td>20553.500000</td>\n",
       "    </tr>\n",
       "    <tr>\n",
       "      <th>2014-11-27</th>\n",
       "      <td>10899.666667</td>\n",
       "    </tr>\n",
       "    <tr>\n",
       "      <th>2014-12-25</th>\n",
       "      <td>7902.125000</td>\n",
       "    </tr>\n",
       "    <tr>\n",
       "      <th>2014-12-26</th>\n",
       "      <td>10397.958333</td>\n",
       "    </tr>\n",
       "    <tr>\n",
       "      <th>2015-01-26</th>\n",
       "      <td>7818.979167</td>\n",
       "    </tr>\n",
       "    <tr>\n",
       "      <th>2015-01-27</th>\n",
       "      <td>4834.541667</td>\n",
       "    </tr>\n",
       "  </tbody>\n",
       "</table>\n",
       "</div>"
      ],
      "text/plain": [
       "                   value\n",
       "timestamp               \n",
       "2014-11-01  20553.500000\n",
       "2014-11-27  10899.666667\n",
       "2014-12-25   7902.125000\n",
       "2014-12-26  10397.958333\n",
       "2015-01-26   7818.979167\n",
       "2015-01-27   4834.541667"
      ]
     },
     "execution_count": 362,
     "metadata": {},
     "output_type": "execute_result"
    }
   ],
   "source": [
    "outliers"
   ]
  },
  {
   "cell_type": "code",
   "execution_count": 356,
   "id": "61e79f6a-2d8b-48a1-a8d7-9c0c62599237",
   "metadata": {},
   "outputs": [
    {
     "data": {
      "text/plain": [
       "<AxesSubplot:xlabel='y(t)', ylabel='y(t + 1)'>"
      ]
     },
     "execution_count": 356,
     "metadata": {},
     "output_type": "execute_result"
    },
    {
     "data": {
      "image/png": "[encoded data removed]",
      "text/plain": [
       "<Figure size 1152x216 with 1 Axes>"
      ]
     },
     "metadata": {
      "needs_background": "light"
     },
     "output_type": "display_data"
    }
   ],
   "source": [
    "lag_plot(tx)"
   ]
  },
  {
   "cell_type": "code",
   "execution_count": 220,
   "id": "086b0f7b-2bba-47f1-a344-8f2d92a95ad4",
   "metadata": {},
   "outputs": [
    {
     "data": {
      "text/html": [
       "<div>\n",
       "<style scoped>\n",
       "    .dataframe tbody tr th:only-of-type {\n",
       "        vertical-align: middle;\n",
       "    }\n",
       "\n",
       "    .dataframe tbody tr th {\n",
       "        vertical-align: top;\n",
       "    }\n",
       "\n",
       "    .dataframe thead th {\n",
       "        text-align: right;\n",
       "    }\n",
       "</style>\n",
       "<table border=\"1\" class=\"dataframe\">\n",
       "  <thead>\n",
       "    <tr style=\"text-align: right;\">\n",
       "      <th></th>\n",
       "      <th>value</th>\n",
       "    </tr>\n",
       "  </thead>\n",
       "  <tbody>\n",
       "    <tr>\n",
       "      <th>count</th>\n",
       "      <td>215.000000</td>\n",
       "    </tr>\n",
       "    <tr>\n",
       "      <th>mean</th>\n",
       "      <td>15137.569380</td>\n",
       "    </tr>\n",
       "    <tr>\n",
       "      <th>std</th>\n",
       "      <td>1937.391020</td>\n",
       "    </tr>\n",
       "    <tr>\n",
       "      <th>min</th>\n",
       "      <td>4834.541667</td>\n",
       "    </tr>\n",
       "    <tr>\n",
       "      <th>5%</th>\n",
       "      <td>11998.181250</td>\n",
       "    </tr>\n",
       "    <tr>\n",
       "      <th>10%</th>\n",
       "      <td>13043.854167</td>\n",
       "    </tr>\n",
       "    <tr>\n",
       "      <th>25%</th>\n",
       "      <td>14205.197917</td>\n",
       "    </tr>\n",
       "    <tr>\n",
       "      <th>50%</th>\n",
       "      <td>15299.937500</td>\n",
       "    </tr>\n",
       "    <tr>\n",
       "      <th>75%</th>\n",
       "      <td>16209.427083</td>\n",
       "    </tr>\n",
       "    <tr>\n",
       "      <th>90%</th>\n",
       "      <td>17279.300000</td>\n",
       "    </tr>\n",
       "    <tr>\n",
       "      <th>95%</th>\n",
       "      <td>18321.616667</td>\n",
       "    </tr>\n",
       "    <tr>\n",
       "      <th>max</th>\n",
       "      <td>20553.500000</td>\n",
       "    </tr>\n",
       "  </tbody>\n",
       "</table>\n",
       "</div>"
      ],
      "text/plain": [
       "              value\n",
       "count    215.000000\n",
       "mean   15137.569380\n",
       "std     1937.391020\n",
       "min     4834.541667\n",
       "5%     11998.181250\n",
       "10%    13043.854167\n",
       "25%    14205.197917\n",
       "50%    15299.937500\n",
       "75%    16209.427083\n",
       "90%    17279.300000\n",
       "95%    18321.616667\n",
       "max    20553.500000"
      ]
     },
     "execution_count": 220,
     "metadata": {},
     "output_type": "execute_result"
    }
   ],
   "source": [
    "percentiles = [0.05, .10, .25, .5, .75, .90, .95]\n",
    "stats = tx.describe(percentiles=percentiles)\n",
    "stats"
   ]
  },
  {
   "cell_type": "markdown",
   "id": "543ebc78-1f62-4c50-ac7d-bcb3517f5734",
   "metadata": {},
   "source": [
    "### IQR "
   ]
  },
  {
   "cell_type": "code",
   "execution_count": 277,
   "id": "a5c27ee6-2dfa-46bb-803c-352588b5e1c7",
   "metadata": {},
   "outputs": [],
   "source": [
    "def iqr_outliers(data):\n",
    "    q1, q3 = np.percentile(data, [25, 75])\n",
    "    IQR = q3 - q1\n",
    "    lower_fence = q1 - (1.5 * IQR)\n",
    "    upper_fence = q3 + (1.5 * IQR)\n",
    "    return data[(data.value > upper_fence) | (data.value < lower_fence)]"
   ]
  },
  {
   "cell_type": "code",
   "execution_count": 278,
   "id": "59b6a74d-9a65-47ac-8d2f-d616a2f24c80",
   "metadata": {},
   "outputs": [
    {
     "data": {
      "text/html": [
       "<div>\n",
       "<style scoped>\n",
       "    .dataframe tbody tr th:only-of-type {\n",
       "        vertical-align: middle;\n",
       "    }\n",
       "\n",
       "    .dataframe tbody tr th {\n",
       "        vertical-align: top;\n",
       "    }\n",
       "\n",
       "    .dataframe thead th {\n",
       "        text-align: right;\n",
       "    }\n",
       "</style>\n",
       "<table border=\"1\" class=\"dataframe\">\n",
       "  <thead>\n",
       "    <tr style=\"text-align: right;\">\n",
       "      <th></th>\n",
       "      <th>value</th>\n",
       "    </tr>\n",
       "    <tr>\n",
       "      <th>timestamp</th>\n",
       "      <th></th>\n",
       "    </tr>\n",
       "  </thead>\n",
       "  <tbody>\n",
       "    <tr>\n",
       "      <th>2014-11-01</th>\n",
       "      <td>20553.500000</td>\n",
       "    </tr>\n",
       "    <tr>\n",
       "      <th>2014-11-27</th>\n",
       "      <td>10899.666667</td>\n",
       "    </tr>\n",
       "    <tr>\n",
       "      <th>2014-12-25</th>\n",
       "      <td>7902.125000</td>\n",
       "    </tr>\n",
       "    <tr>\n",
       "      <th>2014-12-26</th>\n",
       "      <td>10397.958333</td>\n",
       "    </tr>\n",
       "    <tr>\n",
       "      <th>2015-01-26</th>\n",
       "      <td>7818.979167</td>\n",
       "    </tr>\n",
       "    <tr>\n",
       "      <th>2015-01-27</th>\n",
       "      <td>4834.541667</td>\n",
       "    </tr>\n",
       "  </tbody>\n",
       "</table>\n",
       "</div>"
      ],
      "text/plain": [
       "                   value\n",
       "timestamp               \n",
       "2014-11-01  20553.500000\n",
       "2014-11-27  10899.666667\n",
       "2014-12-25   7902.125000\n",
       "2014-12-26  10397.958333\n",
       "2015-01-26   7818.979167\n",
       "2015-01-27   4834.541667"
      ]
     },
     "execution_count": 278,
     "metadata": {},
     "output_type": "execute_result"
    }
   ],
   "source": [
    "iqr_outliers(tx)"
   ]
  },
  {
   "cell_type": "code",
   "execution_count": 279,
   "id": "481b2e44-c5a8-459b-ae7f-8da0c7e9b2ed",
   "metadata": {},
   "outputs": [
    {
     "data": {
      "image/png": "[encoded data removed]",
      "text/plain": [
       "<Figure size 1152x216 with 1 Axes>"
      ]
     },
     "metadata": {
      "needs_background": "light"
     },
     "output_type": "display_data"
    }
   ],
   "source": [
    "outliers = iqr_outliers(tx)\n",
    "plot_outliers(outliers, tx, 'Outliers using IQR')"
   ]
  },
  {
   "cell_type": "markdown",
   "id": "d638f341-3aad-4875-99b4-894a6ddb77e9",
   "metadata": {},
   "source": [
    "Z-Scores"
   ]
  },
  {
   "cell_type": "markdown",
   "id": "e73868c9-630e-42d7-b576-c5621323cbce",
   "metadata": {},
   "source": [
    "$$\n",
    "\\Large z = \\frac{x - \\mu}{\\sigma}\n",
    "$$"
   ]
  },
  {
   "cell_type": "code",
   "execution_count": 157,
   "id": "f5347f56-8ea6-4bd0-9fe1-a29af6f9598e",
   "metadata": {},
   "outputs": [],
   "source": [
    "def zscore(df, degree=3):\n",
    "    data = df.copy()\n",
    "    data['zscore'] = (data - data.mean())/data.std()\n",
    "    \n",
    "    return data[(data['zscore'] >= degree) | (data['zscore'] <= -degree)]['value'], data"
   ]
  },
  {
   "cell_type": "code",
   "execution_count": 169,
   "id": "c093f6bb-a0cd-402e-a0f0-8e9c09478fd0",
   "metadata": {},
   "outputs": [],
   "source": [
    "threshold = 3\n",
    "outliers, transformed = zscore(tx, threshold)"
   ]
  },
  {
   "cell_type": "code",
   "execution_count": 170,
   "id": "1d86f20b-5da8-4776-80a6-db09e2428d11",
   "metadata": {},
   "outputs": [
    {
     "data": {
      "text/plain": [
       "array([[<AxesSubplot:title={'center':'value'}>,\n",
       "        <AxesSubplot:title={'center':'zscore'}>]], dtype=object)"
      ]
     },
     "execution_count": 170,
     "metadata": {},
     "output_type": "execute_result"
    },
    {
     "data": {
      "image/png": "[encoded data removed]",
      "text/plain": [
       "<Figure size 1152x216 with 2 Axes>"
      ]
     },
     "metadata": {
      "needs_background": "light"
     },
     "output_type": "display_data"
    }
   ],
   "source": [
    "transformed.hist()"
   ]
  },
  {
   "cell_type": "code",
   "execution_count": 172,
   "id": "305395ff-4c22-4afb-92d6-2adad6e8a22e",
   "metadata": {},
   "outputs": [
    {
     "data": {
      "text/plain": [
       "timestamp\n",
       "2014-12-25    7902.125000\n",
       "2015-01-26    7818.979167\n",
       "2015-01-27    4834.541667\n",
       "Name: value, dtype: float64"
      ]
     },
     "execution_count": 172,
     "metadata": {},
     "output_type": "execute_result"
    }
   ],
   "source": [
    "outliers"
   ]
  },
  {
   "cell_type": "code",
   "execution_count": 175,
   "id": "4f10fcd9-af19-477f-bc2e-0fd797f3cf86",
   "metadata": {},
   "outputs": [
    {
     "data": {
      "image/png": "[encoded data removed]",
      "text/plain": [
       "<Figure size 1152x216 with 1 Axes>"
      ]
     },
     "metadata": {
      "needs_background": "light"
     },
     "output_type": "display_data"
    }
   ],
   "source": [
    "plot_outliers(outliers, tx, 'Outliers using Z-score')"
   ]
  },
  {
   "cell_type": "markdown",
   "id": "3b320c2c-851b-44d3-b359-a7c1bb3ef2ee",
   "metadata": {
    "tags": []
   },
   "source": [
    "### There is more"
   ]
  },
  {
   "cell_type": "code",
   "execution_count": 176,
   "id": "71b74325-6565-4d3c-92f6-c24fcd228c83",
   "metadata": {},
   "outputs": [],
   "source": [
    "from statsmodels.stats.diagnostic import kstest_normal\n",
    "\n",
    "def test_normal(df):\n",
    "    t_test, p_value = kstest_normal(df)\n",
    "    if p_value < 0.05:\n",
    "        print(\"Reject null hypothesis. Data is not normal\")\n",
    "    else:\n",
    "        print(\"Fail to reject null hypothesis. Data is normal\")"
   ]
  },
  {
   "cell_type": "code",
   "execution_count": 177,
   "id": "1334509d-504f-4a89-afd4-445375978654",
   "metadata": {},
   "outputs": [
    {
     "name": "stdout",
     "output_type": "stream",
     "text": [
      "Reject null hypothesis. Data is not normal\n"
     ]
    }
   ],
   "source": [
    "test_normal(tx)"
   ]
  },
  {
   "cell_type": "markdown",
   "id": "991c4169-94eb-4c98-98f2-fd5107df34c9",
   "metadata": {},
   "source": [
    "# Modified Z-Score"
   ]
  },
  {
   "cell_type": "code",
   "execution_count": 178,
   "id": "7eb6cfaa-392a-4c94-a404-87df2bd7517d",
   "metadata": {},
   "outputs": [
    {
     "data": {
      "text/plain": [
       "0.6744897501960817"
      ]
     },
     "execution_count": 178,
     "metadata": {},
     "output_type": "execute_result"
    }
   ],
   "source": [
    "import scipy.stats as stats\n",
    "stats.norm.ppf(0.75)"
   ]
  },
  {
   "cell_type": "code",
   "execution_count": 183,
   "id": "95cee756-4ee7-443b-882d-86ee3a940585",
   "metadata": {},
   "outputs": [],
   "source": [
    "def modified_zscore(df, degree=3):\n",
    "    data = df.copy()\n",
    "    s = stats.norm.ppf(0.75)\n",
    "    numerator = s*(data - data.median())\n",
    "    denominator = np.abs(data - data.median()).median()\n",
    "    data['m_zscore'] = numerator/denominator\n",
    "    \n",
    "    return data[(data['m_zscore'] > degree) | (data['m_zscore'] < -degree)]['value'], data"
   ]
  },
  {
   "cell_type": "code",
   "execution_count": 184,
   "id": "ecf389ba-2bef-441e-ada8-3f2da8f958f8",
   "metadata": {},
   "outputs": [],
   "source": [
    "threshold = 3\n",
    "outliers, transformed = modified_zscore(tx, threshold)"
   ]
  },
  {
   "cell_type": "code",
   "execution_count": 185,
   "id": "ea13b6af-082e-47c9-ab1f-f2a9f70fe701",
   "metadata": {},
   "outputs": [
    {
     "data": {
      "text/plain": [
       "(6,)"
      ]
     },
     "execution_count": 185,
     "metadata": {},
     "output_type": "execute_result"
    }
   ],
   "source": [
    "outliers.shape"
   ]
  },
  {
   "cell_type": "code",
   "execution_count": 187,
   "id": "c89f2c6a-f492-4c03-b05e-5333535d25a7",
   "metadata": {},
   "outputs": [
    {
     "data": {
      "image/png": "[encoded data removed]",
      "text/plain": [
       "<Figure size 1152x216 with 1 Axes>"
      ]
     },
     "metadata": {
      "needs_background": "light"
     },
     "output_type": "display_data"
    }
   ],
   "source": [
    "plot_outliers(outliers, tx, 'Outliers using Modified Z-score')"
   ]
  },
  {
   "cell_type": "code",
   "execution_count": 188,
   "id": "c3114c7d-83bc-4496-9992-22fc9a4bf572",
   "metadata": {},
   "outputs": [],
   "source": [
    "from statsmodels.tsa.seasonal import STL, seasonal_decompose\n",
    "\n",
    "stl = STL(tx)\n",
    "res = stl.fit()"
   ]
  },
  {
   "cell_type": "code",
   "execution_count": 190,
   "id": "c2cc4183-d0d4-4f4a-9cac-8edbefc9482e",
   "metadata": {},
   "outputs": [
    {
     "data": {
      "text/plain": [
       "<AxesSubplot:xlabel='timestamp'>"
      ]
     },
     "execution_count": 190,
     "metadata": {},
     "output_type": "execute_result"
    },
    {
     "data": {
      "image/png": "[encoded data removed]",
      "text/plain": [
       "<Figure size 576x288 with 1 Axes>"
      ]
     },
     "metadata": {
      "needs_background": "light"
     },
     "output_type": "display_data"
    }
   ],
   "source": [
    "res.resid.plot(style='o', figsize=(8,4))"
   ]
  },
  {
   "cell_type": "code",
   "execution_count": 191,
   "id": "fd7d2f80-e1f9-4d3c-9efb-a7f263d818cd",
   "metadata": {},
   "outputs": [],
   "source": [
    "results = seasonal_decompose(tx, model='multiplicative')"
   ]
  },
  {
   "cell_type": "code",
   "execution_count": 192,
   "id": "c2af68d3-9c38-4bbf-af13-87771c364ebb",
   "metadata": {},
   "outputs": [
    {
     "data": {
      "text/plain": [
       "<AxesSubplot:xlabel='timestamp'>"
      ]
     },
     "execution_count": 192,
     "metadata": {},
     "output_type": "execute_result"
    },
    {
     "data": {
      "image/png": "[encoded data removed]",
      "text/plain": [
       "<Figure size 576x288 with 1 Axes>"
      ]
     },
     "metadata": {
      "needs_background": "light"
     },
     "output_type": "display_data"
    }
   ],
   "source": [
    "results.resid.plot(style='o', figsize=(8,4))"
   ]
  },
  {
   "cell_type": "code",
   "execution_count": 193,
   "id": "1a5d04b7-b8d3-4d9a-99a9-0f4521640b64",
   "metadata": {},
   "outputs": [
    {
     "data": {
      "text/plain": [
       "<AxesSubplot:xlabel='timestamp'>"
      ]
     },
     "execution_count": 193,
     "metadata": {},
     "output_type": "execute_result"
    },
    {
     "data": {
      "image/png": "[encoded data removed]",
      "text/plain": [
       "<Figure size 576x288 with 1 Axes>"
      ]
     },
     "metadata": {
      "needs_background": "light"
     },
     "output_type": "display_data"
    }
   ],
   "source": [
    "results.resid.plot(style='o', figsize=(8,4))"
   ]
  },
  {
   "cell_type": "code",
   "execution_count": 194,
   "id": "c0ed9df5-4859-4620-8038-f75c71d3ce1a",
   "metadata": {},
   "outputs": [
    {
     "data": {
      "text/plain": [
       "<AxesSubplot:xlabel='timestamp'>"
      ]
     },
     "execution_count": 194,
     "metadata": {},
     "output_type": "execute_result"
    },
    {
     "data": {
      "image/png": "[encoded data removed]",
      "text/plain": [
       "<Figure size 576x288 with 1 Axes>"
      ]
     },
     "metadata": {
      "needs_background": "light"
     },
     "output_type": "display_data"
    }
   ],
   "source": [
    "tx.plot(style='o', figsize=(8,4))"
   ]
  },
  {
   "cell_type": "code",
   "execution_count": null,
   "id": "6128e87f-fc5f-4307-b1b5-2b7a4b0b0f9e",
   "metadata": {},
   "outputs": [],
   "source": []
  }
 ],
 "metadata": {
  "kernelspec": {
   "display_name": "Python [conda env:packt]",
   "language": "python",
   "name": "conda-env-packt-py"
  },
  "language_info": {
   "codemirror_mode": {
    "name": "ipython",
    "version": 3
   },
   "file_extension": ".py",
   "mimetype": "text/x-python",
   "name": "python",
   "nbconvert_exporter": "python",
   "pygments_lexer": "ipython3",
   "version": "3.8.12"
  }
 },
 "nbformat": 4,
 "nbformat_minor": 5
}
